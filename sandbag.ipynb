{
 "cells": [
  {
   "cell_type": "markdown",
   "id": "a7d5aa85",
   "metadata": {},
   "source": [
    "# crowling systemを作る"
   ]
  },
  {
   "cell_type": "code",
   "execution_count": 5,
   "id": "9a9ffa05",
   "metadata": {},
   "outputs": [],
   "source": [
    "import requests\n",
    "import lxml.html\n",
    "\n",
    "import time  # timeモジュールをインポートする。\n",
    "import re\n",
    "\n",
    "import gspread\n",
    "import json\n",
    "from oauth2client.service_account import ServiceAccountCredentials"
   ]
  },
  {
   "cell_type": "code",
   "execution_count": 6,
   "id": "3e7ba0c4",
   "metadata": {},
   "outputs": [],
   "source": [
    "response = requests.get('https://gihyo.jp/dp')"
   ]
  },
  {
   "cell_type": "code",
   "execution_count": 8,
   "id": "13371798",
   "metadata": {},
   "outputs": [],
   "source": [
    "root = lxml.html.fromstring(response.content)"
   ]
  },
  {
   "cell_type": "code",
   "execution_count": 10,
   "id": "368bc498",
   "metadata": {},
   "outputs": [
    {
     "name": "stdout",
     "output_type": "stream",
     "text": [
      "/dp/ebook/2021/978-4-297-12386-4\n",
      "/dp/ebook/2021/978-4-297-12480-9\n",
      "/dp/ebook/2021/978-4-297-12478-6\n",
      "/dp/ebook/2021/978-4-297-12503-5\n",
      "/dp/ebook/2021/978-4-297-12482-3\n",
      "/dp/ebook/2021/978-4-297-12428-1\n",
      "/dp/ebook/2021/978-4-297-12472-4\n",
      "/dp/ebook/2021/978-4-297-12474-8\n",
      "/dp/ebook/2021/978-4-297-12476-2\n",
      "/dp/ebook/2021/978-4-297-12464-9\n",
      "/dp/ebook/2021/978-4-297-12322-2\n",
      "/dp/ebook/2021/978-4-297-12410-6\n",
      "/dp/ebook/2021/978-4-297-12424-3\n",
      "/dp/ebook/2021/978-4-297-12426-7\n",
      "/dp/ebook/2021/978-4-297-12436-6\n",
      "/dp/ebook/2021/978-4-297-12370-3\n",
      "/dp/ebook/2021/978-4-297-12356-7\n",
      "/dp/ebook/2021/978-4-297-12360-4\n",
      "/dp/ebook/2021/978-4-297-12330-7\n",
      "/dp/ebook/2021/978-4-297-12444-1\n",
      "/dp/ebook/2021/978-4-297-12384-0\n",
      "/dp/ebook/2021/978-4-297-12368-0\n",
      "/dp/ebook/2021/978-4-297-12364-2\n",
      "/dp/ebook/2021/978-4-297-11977-5\n",
      "/dp/ebook/2021/978-4-297-12346-8\n",
      "/dp/ebook/2021/978-4-297-12373-4\n",
      "/dp/ebook/2021/978-4-297-12362-8\n",
      "/dp/ebook/2021/978-4-297-12348-2\n",
      "/dp/ebook/2021/978-4-297-12338-3\n",
      "/dp/ebook/2021/978-4-297-12366-6\n",
      "/dp\n",
      "/dp/my-page\n",
      "/dp/information\n",
      "/dp/help\n"
     ]
    }
   ],
   "source": [
    "for a in root.cssselect('a[itemprop=\"url\"]'):\n",
    "    url = a.get('href')\n",
    "    print(url)"
   ]
  },
  {
   "cell_type": "code",
   "execution_count": 12,
   "id": "516d1cff",
   "metadata": {},
   "outputs": [],
   "source": [
    "root.make_links_absolute(response.url)"
   ]
  },
  {
   "cell_type": "code",
   "execution_count": 14,
   "id": "d547bcd0",
   "metadata": {},
   "outputs": [
    {
     "name": "stdout",
     "output_type": "stream",
     "text": [
      "https://gihyo.jp/dp/ebook/2021/978-4-297-12386-4\n",
      "https://gihyo.jp/dp/ebook/2021/978-4-297-12480-9\n",
      "https://gihyo.jp/dp/ebook/2021/978-4-297-12478-6\n",
      "https://gihyo.jp/dp/ebook/2021/978-4-297-12503-5\n",
      "https://gihyo.jp/dp/ebook/2021/978-4-297-12482-3\n",
      "https://gihyo.jp/dp/ebook/2021/978-4-297-12428-1\n",
      "https://gihyo.jp/dp/ebook/2021/978-4-297-12472-4\n",
      "https://gihyo.jp/dp/ebook/2021/978-4-297-12474-8\n",
      "https://gihyo.jp/dp/ebook/2021/978-4-297-12476-2\n",
      "https://gihyo.jp/dp/ebook/2021/978-4-297-12464-9\n",
      "https://gihyo.jp/dp/ebook/2021/978-4-297-12322-2\n",
      "https://gihyo.jp/dp/ebook/2021/978-4-297-12410-6\n",
      "https://gihyo.jp/dp/ebook/2021/978-4-297-12424-3\n",
      "https://gihyo.jp/dp/ebook/2021/978-4-297-12426-7\n",
      "https://gihyo.jp/dp/ebook/2021/978-4-297-12436-6\n",
      "https://gihyo.jp/dp/ebook/2021/978-4-297-12370-3\n",
      "https://gihyo.jp/dp/ebook/2021/978-4-297-12356-7\n",
      "https://gihyo.jp/dp/ebook/2021/978-4-297-12360-4\n",
      "https://gihyo.jp/dp/ebook/2021/978-4-297-12330-7\n",
      "https://gihyo.jp/dp/ebook/2021/978-4-297-12444-1\n",
      "https://gihyo.jp/dp/ebook/2021/978-4-297-12384-0\n",
      "https://gihyo.jp/dp/ebook/2021/978-4-297-12368-0\n",
      "https://gihyo.jp/dp/ebook/2021/978-4-297-12364-2\n",
      "https://gihyo.jp/dp/ebook/2021/978-4-297-11977-5\n",
      "https://gihyo.jp/dp/ebook/2021/978-4-297-12346-8\n",
      "https://gihyo.jp/dp/ebook/2021/978-4-297-12373-4\n",
      "https://gihyo.jp/dp/ebook/2021/978-4-297-12362-8\n",
      "https://gihyo.jp/dp/ebook/2021/978-4-297-12348-2\n",
      "https://gihyo.jp/dp/ebook/2021/978-4-297-12338-3\n",
      "https://gihyo.jp/dp/ebook/2021/978-4-297-12366-6\n"
     ]
    }
   ],
   "source": [
    "for a in root.cssselect('#listBook a[itemprop=\"url\"]'):\n",
    "    url = a.get('href')\n",
    "    print(url)"
   ]
  },
  {
   "cell_type": "code",
   "execution_count": 16,
   "id": "a4a63eea",
   "metadata": {},
   "outputs": [],
   "source": [
    "def normalize_spaces(s):\n",
    "    return re.sub(r'\\s+', ' ', s).strip()\n"
   ]
  },
  {
   "cell_type": "code",
   "execution_count": 17,
   "id": "f4a7e8d4",
   "metadata": {},
   "outputs": [],
   "source": [
    "def scrape_detail_page(response):\n",
    "    \"\"\"\n",
    "    詳細ページのResponseから電子書籍の情報をdictで取得する。\n",
    "    \"\"\"\n",
    "    root = lxml.html.fromstring(response.content)\n",
    "    ebook = {\n",
    "        'url': response.url,\n",
    "        'title': root.cssselect('#bookTitle')[0].text_content(),\n",
    "        'price': root.cssselect('.buy')[0].text.strip(),\n",
    "        'content': [normalize_spaces(h3.text_content()) for h3 in root.cssselect('#content > h3')],  # 目次\n",
    "    }\n",
    "    return ebook"
   ]
  },
  {
   "cell_type": "code",
   "execution_count": 18,
   "id": "d11f2582",
   "metadata": {},
   "outputs": [],
   "source": [
    "def scrape_list_page(response):\n",
    "    root = lxml.html.fromstring(response.content)\n",
    "    root.make_links_absolute(response.url)\n",
    "\n",
    "    for a in root.cssselect('#listBook a[itemprop=\"url\"]'):\n",
    "        url = a.get('href')\n",
    "        yield url"
   ]
  },
  {
   "cell_type": "code",
   "execution_count": 26,
   "id": "e3724b9d",
   "metadata": {},
   "outputs": [],
   "source": [
    "def main():\n",
    "    session = requests.Session()\n",
    "    response = session.get('https://gihyo.jp/dp')\n",
    "    urls = scrape_list_page(response)\n",
    "    titles = []\n",
    "    for url in urls:\n",
    "        time.sleep(1)  # 1秒のウェイトを入れる\n",
    "        response = session.get(url)\n",
    "        ebook = scrape_detail_page(response)\n",
    "        titles.append(ebook['title'])\n",
    "        print(ebook)\n",
    "    return titles"
   ]
  },
  {
   "cell_type": "code",
   "execution_count": 28,
   "id": "6b72932b",
   "metadata": {},
   "outputs": [
    {
     "name": "stdout",
     "output_type": "stream",
     "text": [
      "{'url': 'https://gihyo.jp/dp/ebook/2021/978-4-297-12386-4', 'title': '急成長を導くマネージャーの型～地位・権力が通用しない時代の“イーブン”なマネジメント', 'price': '2,280円', 'content': ['はじめに', '序章 マネジメントは経験でもセンスでもない，「型」を身につけ実行するのみ', '1章 マネージャーの役割を認識する', '2章 正確で素早い現状把握でロケットスタート', '3章 チームの役割，目標，意義を設定する', '4章 チームの戦略3点セット［方針・KPI・重要アクション］', '5章 強いチームをつくる', '6章 戦略と組織を動かす「推進システム」を作る', '7章 初期の成果とモメンタムをつくりだす', '8章 改善で継続的に成果を出し続ける', '9章 個人目標設定で成長のきっかけを与え，評価で努力に報いる', '10章 ピープルマネジメントでメンバーを動かす', '11章 3つのコミュニケーション技術を使いこなす', '12章 マネージャーの立ち位置と心得', '終章 マネージャーにとって一番大事なこと']}\n",
      "{'url': 'https://gihyo.jp/dp/ebook/2021/978-4-297-12480-9', 'title': 'ゼロからはじめるiPhone 12 スマートガイド iOS 15対応版', 'price': '1,080円', 'content': ['Chapter 1 iPhoneのキホン', 'Chapter 2 電話機能を使う', 'Chapter 3 基本設定を行う', 'Chapter 4 メール機能を利用する', 'Chapter 5 インターネットを楽しむ', 'Chapter 6 音楽や写真・動画を楽しむ', 'Chapter 7 アプリを使いこなす', 'Chapter 8 iCloudを活用する', 'Chapter 9 iPhoneをもっと使いやすくする', 'Chapter 10 iPhoneを初期化・再設定する']}\n",
      "{'url': 'https://gihyo.jp/dp/ebook/2021/978-4-297-12478-6', 'title': 'ゼロからはじめるiPhone SE 第2世代 スマートガイド iOS 15対応版', 'price': '1,080円', 'content': ['第1章 iPhoneのキホン', '第2章 電話機能を使う', '第3章 基本設定を行う', '第4章 メール機能を利用する', '第5章 インターネットを楽しむ', '第6章 音楽や写真・動画を楽しむ', '第7章 アプリを使いこなす', '第8章 iCloudを活用する', '第9章 iPhoneをもっと使いやすくする', '第10章 iPhoneを初期化・再設定する']}\n",
      "{'url': 'https://gihyo.jp/dp/ebook/2021/978-4-297-12503-5', 'title': 'ゼロからはじめるiPhone 13 mini スマートガイド ドコモ完全対応版', 'price': '1,080円', 'content': ['第1章 iPhone 13 miniのキホン', '第2章 電話機能を使う', '第3章 基本設定を行う', '第4章 メール機能を利用する', '第5章 インターネットを楽しむ', '第6章 音楽や写真・動画を楽しむ', '第7章 アプリを使いこなす', '第8章 iCloudを活用する', '第9章 iPhoneをもっと使いやすくする', '第10章 iPhoneを初期化・再設定する']}\n",
      "{'url': 'https://gihyo.jp/dp/ebook/2021/978-4-297-12482-3', 'title': 'ゼロからはじめるiPhone 13 Pro/Pro Max スマートガイド ドコモ完全対応版', 'price': '1,180円', 'content': ['Chapter 1 iPhone 13 Pro/Pro Maxのキホン', 'Chapter 2 電話機能を使う', 'Chapter 3 基本設定を行う', 'Chapter 4 メール機能を利用する', 'Chapter 5 インターネットを楽しむ', 'Chapter 6 音楽や写真・動画を楽しむ', 'Chapter 7 アプリを使いこなす', 'Chapter 8 iCloudを活用する', 'Chapter 9 iPhoneをもっと使いやすくする', 'Chapter 10 iPhoneを初期化・再設定する']}\n",
      "{'url': 'https://gihyo.jp/dp/ebook/2021/978-4-297-12428-1', 'title': '今すぐ使えるかんたんExPowerPoint ビジネス作図 プロ技BESTセレクション', 'price': '2,100円', 'content': ['第1章 図を作成する前の準備', '第2章 基本図形の描き方', '第3章 基本図形を使ったイラストの作成', '第4章 アイコンを使った図の作成', '第5章 SmartArtを使った図の作成', '第6章 コネクタを使った図の作成', '第7章 見やすいグラフの作成', '第8章 表紙や見出しに使える文字の作成', '第9章 トレースによる図の作成', '第10章 写真やイラストを使った図の作成', '第11章 作図に便利な効率アップ技', '第12章 実例サンプル', '付録']}\n",
      "{'url': 'https://gihyo.jp/dp/ebook/2021/978-4-297-12472-4', 'title': 'ゼロからはじめるiPhone 13/mini/Pro/Pro Max スマートガイド ソフトバンク完全対応版', 'price': '1,080円', 'content': ['Chapter1 iPhone 13 のキホン', 'Chapter2 電話機能を使う', 'Chapter3 基本設定を行う', 'Chapter4 メール機能を利用する', 'Chapter5 インターネットを楽しむ', 'Chapter6 音楽や写真・動画を楽しむ', 'Chapter7 アプリを使いこなす', 'Chapter8 iCloud を活用する', 'Chapter9 iPhone をもっと使いやすくする', 'Chapter10 iPhoneを初期化・再設定する']}\n",
      "{'url': 'https://gihyo.jp/dp/ebook/2021/978-4-297-12474-8', 'title': 'ゼロからはじめるiPhone 13 スマートガイド ドコモ完全対応版', 'price': '1,080円', 'content': ['Chapter1 iPhone12のキホン', 'Chapter2 電話機能を使う', 'Chapter3 基本設定を行う', 'Chapter4 メール機能を利用する', 'Chapter5 インターネットを楽しむ', 'Chapter6 音楽や写真・動画を楽しむ', 'Chapter7 アプリを使いこなす', 'Chapter8 iCloudを活用する', 'Chapter9 iPhoneをもっと使いやすくする', 'Chapter10 iPhoneを初期化・再設定する']}\n",
      "{'url': 'https://gihyo.jp/dp/ebook/2021/978-4-297-12476-2', 'title': 'ゼロからはじめるiPhone 13/mini/Pro/Pro Max スマートガイド au完全対応版', 'price': '1,080円', 'content': ['Chapter1 iPhone13のキホン', 'Chapter2 電話機能を使う', 'Chapter3 基本設定を行う', 'Chapter4 メール機能を利用する', 'Chapter5 インターネットを楽しむ', 'Chapter6 音楽や写真・動画を楽しむ', 'Chapter7 アプリを使いこなす', 'Chapter8 iCloudを活用する', 'Chapter9 iPhoneをもっと使いやすくする', 'Chapter10 iPhoneを初期化・再設定する']}\n",
      "{'url': 'https://gihyo.jp/dp/ebook/2021/978-4-297-12464-9', 'title': 'Windows 10→Windows 11 乗り換え&徹底活用 100％入門ガイド', 'price': '900円', 'content': ['特集 6年ぶりの新バージョン Windows 11登場', '第1章 Windows 11を操作してみよう', '第2章 インターネットやメールを使ってみよう', '第3章 チャットやビデオ通話を楽しもう', '第4章 Windows 11を使いこなしてみよう', '第5章 Windows 10のデータをWindows 11に移行しよう', '付録 新しいパソコンの初期設定をしよう']}\n",
      "{'url': 'https://gihyo.jp/dp/ebook/2021/978-4-297-12322-2', 'title': '最短突破Microsoft Azure Fundamentals［AZ-900］合格教本', 'price': '2,280円', 'content': ['第1章 Azure Fundamentals試験とは', '第2章 クラウドの概念', '第3章 コアAzureサービス', '第4章 Azureのコアソリューションおよび管理ツール', '第5章 一般的なセキュリティおよびネットワークセキュリティ機能', '第6章 ID，ガバナンス，プライバシー，コンプライアンスの機能', '第7章 Azureの料金とサポート', '模擬試験']}\n",
      "{'url': 'https://gihyo.jp/dp/ebook/2021/978-4-297-12410-6', 'title': '改訂新版 電子工作の素', 'price': '2,980円', 'content': ['第1章 電子工作の常識', '第2章 電子部品の知識', '第3章 設計の仕方の基礎', '第4章 自作のノウハウ', '第5章 シングルボードコンピュータ，マイコンボードを使う', '第6章 製作例']}\n",
      "{'url': 'https://gihyo.jp/dp/ebook/2021/978-4-297-12424-3', 'title': 'ISOマネジメントシステムが一番わかる', 'price': '1,800円', 'content': ['1章 マネジメントシステムとは', '2章 標準化の歴史と認証制度の概要', '3章 マネジメントシステム規格の共通要素', '4章マネジメントシステムの構築と運用', '5章 審査の概要', '6章 ISO 9001 の特徴', '7章 ISO 14001 の特徴', '8章 ISO/IEC 27001 の特徴', '9章 ISO 45001 の特徴', '10章 ISO 22301 の特徴', '11章 セクター規格']}\n",
      "{'url': 'https://gihyo.jp/dp/ebook/2021/978-4-297-12426-7', 'title': '大きな字でわかりやすいTwitter ツイッター入門', 'price': '1,300円', 'content': ['第1章 ツイッターをはじめよう', '第2章 ホットな話題を調べよう', '第3章 気になる人をフォローしよう', '第4章 ツイートしてみよう', '第5章 ほかの人とツイートをやり取りしよう', '第6章 iPadでツイッターを使おう', '第7章 スマートフォンでツイッターを使おう', '付録']}\n",
      "{'url': 'https://gihyo.jp/dp/ebook/2021/978-4-297-12436-6', 'title': 'WEB+DB PRESS Vol.125', 'price': '1,628円', 'content': ['特集1作って学ぶプログラミング言語のしくみ インタプリタ，構文解析器，文法', '特集2GraphQL完全ガイド RESTの先へ！ フロントエンドに最適化されたAPI', '特集3速習DynamoDB AWSフルマネージドNoSQLの探求', '一般記事', '連載', 'コラム']}\n",
      "{'url': 'https://gihyo.jp/dp/ebook/2021/978-4-297-12370-3', 'title': '一気にビギナー卒業！ 動画でわかるAfter Effects教室', 'price': '2,700円', 'content': ['第1章 After Effectsでできることを知ろう！', '第2章 After Effectsの操作画面のキホンを押さえよう！', '第3章 映像編集の基礎知識と素材の読み込み方を学ぼう！', '第4章 簡単なテキストアニメーションを作ってみよう！', '第5章 完成した素材を書き出してPremiere Proと連携させよう！', '第6章 サイバーなタイトルカットを作ってみよう！', '第7章 3Dレイヤーを使って奥行きのある空間を作ってみよう！', '第8章 めっちゃかっこいい！ 文字に飛び込むトランジション！', '第9章 3Dカメラトラッキングで映像表現の幅を広げよう！', '第10章 エクスプレッションマスターになろう！']}\n",
      "{'url': 'https://gihyo.jp/dp/ebook/2021/978-4-297-12356-7', 'title': 'AutoCAD パーフェクトガイド［改訂2版］', 'price': '3,600円', 'content': ['第0章 AutoCADの基本', '第1章 図形の作成', '第2章 図形の修正', '第3章 注釈', '第4章 画層とプロパティ', '第5章 ブロックと参照', '第6章 印刷とレイアウト', '第7章 ファイル管理', '第8章 設定', '第9章 活用', 'ショートカットキー一覧']}\n",
      "{'url': 'https://gihyo.jp/dp/ebook/2021/978-4-297-12360-4', 'title': 'PowerPoint［最強］時短仕事術 もう迷わない！ ひと目で伝わる資料作成', 'price': '1,600円', 'content': ['第1章 最初に押さえておくべき6つの考え方', '第2章 Word や Excelと連携して，時短を加速させる', '第3章 最適な書式設定で，資料を格段に見やすくする', '第4章 図解と図形を利用して，関係性をシンプルに伝える', '第5章 表やグラフを挿入して，説得力を倍増させる', '第6章 イラストや写真を活用して，ひと目でわかる資料に！', '第7章 色やデザインを工夫して，表現力をさらに高める', '第8章 「スライドマスター」でスピーディーに一括修正！', '第9章 相手を一瞬で惹きつけるプレゼンのコツ']}\n",
      "{'url': 'https://gihyo.jp/dp/ebook/2021/978-4-297-12330-7', 'title': '「会社は無理ゲー」な人がノビノビ稼ぐ方法', 'price': '1,600円', 'content': ['はじめに', '第1章 「会社員には向かない人」の10の特徴', '第2章 仕事が創れれば，なんとかなる', '第3章 お金と仲良くなれば，怖くなくなる', '第4章 時間の使い方で，成果が変わる', '第5章 人づきあいで，成功が見える', '第6章 メンタルを整えて，幸せになる', 'おわりに']}\n",
      "{'url': 'https://gihyo.jp/dp/ebook/2021/978-4-297-12444-1', 'title': '働き方のデジタルシフト——リモートワークからはじめる、しなやかな組織づくりの処方箋', 'price': '1,800円', 'content': ['第0章 特別インタビュー──オードリー・タン「私が考える働き方の未来」', '第1章 「働き方のデジタルシフト」のその前に──まずは目の前の課題を解決しよう', '第2章 「働き方のデジタルシフト」がもたらす変化──ゼロベースで変化を受け入れよう', '第3章 「働き方のデジタルシフト」のための文化──理想を共有し，明文化しよう', '第4章 「働き方のデジタルシフト」が実現する組織──変化を根づかせてスケールさせよう', '第5章 「働き方のデジタルシフト」の先にある仕事の現場']}\n",
      "{'url': 'https://gihyo.jp/dp/ebook/2021/978-4-297-12384-0', 'title': 'アートで魅せる数学の世界', 'price': '2,700円', 'content': ['第1章 黄金比の数理', '第2章 幾何学模様の数理', '第3章 ストリング・アートの世界', '第4章 フラクタルとランダムのアート', '第5章 デザイン，アートへの活用例']}\n",
      "{'url': 'https://gihyo.jp/dp/ebook/2021/978-4-297-12368-0', 'title': '今すぐ使えるかんたんAutoCAD［改訂2版］', 'price': '2,800円', 'content': ['第1章 AutoCADの基本', '第2章 AutoCADの基本的な操作と考え方を知ろう', '第3章 図形を移動／コピーしよう', '第4章 文字や寸法を作成して印刷してみよう', '第5章 ベアリングの図面を作図しよう', '第6章 Ｌ型側溝の図面を作図しよう', '第7章 間取り図を作図しよう']}\n",
      "{'url': 'https://gihyo.jp/dp/ebook/2021/978-4-297-12364-2', 'title': '初心者でもできる！ せどり副業で月収10万円', 'price': '1,600円', 'content': ['第1章 せどりを始める前に知っておきたいこと', '第2章 Amazonに出品するための準備', '第3章 価格推移検索ツールの使い方', '第4章 初心者はここから！ 店舗せどり', '第5章 お宝を探そう！ 電脳せどり', '第6章 せどりをもっと効率的に進めるコツ', '第7章 せどりにまつわるQ＆A', '付 録 副業の基礎知識を確認しよう']}\n",
      "{'url': 'https://gihyo.jp/dp/ebook/2021/978-4-297-11977-5', 'title': 'Software Design 2021年11月号', 'price': '1,342円', 'content': ['第1特集Kaggleで知る機械学習前処理から学習モデルの構築，スコアの上げ方までわかる', '第2特集Progressive Web Apps実践入門Webアプリがネイティブアプリのように動く⁉', '一般記事', '連載']}\n"
     ]
    },
    {
     "name": "stdout",
     "output_type": "stream",
     "text": [
      "{'url': 'https://gihyo.jp/dp/ebook/2021/978-4-297-12346-8', 'title': 'Amazon出店の王道～中小企業の新販路 その施策とアイデア', 'price': '1,680円', 'content': ['第1章 Amazon出店の基本', '第2章 出品前に決めておくこと', '第3章 Amazonに商品を出品する', '第4章 FBA納品と自社発送の方法', '第5章 売上拡大のための必修テクニック', '第6章 Amazon広告による商品露出の増やしかた', '第7章 外部マーケティング施策と作業の外注化', '第8章 トラブル対応 Q＆A']}\n",
      "{'url': 'https://gihyo.jp/dp/ebook/2021/978-4-297-12373-4', 'title': '秒速決算～スピーディに人を動かす管理会計で最高の利益体質をつくる！～', 'price': '1,800円', 'content': ['第１章 毎月の数値検討を早くすると儲けが増える', '第２章 「秒速決算」を導入する', '第３章 経理以外の社員が営業利益を集計できるようになるために', '第４章 業績のベンチマーク「予算」の作り方', '第５章 経営者が「秒速決算」を活用することで手にするもの', '第６章 未上場会社のオーナー社長の皆様への言づて']}\n",
      "{'url': 'https://gihyo.jp/dp/ebook/2021/978-4-297-12362-8', 'title': 'EDIUS X Pro パーフェクトガイド［改訂2版］', 'price': '3,600円', 'content': ['CHAPTER00 インストール', 'CHAPTER01 起動とプロジェクト設定', 'CHAPTER 02 クリップ管理', 'CHAPTER 03 クリップ編集', 'CHAPTER 04 トリミング', 'CHAPTER 05 トランジション', 'CHAPTER 06 エフェクト', 'CHAPTER 07 マーカー', 'CHAPTER 08 タイトル', 'CHAPTER 09 オーディオ', 'CHAPTER 10 出力', 'CHAPTER 11 HDRとLog編集', 'CHAPTER 12 Mync']}\n",
      "{'url': 'https://gihyo.jp/dp/ebook/2021/978-4-297-12348-2', 'title': 'あっという間にかんたん確定申告 令和4年3月15日締切分', 'price': '1,380円', 'content': ['［巻頭特集］ 得する！ 確定申告', '第1章 超早わかり確定申告', '第2章 会社員とその家族', '第3章 年金生活者', '第4章 個人事業主，兼業・脱サラ，不動産オーナー', '第5章 個人投資家', '第6章 マイホームを売買した人', '第7章 特別な出費や扶養家族がいる人']}\n",
      "{'url': 'https://gihyo.jp/dp/ebook/2021/978-4-297-12338-3', 'title': '年金生活者・定年退職者のための確定申告 令和4年3月15日締切分', 'price': '1,480円', 'content': ['巻頭特集 かんたん確定申告！', '第1章 これだけ知っておけば怖いものナシ！', '第2章 ケース別に申告書を作成する', '第3章 該当するものがあればもれなく申告！「所得控除」', '第4章 財テクで得をした人，損をした人', '付録 相続税の基礎知識', 'ダウンロード付録']}\n",
      "{'url': 'https://gihyo.jp/dp/ebook/2021/978-4-297-12366-6', 'title': 'Direct3D 12 ゲームグラフィックス実践ガイド', 'price': '3,980円', 'content': ['Chapter1 プログラミングを始める前に', 'Chapter2 ウィンドウの表示', 'Chapter3 ポリゴンの表示', 'Chapter4 テクスチャの表示', 'Chapter5 メッシュの表示', 'Chapter6 基本的なライティング', 'Chapter7 光の数値化', 'Chapter8 光伝達のモデル化', 'Chapter9 色を適切に扱う', 'Chapter10 ライトの種類と表現', 'Chapter11 メッシュシェーダパイプライン', 'AppendixA デバッグの仕方', 'AppendixB DirectX Agility SDKの使用']}\n"
     ]
    }
   ],
   "source": [
    "titles = main()"
   ]
  },
  {
   "cell_type": "code",
   "execution_count": 30,
   "id": "e805b95a",
   "metadata": {},
   "outputs": [
    {
     "data": {
      "text/plain": [
       "['急成長を導くマネージャーの型～地位・権力が通用しない時代の“イーブン”なマネジメント',\n",
       " 'ゼロからはじめるiPhone 12 スマートガイド iOS 15対応版',\n",
       " 'ゼロからはじめるiPhone SE 第2世代 スマートガイド iOS 15対応版',\n",
       " 'ゼロからはじめるiPhone 13 mini スマートガイド ドコモ完全対応版',\n",
       " 'ゼロからはじめるiPhone 13 Pro/Pro Max スマートガイド ドコモ完全対応版',\n",
       " '今すぐ使えるかんたんExPowerPoint ビジネス作図 プロ技BESTセレクション',\n",
       " 'ゼロからはじめるiPhone 13/mini/Pro/Pro Max スマートガイド ソフトバンク完全対応版',\n",
       " 'ゼロからはじめるiPhone 13 スマートガイド ドコモ完全対応版',\n",
       " 'ゼロからはじめるiPhone 13/mini/Pro/Pro Max スマートガイド au完全対応版',\n",
       " 'Windows 10→Windows 11 乗り換え&徹底活用 100％入門ガイド',\n",
       " '最短突破Microsoft Azure Fundamentals［AZ-900］合格教本',\n",
       " '改訂新版 電子工作の素',\n",
       " 'ISOマネジメントシステムが一番わかる',\n",
       " '大きな字でわかりやすいTwitter ツイッター入門',\n",
       " 'WEB+DB PRESS Vol.125',\n",
       " '一気にビギナー卒業！ 動画でわかるAfter Effects教室',\n",
       " 'AutoCAD パーフェクトガイド［改訂2版］',\n",
       " 'PowerPoint［最強］時短仕事術 もう迷わない！ ひと目で伝わる資料作成',\n",
       " '「会社は無理ゲー」な人がノビノビ稼ぐ方法',\n",
       " '働き方のデジタルシフト——リモートワークからはじめる、しなやかな組織づくりの処方箋',\n",
       " 'アートで魅せる数学の世界',\n",
       " '今すぐ使えるかんたんAutoCAD［改訂2版］',\n",
       " '初心者でもできる！ せどり副業で月収10万円',\n",
       " 'Software Design 2021年11月号',\n",
       " 'Amazon出店の王道～中小企業の新販路 その施策とアイデア',\n",
       " '秒速決算～スピーディに人を動かす管理会計で最高の利益体質をつくる！～',\n",
       " 'EDIUS X Pro パーフェクトガイド［改訂2版］',\n",
       " 'あっという間にかんたん確定申告 令和4年3月15日締切分',\n",
       " '年金生活者・定年退職者のための確定申告 令和4年3月15日締切分',\n",
       " 'Direct3D 12 ゲームグラフィックス実践ガイド']"
      ]
     },
     "execution_count": 30,
     "metadata": {},
     "output_type": "execute_result"
    }
   ],
   "source": [
    "titles"
   ]
  },
  {
   "cell_type": "code",
   "execution_count": 31,
   "id": "34e732f4",
   "metadata": {},
   "outputs": [
    {
     "data": {
      "text/plain": [
       "30"
      ]
     },
     "execution_count": 31,
     "metadata": {},
     "output_type": "execute_result"
    }
   ],
   "source": [
    "len(titles)"
   ]
  },
  {
   "cell_type": "code",
   "execution_count": 22,
   "id": "7e9d8087",
   "metadata": {},
   "outputs": [],
   "source": [
    "def connect_gspread(jsonf,key):\n",
    "    #spreadsheetsとdriveの2つのAPIを指定する\n",
    "    scope = ['https://spreadsheets.google.com/feeds','https://www.googleapis.com/auth/drive']\n",
    "    #認証情報を設定する\n",
    "    credentials = ServiceAccountCredentials.from_json_keyfile_name(jsonf, scope)\n",
    "    gc = gspread.authorize(credentials)\n",
    "    #スプレッドシートキーを用いて、sheet1にアクセスする\n",
    "    SPREADSHEET_KEY = key\n",
    "    worksheet = gc.open_by_key(SPREADSHEET_KEY).sheet1\n",
    "    return worksheet"
   ]
  },
  {
   "cell_type": "code",
   "execution_count": 34,
   "id": "8c984ea5",
   "metadata": {},
   "outputs": [],
   "source": [
    "# jsonfile名を指定\n",
    "jsonf = \"onyx-link-331410-ad335d7b2a4a.json\"\n",
    "# 共有設定したスプレットシートキーを指定\n",
    "spread_sheet_key = \"1frwEfXRcIJLcLesebojfkBqC2WgEpOBzDgFdG500SVo\"\n",
    "ws = connect_gspread(jsonf,spread_sheet_key)"
   ]
  },
  {
   "cell_type": "code",
   "execution_count": 35,
   "id": "0c99c034",
   "metadata": {},
   "outputs": [
    {
     "data": {
      "text/plain": [
       "{'spreadsheetId': '1frwEfXRcIJLcLesebojfkBqC2WgEpOBzDgFdG500SVo',\n",
       " 'updatedRange': \"'シート1'!A1:A30\",\n",
       " 'updatedRows': 30,\n",
       " 'updatedColumns': 1,\n",
       " 'updatedCells': 30}"
      ]
     },
     "execution_count": 35,
     "metadata": {},
     "output_type": "execute_result"
    }
   ],
   "source": [
    "cell_list = ws.range('A1:A30')\n",
    "i = 0\n",
    "for cell in cell_list:\n",
    "    cell.value = titles[i]\n",
    "    i += 1\n",
    "ws.update_cells(cell_list)"
   ]
  },
  {
   "cell_type": "markdown",
   "id": "5f9d830d",
   "metadata": {},
   "source": [
    "重複に注意\n",
    "データベースは３つある"
   ]
  },
  {
   "cell_type": "code",
   "execution_count": 1,
   "id": "eaa2244e",
   "metadata": {},
   "outputs": [
    {
     "data": {
      "text/plain": [
       "[['a'], ['b']]"
      ]
     },
     "execution_count": 1,
     "metadata": {},
     "output_type": "execute_result"
    }
   ],
   "source": [
    "a=['a']\n",
    "b=['b']\n",
    "c=[]\n",
    "c.append(a)\n",
    "c.append(b)\n",
    "c"
   ]
  },
  {
   "cell_type": "code",
   "execution_count": null,
   "id": "d6fcf468",
   "metadata": {},
   "outputs": [],
   "source": []
  }
 ],
 "metadata": {
  "kernelspec": {
   "display_name": "Python 3 (ipykernel)",
   "language": "python",
   "name": "python3"
  },
  "language_info": {
   "codemirror_mode": {
    "name": "ipython",
    "version": 3
   },
   "file_extension": ".py",
   "mimetype": "text/x-python",
   "name": "python",
   "nbconvert_exporter": "python",
   "pygments_lexer": "ipython3",
   "version": "3.9.5"
  }
 },
 "nbformat": 4,
 "nbformat_minor": 5
}
