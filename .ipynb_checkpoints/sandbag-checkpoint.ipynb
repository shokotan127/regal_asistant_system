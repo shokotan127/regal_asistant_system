{
 "cells": [
  {
   "cell_type": "markdown",
   "id": "2d205bb4",
   "metadata": {},
   "source": [
    "# crowling systemを作る"
   ]
  },
  {
   "cell_type": "code",
   "execution_count": 2,
   "id": "e6b4868d",
   "metadata": {},
   "outputs": [],
   "source": [
    "import requests\n",
    "import lxml.html"
   ]
  },
  {
   "cell_type": "raw",
   "id": "52b1ab78",
   "metadata": {},
   "source": []
  }
 ],
 "metadata": {
  "kernelspec": {
   "display_name": "Python 3 (ipykernel)",
   "language": "python",
   "name": "python3"
  },
  "language_info": {
   "codemirror_mode": {
    "name": "ipython",
    "version": 3
   },
   "file_extension": ".py",
   "mimetype": "text/x-python",
   "name": "python",
   "nbconvert_exporter": "python",
   "pygments_lexer": "ipython3",
   "version": "3.9.5"
  }
 },
 "nbformat": 4,
 "nbformat_minor": 5
}
