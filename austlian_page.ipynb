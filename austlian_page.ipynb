{
 "cells": [
  {
   "cell_type": "code",
   "execution_count": 1,
   "id": "adccf283",
   "metadata": {},
   "outputs": [],
   "source": [
    "from selenium.webdriver import Chrome, ChromeOptions, Remote\n",
    "from selenium.webdriver.common.keys import Keys\n",
    "\n",
    "\n",
    "import logging\n",
    "from typing import List  # 型ヒントのためにインポート"
   ]
  },
  {
   "cell_type": "code",
   "execution_count": 2,
   "id": "2c364986",
   "metadata": {},
   "outputs": [],
   "source": [
    "options = ChromeOptions()\n",
    "#options.headless = True"
   ]
  },
  {
   "cell_type": "code",
   "execution_count": 4,
   "id": "969af72e",
   "metadata": {},
   "outputs": [],
   "source": [
    "driver = Chrome(options=options)  # ChromeのWebDriverオブジェクトを作成する。"
   ]
  },
  {
   "cell_type": "code",
   "execution_count": 89,
   "id": "31b813c6",
   "metadata": {},
   "outputs": [],
   "source": [
    "# scrapingしたい画面を開く\n",
    "driver.get('https://www.ris.bka.gv.at/Ergebnis.wxe?Abfrage=Justiz&Gericht=&Rechtssatznummer=&Rechtssatz=&Fundstelle=&AenderungenSeit=Undefined&SucheNachRechtssatz=False&SucheNachText=True&GZ=&VonDatum=&BisDatum=24.01.2022&Norm=&ImRisSeitVonDatum=&ImRisSeitBisDatum=&ImRisSeit=Undefined&ResultPageSize=100&Suchworte=Garant&Position=1&SkipToDocumentPage=true')"
   ]
  },
  {
   "cell_type": "code",
   "execution_count": 90,
   "id": "91a88426",
   "metadata": {},
   "outputs": [
    {
     "data": {
      "text/plain": [
       "'RIS - Justiz (OGH, OLG, LG, BG, OPMS, AUSL) - Trefferliste'"
      ]
     },
     "execution_count": 90,
     "metadata": {},
     "output_type": "execute_result"
    }
   ],
   "source": [
    "driver.title"
   ]
  },
  {
   "cell_type": "code",
   "execution_count": null,
   "id": "1ccb35c8",
   "metadata": {},
   "outputs": [],
   "source": [
    "div#MainContent_DocumentsList_TableScrollContainer"
   ]
  },
  {
   "cell_type": "code",
   "execution_count": 91,
   "id": "2d11a5e5",
   "metadata": {},
   "outputs": [
    {
     "name": "stderr",
     "output_type": "stream",
     "text": [
      "/var/folders/_l/3r37kqhd699__pxb_zz12_940000gn/T/ipykernel_32943/4153032769.py:1: DeprecationWarning: find_elements_by_* commands are deprecated. Please use find_elements() instead\n",
      "  div=driver.find_elements_by_css_selector('div#MainContent_DocumentsList_TableScrollContainer')[0]\n"
     ]
    }
   ],
   "source": [
    "div=driver.find_elements_by_css_selector('div#MainContent_DocumentsList_TableScrollContainer')[0]"
   ]
  },
  {
   "cell_type": "code",
   "execution_count": 92,
   "id": "3023b2e1",
   "metadata": {},
   "outputs": [
    {
     "name": "stderr",
     "output_type": "stream",
     "text": [
      "/Users/uenoshouko/workspace/pj_ikechi/ikechi/lib/python3.9/site-packages/selenium/webdriver/remote/webelement.py:501: UserWarning: find_elements_by_* commands are deprecated. Please use find_elements() instead\n",
      "  warnings.warn(\"find_elements_by_* commands are deprecated. Please use find_elements() instead\")\n"
     ]
    }
   ],
   "source": [
    "tr=div.find_elements_by_css_selector('tr')[1]"
   ]
  },
  {
   "cell_type": "code",
   "execution_count": 93,
   "id": "937ce39d",
   "metadata": {},
   "outputs": [
    {
     "data": {
      "text/plain": [
       "<selenium.webdriver.remote.webelement.WebElement (session=\"76f5be660bebd2081494bef3919f413a\", element=\"45722d58-3581-438d-b043-6ec87e3c6410\")>"
      ]
     },
     "execution_count": 93,
     "metadata": {},
     "output_type": "execute_result"
    }
   ],
   "source": [
    "tr"
   ]
  },
  {
   "cell_type": "code",
   "execution_count": 94,
   "id": "519f62b0",
   "metadata": {},
   "outputs": [
    {
     "name": "stderr",
     "output_type": "stream",
     "text": [
      "/Users/uenoshouko/workspace/pj_ikechi/ikechi/lib/python3.9/site-packages/selenium/webdriver/remote/webelement.py:483: UserWarning: find_element_by_* commands are deprecated. Please use find_element() instead\n",
      "  warnings.warn(\"find_element_by_* commands are deprecated. Please use find_element() instead\")\n"
     ]
    }
   ],
   "source": [
    "a=tr.find_element_by_css_selector('a')"
   ]
  },
  {
   "cell_type": "code",
   "execution_count": 95,
   "id": "5aaa3a56",
   "metadata": {},
   "outputs": [
    {
     "data": {
      "text/plain": [
       "<selenium.webdriver.remote.webelement.WebElement (session=\"76f5be660bebd2081494bef3919f413a\", element=\"0f2b3ef7-3a0c-47bf-863f-b1acf2e3b9bc\")>"
      ]
     },
     "execution_count": 95,
     "metadata": {},
     "output_type": "execute_result"
    }
   ],
   "source": [
    "a"
   ]
  },
  {
   "cell_type": "code",
   "execution_count": 96,
   "id": "bbc2b5c9",
   "metadata": {},
   "outputs": [],
   "source": [
    "url=a.get_attribute('href')"
   ]
  },
  {
   "cell_type": "code",
   "execution_count": 97,
   "id": "5366fe5e",
   "metadata": {},
   "outputs": [
    {
     "data": {
      "text/plain": [
       "'https://www.ris.bka.gv.at/Dokument.wxe?ResultFunctionToken=dd5e8378-ed0c-40c8-99e6-301846e3e244&Position=1&SkipToDocumentPage=True&Abfrage=Justiz&Gericht=&Rechtssatznummer=&Rechtssatz=&Fundstelle=&AenderungenSeit=Undefined&SucheNachRechtssatz=False&SucheNachText=True&GZ=&VonDatum=&BisDatum=24.01.2022&Norm=&ImRisSeitVonDatum=&ImRisSeitBisDatum=&ImRisSeit=Undefined&ResultPageSize=100&Suchworte=Garant&Dokumentnummer=JJT_20211115_OGH0002_0060OB00065_21H0000_000'"
      ]
     },
     "execution_count": 97,
     "metadata": {},
     "output_type": "execute_result"
    }
   ],
   "source": [
    "url"
   ]
  },
  {
   "cell_type": "code",
   "execution_count": 98,
   "id": "df5ae35e",
   "metadata": {},
   "outputs": [],
   "source": [
    "detail_driver = Chrome()"
   ]
  },
  {
   "cell_type": "code",
   "execution_count": 99,
   "id": "9e0f0494",
   "metadata": {},
   "outputs": [],
   "source": [
    "detail_driver.get(url)"
   ]
  },
  {
   "cell_type": "code",
   "execution_count": 117,
   "id": "56a9e984",
   "metadata": {},
   "outputs": [
    {
     "name": "stderr",
     "output_type": "stream",
     "text": [
      "/var/folders/_l/3r37kqhd699__pxb_zz12_940000gn/T/ipykernel_32943/35590167.py:1: DeprecationWarning: find_elements_by_* commands are deprecated. Please use find_elements() instead\n",
      "  dettail_div=detail_driver.find_elements_by_css_selector('div.documentContent')[0]\n"
     ]
    }
   ],
   "source": [
    "dettail_div=detail_driver.find_elements_by_css_selector('div.documentContent')[0]"
   ]
  },
  {
   "cell_type": "code",
   "execution_count": 105,
   "id": "f0aa6b82",
   "metadata": {},
   "outputs": [
    {
     "data": {
      "text/plain": [
       "<selenium.webdriver.remote.webelement.WebElement (session=\"2eecf5bc080393f1fcd8fd1578159234\", element=\"ced46b3a-be2c-471d-9225-9fc6e8588cf6\")>"
      ]
     },
     "execution_count": 105,
     "metadata": {},
     "output_type": "execute_result"
    }
   ],
   "source": [
    "dettail_div"
   ]
  },
  {
   "cell_type": "code",
   "execution_count": 127,
   "id": "72aa6724",
   "metadata": {},
   "outputs": [
    {
     "data": {
      "text/plain": [
       "'Gericht\\nOGH'"
      ]
     },
     "execution_count": 127,
     "metadata": {},
     "output_type": "execute_result"
    }
   ],
   "source": [
    "Gericht=dettail_div.find_elements_by_css_selector('div.FloatLeft')[0].text"
   ]
  },
  {
   "cell_type": "code",
   "execution_count": 129,
   "id": "39255954",
   "metadata": {},
   "outputs": [],
   "source": [
    "Dokumenttyp=dettail_div.find_elements_by_css_selector('div.FloatLeft')[1].text"
   ]
  },
  {
   "cell_type": "code",
   "execution_count": 131,
   "id": "f227563d",
   "metadata": {},
   "outputs": [
    {
     "data": {
      "text/plain": [
       "'Zuletzt aktualisiert am\\n18.01.2022'"
      ]
     },
     "execution_count": 131,
     "metadata": {},
     "output_type": "execute_result"
    }
   ],
   "source": [
    "dettail_div.find_elements_by_css_selector('div.FloatLeft')[3].text"
   ]
  },
  {
   "cell_type": "code",
   "execution_count": 126,
   "id": "8ac54777",
   "metadata": {},
   "outputs": [],
   "source": [
    "Kopf=dettail_div.find_elements_by_css_selector('div#MainContent_DocumentRepeater_JustizDocumentData_0_KopfContainer_0')[0].text"
   ]
  },
  {
   "cell_type": "code",
   "execution_count": 132,
   "id": "75f5c9e7",
   "metadata": {},
   "outputs": [
    {
     "data": {
      "text/plain": [
       "'Kopf\\nDer Oberste Gerichtshof hat als Revisionsgericht durch den Senatspräsidenten Hon.-Prof. Dr. Gitschthaler als Vorsitzenden, die Hofräte Univ.-Prof. Dr. Kodek, Dr. Nowotny, die Hofrätin Dr. Faber und den Hofrat Mag. Pertmayr als weitere Richter in der Rechtssache der klagenden Partei W* GmbH, *, vertreten durch Dr. Peter Gatternig und Mag. Karl Gatternig, LL.M., Rechtsanwälte in Wien gegen die beklagte Partei T* AG, *, vertreten durch DORDA Rechtsanwälte GmbH in Wien, wegen 381.993,91 EUR sA und Bewirkung einer Pfandfreistellung, über die außerordentliche Revision der klagenden Partei gegen das Urteil des Oberlandesgerichts Wien als Berufungsgericht vom 26. Februar 2021, GZ 4 R 108/20m-50, in nichtöffentlicher Sitzung den\\nBeschluss\\ngefasst:'"
      ]
     },
     "execution_count": 132,
     "metadata": {},
     "output_type": "execute_result"
    }
   ],
   "source": [
    "Kopf"
   ]
  },
  {
   "cell_type": "code",
   "execution_count": 140,
   "id": "91405e9e",
   "metadata": {},
   "outputs": [],
   "source": [
    "Spruch=dettail_div.find_elements_by_css_selector('div#MainContent_DocumentRepeater_JustizDocumentData_0_SpruchContainer_0')[0].text"
   ]
  },
  {
   "cell_type": "code",
   "execution_count": null,
   "id": "97557a6f",
   "metadata": {},
   "outputs": [],
   "source": [
    "MainContent_DocumentRepeater_JustizDocumentData_0_RechtlicheBeurteilungContainer_0"
   ]
  },
  {
   "cell_type": "code",
   "execution_count": 141,
   "id": "3462672c",
   "metadata": {},
   "outputs": [
    {
     "data": {
      "text/plain": [
       "'Rechtliche Beurteilung\\n[1]          1. Die behauptete Aktenwidrigkeit und die behauptete Mangelhaftigkeit des Berufungsverfahrens wurden geprüft, sie liegen nicht vor (§ 510 Abs 3 ZPO).\\n[2]            2.1 Beim echten Garantievertrag übernimmt der Garant gegenüber dem Begünstigten die Haftung für den noch ungewissen Erfolg eines Unternehmens im weitesten Sinn oder für den durch ein Unternehmen entstehenden Schaden (RS0017001). Zweck dieses Vertrags ist, dass der Garant dem Begünstigten für den Eintritt eines bestimmten Erfolgs einzustehen hat; dabei soll der Garant nicht etwa den von ihm garantierten Erfolg selbst herbeiführen, sondern lediglich im Fall des Nichteintritts den wirtschaftlichen Ausfall des Begünstigten decken, das heißt sein Interesse ersetzen (10 Ob 20/20v [ErwGr 2.]).\\n[3]            2.2 Eine dreipersonale Garantie liegt vor, wenn die Verpflichtung des Garanten gegenüber dem Begünstigten ihren Rechtsgrund in seiner Beziehung zu einem Dritten hat. Die Leistung des Garanten findet dabei ihre Rechtfertigung einerseits in seinem Deckungsverhältnis zum Dritten, andererseits in dem zwischen dem Dritten und dem Begünstigten bestehenden Valutaverhältnis. Unter einer zweipersonalen Garantie ist hingegen eine solche zu verstehen, bei der die Zuwendung des Garanten an den Begünstigten ihre causa, ihren Grund, allein in der Beziehung zwischen diesen beiden Beteiligten findet (10 Ob 20/20v [ErwGr 3.1., 4.1.]).\\n[4]            2.3 Da ein abstraktes Verpflichtungsgeschäft dem österreichischen Recht außerhalb des Wertpapier- und Anweisungsrechts grundsätzlich fremd ist (10 Ob 20/20v [ErwGr 4.3.]; vgl RS0014027 [T2]), bedürfen zweipersonale Garantien zu ihrer Gültigkeit der Anführung der causa, die sie erklärt. Wenn eine entsprechende causa besteht, kann nach österreichischem Recht über den Wortlaut des § 880a ABGB hinaus jede sonstige Erfolgshaftung, und jede Haftung für einen Schaden, mittels Garantievertrags übernommen werden. Zweipersonale Garantien dürfen daher nicht als isoliert bestehende Rechtsgeschäfte betrachtet werden, sondern sind vielmehr ihrem Zweck entsprechend als Teil einer geschlossenen Vertragskette anzusehen. Eine entgeltliche causa kann bei einer zweipersonalen Garantie darin bestehen, dass der Garantiebegünstigte durch die Garantie zu einer bestimmten Tätigkeit oder zur Beteiligung an einer Unternehmung animiert wird (10 Ob 20/20v [ErwGr 4.4., 5.1.]).\\n[5]            3.1 Die Abgrenzung der Garantie von anderen Vertragstypen erfolgt durch Auslegung (vgl 4 Ob 200/20w). Ob ein Vertrag im Einzelfall richtig ausgelegt wurde, stellt aber nur dann eine erhebliche Rechtsfrage dar, wenn infolge einer wesentlichen Verkennung der Rechtslage ein unvertretbares Auslegungsergebnis erzielt wurde (RS0042936), wobei eine erhebliche Rechtsfrage iSd § 502 Abs 1 ZPO selbst dann nicht vorliegt, wenn (auch) die vom Rechtsmittelwerber angestrebte Vertragsauslegung vertretbar ist (6 Ob 52/12h; 6 Ob 105/05t). Auch die im Rahmen eines Garantievertrags abgegebenen Erklärungen des Garanten unterliegen den Auslegungsregeln der §§ 914, 915 ABGB (RS0033002), sodass deren Interpretation regelmäßig keine erheblichen Rechtsfragen aufwirft (RS0017670 [T15]).\\n[6]            3.2 Im vorliegenden Fall wollten die Streitteile das Fortbestehen eines von ihnen gesponserten, vor der Insolvenz stehenden Fußballvereins erreichen. Dazu vereinbarten sie im Oktober 2007 miteinander, dass die Klägerin auf eine Forderung gegen die Managementgesellschaft dieses Vereins verzichtet und die Beklagte künftig Sponsorgelder in bestimmter Höhe zusichert, ihr dafür aber die gesamte werbliche Nutzung des Vereins zustehen sollte. Da es der Klägerin dabei ein Anliegen war, nicht ganz leer auszugehen und zumindest ein für einen Bankkredit der Managementgesellschaft verpfändetes Wertpapierdepot nicht auch noch aufgeben zu müssen, sondern dieses wieder (pfand-)frei zu bekommen, verpflichtete sich die Beklagte gegenüber der Klägerin, die Freiwerdung dieses Wertpapierdepots durch kurzfristige Abdeckung des Kredits zu erwirken.\\n[7]            3.3 Das Berufungsgericht legte die Vereinbarung über die Pfandfreimachung als zweipersonale Garantie aus und begründete dies damit, dass die Beklagte nicht eine Haftung oder Bürgschaft für einen allfälligen Regressanspruch der Klägerin gegenüber der Hauptschuldnerin des Kreditvertrags übernommen, sondern für einen bestimmten Erfolg, nämlich das Unterbleiben der Pfandverwertung einzustehen gehabt habe. Dieses Auslegungsergebnis hält sich im Rahmen der erörterten Rechtsprechung, zumal die festgestellte und von der Klägerin als „tauschähnlich“ bezeichnete Vereinbarung als eine der zweipersonalen Garantie zugrundeliegende entgeltliche causa angesehen werden kann. Die außerordentliche Revision wirft daher keine erhebliche Rechtsfrage auf.\\n[8]            4.1 Liegt eine dreipersonale Garantieerklärung vor, kommt generell die Verjährungsregelung des § 1489 ABGB zur Anwendung. Denn Garantien haben regelmäßig die Funktion, einen Schaden, den der Begünstigte durch den Nichteintritt eines Erfolgs erleidet, auszugleichen, auch wenn sie nicht Schadenersatzansprüche im eigentlichen Sinn sind, weil sie losgelöst von Verursachung, Rechtswidrigkeit und Verschulden sind (4 Ob 200/20w; 5 Ob 215/08s). Diese Verjährungsregelung wurde auch im Fall einer zweipersonalen Garantie mit Schadenersatzfunktion angewendet (1 Ob 138/05h).\\n[9]            4.2 Die Verjährungsfrist beginnt zwar nicht vor dem tatsächlichen Eintritt der Rechtsgutsverletzung (also des „Primärschadens“) zu laufen. Mit dessen positiver Kenntnis wird sie aber nach ständiger Rechtsprechung auch schon dann in Gang gesetzt, wenn der Geschädigte die Höhe seines Schadens noch nicht beziffern kann, ihm noch nicht alle Schadensfolgen bekannt bzw diese noch nicht zur Gänze eingetreten sind. Der drohenden Verjährung muss der Geschädigte mit einer Feststellungsklage begegnen (vgl RS0087615; zur Garantie: 5 Ob 7/06z; 1 Ob 138/05h). Wann in einem konkreten Fall die Verjährungsfrist zu laufen beginnt, hängt von dem Umständen des Einzelfalls ab (RS0044464 [T7]).\\n[10]           4.3 Nach den Feststellungen musste die Klägerin nach Stundung der an sich bereits im Februar 2009 fälligen Kreditschuld der Managementgesellschaft erstmals im Oktober 2009 und danach wiederholt bestimmte Beträge (in Summe den Klagsbetrag) an die kreditgebende Bank zahlen, um die Verwertung des verpfändeten Wertpapierdepots zu vermeiden. Am 15. 1. 2010 hatte die Bank über den Ablauf des Kredits mit 31. 12. 2009 informiert und den offenen Betrag fällig gestellt.\\n[11]           Das Berufungsgericht war der Ansicht, es liege eine Garantie mit Schadenersatzfunktion vor. Die Beklagte als Garantin hafte allerdings gegenüber der Bank nicht für die Kreditschuld, weshalb ein Regress unter Interzedenten nicht in Betracht komme. Der Beginn der Verjährungsfrist sei spätestens mit Fälligstellung des Kredits im Jänner 2010 anzunehmen, weil damit für die Klägerin festgestanden sei, dass die Beklagte ihr Garantieversprechen nicht erfüllt habe und die Pfandverwertung drohe. Die Ansprüche der Klägerin seien daher bei Klagseinbringung im Jahr 2016 bereits verjährt gewesen. Darin ist keine aufzugreifende Fehlbeurteilung zu erblicken.\\n[12]           5. Mangels zu beurteilender erheblicher Rechtsfragen iSd § 502 Abs 1 ZPO war die außerordentliche Revision zurückzuweisen.'"
      ]
     },
     "execution_count": 141,
     "metadata": {},
     "output_type": "execute_result"
    }
   ],
   "source": [
    "dettail_div.find_elements_by_css_selector('div#MainContent_DocumentRepeater_JustizDocumentData_0_RechtlicheBeurteilungContainer_0')[0].text"
   ]
  },
  {
   "cell_type": "code",
   "execution_count": 144,
   "id": "d61dcfef",
   "metadata": {},
   "outputs": [],
   "source": [
    "driver = Chrome()"
   ]
  },
  {
   "cell_type": "code",
   "execution_count": 145,
   "id": "5b99aaac",
   "metadata": {},
   "outputs": [],
   "source": [
    "url='https://www.ris.bka.gv.at/Dokument.wxe?ResultFunctionToken=dd5e8378-ed0c-40c8-99e6-301846e3e244&Position=1&SkipToDocumentPage=True&Abfrage=Justiz&Gericht=&Rechtssatznummer=&Rechtssatz=&Fundstelle=&AenderungenSeit=Undefined&SucheNachRechtssatz=False&SucheNachText=True&GZ=&VonDatum=&BisDatum=24.01.2022&Norm=&ImRisSeitVonDatum=&ImRisSeitBisDatum=&ImRisSeit=Undefined&ResultPageSize=100&Suchworte=Garant&Dokumentnummer=JJT_20211115_OGH0002_0060OB00065_21H0000_000'"
   ]
  },
  {
   "cell_type": "code",
   "execution_count": 146,
   "id": "c88550de",
   "metadata": {},
   "outputs": [],
   "source": [
    "driver.get(url)"
   ]
  },
  {
   "cell_type": "code",
   "execution_count": 147,
   "id": "c5191bcf",
   "metadata": {},
   "outputs": [
    {
     "data": {
      "text/plain": [
       "'<html id=\"Html\" xmlns=\"http://www.w3.org/1999/xhtml\" xml:lang=\"de\" lang=\"de\"><head id=\"Head1\"><script src=\"/res/Remotion.Web/v1.20.8.10000/Html/TabStrip.js\" type=\"text/javascript\"></script>\\n<script src=\"/res/Remotion.Web/v1.20.8.10000/Html/jquery-1.6.4.js\" type=\"text/javascript\"></script>\\n<script src=\"/res/Remotion.Web/v1.20.8.10000/Html/Utilities.js\" type=\"text/javascript\"></script>\\n<script src=\"/res/Remotion.Web/v1.20.8.10000/Themes/NovaGray/Html/StyleUtility.js\" type=\"text/javascript\"></script>\\n<script src=\"/Html3/BasePage.js\" type=\"text/javascript\"></script>\\n<script src=\"/res/Remotion.Web/v1.20.8.10000/Html/jquery.IFrameShim.js\" type=\"text/javascript\"></script>\\n<script src=\"/res/Remotion.Web/v1.20.8.10000/Html/SmartNavigation.js\" type=\"text/javascript\"></script>\\n<script src=\"/res/Remotion.Web/v1.20.8.10000/Html/SmartPage.js\" type=\"text/javascript\"></script>\\n<script src=\"/res/Remotion.Web/v1.20.8.10000/Html/ExecutionEngine.js\" type=\"text/javascript\"></script>\\n<script src=\"/res/Remotion.ObjectBinding.Web/v1.20.8.10000/Html/TextBoxStyle.js\" type=\"text/javascript\"></script>\\n<script src=\"/Html3/Global.js\" type=\"text/javascript\"></script>\\n<script src=\"/Html3/jquery-ui-1.8.17.custom.min.js\" type=\"text/javascript\"></script>\\n<script src=\"/Html3/Popup.js\" type=\"text/javascript\"></script>\\n<style type=\"text/css\">\\n\\t@import url(\"/res/Remotion.Web/v1.20.8.10000/Themes/NovaGray/Html/TabStrip.css\");\\n\\t@import url(\"/res/Remotion.Web/v1.20.8.10000/Themes/NovaGray/Html/SmartPage.css\");\\n\\t@import url(\"/res/Remotion.Web/v1.20.8.10000/Themes/NovaGray/Html/ExecutionEngine.css\");\\n\\t@import url(\"/res/Remotion.ObjectBinding.Web/v1.20.8.10000/Themes/NovaGray/Html/BocTextValue.css\");\\n\\t@import url(\"/res/Remotion.ObjectBinding.Web/v1.20.8.10000/Themes/NovaGray/Html/BocEnumValue.css\");\\n\\t@import url(\"/res/Remotion.ObjectBinding.Web/v1.20.8.10000/Themes/NovaGray/Html/BocMultilineTextValue.css\");\\n</style>\\n<link href=\"/Images/favicon.ico\" rel=\"shortcut icon\"><style type=\"text/css\">\\n\\t@import url(\"/res/Remotion.Web/v1.20.8.10000/Themes/NovaGray/Html/Style.css\");\\n\\t@import url(\"/Html3/global.css\");\\n\\t@import url(\"/Html3/showDocument.css\");\\n\\t@import url(\"/Html3/showDocumentContent.css\");\\n</style>\\n<style type=\"text/css\">\\n\\t@import url(\"/Html3/RisTabbedMenu.css\");\\n\\t@import url(\"/Html3/jquery-ui-1.8.17.custom.css\");\\n\\t@import url(\"/Html3/Popup.css\");\\n</style>\\n<meta http-equiv=\"content-type\" content=\"text/html; charset=UTF-8\"><!--[if IE]>\\n<link id=\"BrowserSwitch_IEHacksGeneralLink\" href=\"/Html3/hacks/ie.css\" rel=\"stylesheet\" type=\"text/css\" />\\n\\n<![endif]-->\\n<!--[if lt IE 8]>\\n<link id=\"BrowserSwitch_IEHacks7Link\" href=\"/Html3/hacks/ie7.css\" rel=\"stylesheet\" type=\"text/css\" media=\"screen, projection\" />\\n\\n<![endif]-->\\n<!--[if lt IE 7]>\\n<link id=\"BrowserSwitch_IEHacks6Link\" href=\"/Html3/hacks/ie6.css\" rel=\"stylesheet\" type=\"text/css\" media=\"screen, projection\" />\\n\\n<![endif]-->\\n<!--[if lt IE 5.5]>\\n<link id=\"BrowserSwitch_IEHacks5Link\" href=\"/Html3/hacks/ie50.css\" rel=\"stylesheet\" type=\"text/css\" />\\n\\n<![endif]-->\\n<title>\\n\\tRIS - 6Ob65/21h - Entscheidungstext - Justiz (OGH, OLG, LG, BG, OPMS, AUSL)\\n</title></head>\\n<body class=\"mac blink\">\\n<form onreset=\"return false;\" action=\"/Dokument.wxe?ResultFunctionToken=dd5e8378-ed0c-40c8-99e6-301846e3e244&amp;Position=1&amp;SkipToDocumentPage=True&amp;Abfrage=Justiz&amp;Gericht=&amp;Rechtssatznummer=&amp;Rechtssatz=&amp;Fundstelle=&amp;AenderungenSeit=Undefined&amp;SucheNachRechtssatz=False&amp;SucheNachText=True&amp;GZ=&amp;VonDatum=&amp;BisDatum=24.01.2022&amp;Norm=&amp;ImRisSeitVonDatum=&amp;ImRisSeitBisDatum=&amp;ImRisSeit=Undefined&amp;ResultPageSize=100&amp;Suchworte=Garant&amp;Dokumentnummer=JJT_20211115_OGH0002_0060OB00065_21H0000_000\" name=\"Form\" method=\"post\" id=\"Form\">\\n<div class=\"aspNetHidden\">\\n<input type=\"hidden\" name=\"wxePageTokenField\" id=\"wxePageTokenField\" value=\"bc0cad90-80f0-4185-ab0e-0f225214b3f5\">\\n<input type=\"hidden\" name=\"ServerTime\" id=\"ServerTime\" value=\"637786814017419273\">\\n<input type=\"hidden\" name=\"ServerID\" id=\"ServerID\" value=\"-414478576\">\\n<input type=\"hidden\" name=\"WxeFunctionToken\" id=\"WxeFunctionToken\" value=\"c21df2d3-fc4c-435b-a1e3-3c900d67b693\">\\n<input type=\"hidden\" name=\"wxeReturningTokenField\" id=\"wxeReturningTokenField\" value=\"\">\\n<input type=\"hidden\" name=\"wxePostBackSequenceNumberField\" id=\"wxePostBackSequenceNumberField\" value=\"2\">\\n<input type=\"hidden\" name=\"__EVENTTARGET\" id=\"__EVENTTARGET\" value=\"\">\\n<input type=\"hidden\" name=\"__EVENTARGUMENT\" id=\"__EVENTARGUMENT\" value=\"\">\\n<input type=\"hidden\" name=\"SmartPage_CacheDetectionField\" id=\"SmartPage_CacheDetectionField\" value=\"hasLoaded\">\\n<input type=\"hidden\" name=\"smartScrolling\" id=\"smartScrolling\" value=\"\">\\n<input type=\"hidden\" name=\"smartFocus\" id=\"smartFocus\" value=\"\">\\n<input type=\"hidden\" name=\"__VIEWSTATE\" id=\"__VIEWSTATE\" value=\"\">\\n</div>\\n\\n<script type=\"text/javascript\">\\n//<![CDATA[\\nvar theForm = document.forms[\\'Form\\'];\\nif (!theForm) {\\n    theForm = document.Form;\\n}\\nfunction __doPostBack(eventTarget, eventArgument) {\\n    if (!theForm.onsubmit || (theForm.onsubmit() != false)) {\\n        theForm.__EVENTTARGET.value = eventTarget;\\n        theForm.__EVENTARGUMENT.value = eventArgument;\\n        theForm.submit();\\n    }\\n}\\n//]]>\\n</script>\\n\\n\\n<script src=\"/WebResource.axd?d=pynGkmcFUV13He1Qd6_TZB8Qyt-aC75CAGMoqNe6ljCH9EmBaSbFfLolcxkCc7EFYyQ88ruekEfC6l6aecc2AA2&amp;t=637454104939909757\" type=\"text/javascript\"></script>\\n\\n\\n<script type=\"text/javascript\">\\n//<![CDATA[\\nStyleUtility.AddBrowserSwitch();\\nfunction wxeDoSubmit (button, pageToken) { \\n  var theForm = document.Form; \\n  theForm.wxeReturningTokenField.value = pageToken; \\n  document.getElementById(button).click(); \\n}\\nfunction wxeDoPostBack (control, argument, returningToken) { \\n  var theForm = document.Form; \\n  theForm.wxeReturningTokenField.value = returningToken; \\n  __doPostBack (control, argument); \\n}\\nWxePage_Context.SetInstance (new WxePage_Context (\\n    \\nfalse,\\n    \\n600000,\\n    \\n\\'/Dokument.wxe?WxeFunctionToken=c21df2d3-fc4c-435b-a1e3-3c900d67b693&WxeAction=Refresh\\',\\n    \\nnull,\\n    \\n\\'<p>Sie sind dabei, die Seite zu verlassen.</p><p>Sie können keine weiteren Eingaben an den Server senden.</p>\\',\\n    \\n\\'Die Navigation mit den Schaltflächen Vorwärts und Zurück wird nicht unterstützt.\\'));\\n\\nfunction SmartPage_Initialize ()\\n{\\n  var eventHandlers = new Array();\\n  eventHandlersByEvent = new Array();\\n  eventHandlersByEvent[eventHandlersByEvent.length] = \\'BasePage_OnPostBack\\';\\n  eventHandlers[\\'onpostback\\'] = eventHandlersByEvent;\\n\\n  eventHandlersByEvent = new Array();\\n  eventHandlersByEvent[eventHandlersByEvent.length] = \\'BasePage_OnUnload\\';\\n  eventHandlersByEvent[eventHandlersByEvent.length] = \\'WxePage_OnUnload\\';\\n  eventHandlers[\\'onunload\\'] = eventHandlersByEvent;\\n\\n  eventHandlersByEvent = new Array();\\n  eventHandlersByEvent[eventHandlersByEvent.length] = \\'RegisterLocationHashChangedHandler\\';\\n  eventHandlersByEvent[eventHandlersByEvent.length] = \\'AdjustLayout\\';\\n  eventHandlersByEvent[eventHandlersByEvent.length] = \\'WxePage_OnLoad\\';\\n  eventHandlers[\\'onload\\'] = eventHandlersByEvent;\\n\\n  eventHandlersByEvent = new Array();\\n  eventHandlersByEvent[eventHandlersByEvent.length] = \\'AdjustLayout\\';\\n  eventHandlers[\\'onresize\\'] = eventHandlersByEvent;\\n\\n  eventHandlersByEvent = new Array();\\n  eventHandlersByEvent[eventHandlersByEvent.length] = \\'WxePage_OnAbort\\';\\n  eventHandlers[\\'onabort\\'] = eventHandlersByEvent;\\n\\n\\n  var trackedControls = new Array();\\n\\n  var synchronousPostBackCommands = new Array();\\n\\n  if (SmartPage_Context.Instance == null)\\n  {\\n\\n    SmartPage_Context.Instance = new SmartPage_Context (\\n        \\'Form\\',\\n        false,\\n        null,\\n        \\'<p>Die Seite wird gerade neu geladen.</p><p>Warten Sie mit weiteren Eingaben, bis die Übertragung abgeschlossen ist.</p>\\',\\n        \\'smartScrolling\\',\\n        \\'smartFocus\\',\\n        \\'WxePage_CheckFormState\\');\\n  }\\n\\n  SmartPage_Context.Instance.set_AbortQueuedSubmit (false);\\n  SmartPage_Context.Instance.set_EventHandlers (eventHandlers);\\n  SmartPage_Context.Instance.set_TrackedIDs (trackedControls);\\n  SmartPage_Context.Instance.set_SynchronousPostBackCommands (synchronousPostBackCommands);\\n}\\n\\nSmartPage_Initialize ();\\n\\n\\n//]]>\\n</script>\\n\\n<script src=\"/ScriptResource.axd?d=NJmAwtEo3Ipnlaxl6CMhvu2YaWI2GvMOfyf_RuzpJP3TRfcANC6JnfF-35bVCaeA4GcEmnHeulQza4ZCVOvgW9IjDfEPSHTw4c14SSB7FKyf1HwgC4v5zQ1OXoTfN5SmAXaVCB_M_RI3KwDnMEB3m1P6mXDPq23ILh7f3n-idI81&amp;t=2fe674eb\" type=\"text/javascript\"></script>\\n<script src=\"/ScriptResource.axd?d=dwY9oWetJoJoVpgL6Zq8OLcYxEKQqJh58CdybI10sNy0ZxMYXWVYsSs8igNJ4aoZ-RBh_o4uRyrZ8DedSrtJL4VwL9CwtatadwJggWxvJnZRfDVOPzgGQlRQqkUBXvRARf3tMAupi_kEYXjJmYLnBCrceKrBirFptEYtywYq-8k1&amp;t=2fe674eb\" type=\"text/javascript\"></script>\\n  <script type=\"text/javascript\">\\n//<![CDATA[\\nSys.WebForms.PageRequestManager._initialize(\\'Sdmp$ScriptManager\\', \\'Form\\', [], [], [], 90, \\'Sdmp\\');\\n//]]>\\n</script>\\n\\n  <div id=\"pagebase\">\\n    <div id=\"page\">\\n      \\n\\n<div id=\"header\" class=\"clearfix\">\\n  \\n\\n<span class=\"onlyScreenreader\">Seitenbereiche:</span>\\n<ul id=\"servicenav\">\\n  <li>\\n    <a href=\"#main\" accesskey=\"0\" class=\"onlyScreenreader\">Zum Inhalt (<span lang=\"en\" xml:lang=\"en\">Accesskey</span> 0)</a>\\n  </li>\\n  <li>\\n    <a href=\"#navigation\" accesskey=\"1\" class=\"onlyScreenreader\">Zur Navigationsleiste (<span lang=\"en\" xml:lang=\"en\">Accesskey</span> 1)</a>\\n  </li>\\n  \\n  \\n  \\n  <li>\\n    <a id=\"Header_ServiceNavigation_ContactLink\" accesskey=\"4\" lang=\"de\" xml:lang=\"de\" href=\"/UI/Kontakt.aspx\">Kontakt<span class=\"onlyScreenreader\"> (<span lang=\"en\" xml:lang=\"en\">Accesskey</span> 4)</span>\\n    </a>\\n  </li>\\n  <li>\\n    <a id=\"Header_ServiceNavigation_ImpressumLink\" accesskey=\"5\" lang=\"de\" xml:lang=\"de\" href=\"/UI/Impressum.aspx\">Impressum<span class=\"onlyScreenreader\"> (<span lang=\"en\" xml:lang=\"en\">Accesskey</span> 5)</span>\\n    </a>\\n  </li>\\n  <li>\\n    <a id=\"Header_ServiceNavigation_PrivacyPolicyLink\" accesskey=\"6\" lang=\"de\" xml:lang=\"de\" href=\"/UI/Datenschutz.aspx\">Datenschutzerklärung<span class=\"onlyScreenreader\"> (<span lang=\"en\" xml:lang=\"en\">Accesskey</span> 6)</span>\\n    </a>\\n  </li>\\n  <li>\\n    <a id=\"Header_ServiceNavigation_AccessibilityStatementLink\" accesskey=\"7\" lang=\"de\" xml:lang=\"de\" href=\"/UI/Barrierefreiheit.aspx\">Barrierefreiheitserklärung<span class=\"onlyScreenreader\"> (<span lang=\"en\" xml:lang=\"en\">Accesskey</span> 7)</span>\\n    </a>\\n  </li>\\n  <li>\\n    <a id=\"Header_ServiceNavigation_SiteMapLink\" accesskey=\"8\" lang=\"de\" xml:lang=\"de\" href=\"/UI/SiteMap.aspx\"><span lang=\"en\" xml:lang=\"en\">Sitemap</span><span class=\"onlyScreenreader\"> (<span lang=\"en\" xml:lang=\"en\">Accesskey</span> 8)</span>\\n    </a>\\n  </li>\\n  <li id=\"Header_ServiceNavigation_LanguageItem\">\\n    <a id=\"Header_ServiceNavigation_LanguageLink\" accesskey=\"9\" class=\"last-item\" lang=\"de\" xml:lang=\"de\" href=\"/defaultEn.aspx\">English</a><span class=\"onlyScreenreader\"> (<span lang=\"en\" xml:lang=\"en\">Accesskey</span> 9)</span>\\n  </li>\\n\\n</ul>\\n\\n  <a id=\"Header_HomePageLink\" href=\"/default.aspx\"><img id=\"Header_BkaLogo\" title=\"Zur Startseite\" src=\"/Images/RisHeader.jpg\" alt=\"Rechtsinformationssystem des Bundes\"></a>\\n\\n  <div>\\n    <a id=\"navigation\">\\n      <span class=\"onlyScreenreader\">Navigationsleiste:</span>\\n    </a>\\n    <div id=\"Header_MainNavigation_RisTabbedMenu_MainMenuTabStrip\" class=\"tabbedMainMenu\">\\n\\t<div class=\"tabStripTabsPane\" role=\"tablist\">\\n\\t\\t<ul role=\"none\">\\n\\t\\t\\t<li role=\"none\"><span class=\"tabStripTabWrapper\"><span class=\"tabStripTabSeparator\"><span></span></span><span id=\"Header_MainNavigation_RisTabbedMenu_MainMenuTabStrip_StartseiteTab\" role=\"none\" class=\"tabStripTab\"><a href=\"default.aspx\" id=\"Header_MainNavigation_RisTabbedMenu_StartseiteTab_Command\"><span class=\"anchorBody\"><span>Startseite</span></span></a></span></span></li>\\n\\t\\t\\t<li role=\"none\"><span class=\"tabStripTabWrapper\"><span class=\"tabStripTabSeparator\"><span></span></span><span id=\"Header_MainNavigation_RisTabbedMenu_MainMenuTabStrip_BundesrechtTab\" role=\"none\" class=\"tabStripTab\"><a href=\"Bund/\" id=\"Header_MainNavigation_RisTabbedMenu_BundesrechtTab_Command\"><span class=\"anchorBody\"><span>Bundesrecht</span></span></a></span></span></li>\\n\\t\\t\\t<li role=\"none\"><span class=\"tabStripTabWrapper\"><span class=\"tabStripTabSeparator\"><span></span></span><span id=\"Header_MainNavigation_RisTabbedMenu_MainMenuTabStrip_LandesrechtTab\" role=\"none\" class=\"tabStripTab\"><a href=\"Land/\" id=\"Header_MainNavigation_RisTabbedMenu_LandesrechtTab_Command\"><span class=\"anchorBody\"><span>Landesrecht</span></span></a></span></span></li>\\n\\t\\t\\t<li role=\"none\"><span class=\"tabStripTabWrapper\"><span class=\"tabStripTabSeparator\"><span></span></span><span id=\"Header_MainNavigation_RisTabbedMenu_MainMenuTabStrip_BezirkeTab\" role=\"none\" class=\"tabStripTab\"><a href=\"Bezirke/\" id=\"Header_MainNavigation_RisTabbedMenu_BezirkeTab_Command\"><span class=\"anchorBody\"><span>Bezirke</span></span></a></span></span></li>\\n\\t\\t\\t<li role=\"none\"><span class=\"tabStripTabWrapper\"><span class=\"tabStripTabSeparator\"><span></span></span><span id=\"Header_MainNavigation_RisTabbedMenu_MainMenuTabStrip_GemeinderechtTab\" role=\"none\" class=\"tabStripTab\"><a href=\"Gemeinde/\" id=\"Header_MainNavigation_RisTabbedMenu_GemeinderechtTab_Command\"><span class=\"anchorBody\"><span>Gemeinden</span></span></a></span></span></li>\\n\\t\\t\\t<li role=\"none\"><span class=\"tabStripTabWrapper\"><span class=\"tabStripTabSeparator\"><span></span></span><span id=\"Header_MainNavigation_RisTabbedMenu_MainMenuTabStrip_JudikaturTab\" role=\"none\" class=\"tabStripTabSelected\"><a href=\"Judikatur/\" id=\"Header_MainNavigation_RisTabbedMenu_JudikaturTab_Command\"><span class=\"anchorBody\"><span>Judikatur</span></span></a></span></span></li>\\n\\t\\t\\t<li role=\"none\"><span class=\"tabStripTabWrapper\"><span class=\"tabStripTabSeparator\"><span></span></span><span id=\"Header_MainNavigation_RisTabbedMenu_MainMenuTabStrip_SonstigeTab\" role=\"none\" class=\"tabStripTab\"><a href=\"Sonstige/\" id=\"Header_MainNavigation_RisTabbedMenu_SonstigeTab_Command\"><span class=\"anchorBody\"><span>Kundmachungen, Erlässe</span></span></a></span></span></li>\\n\\t\\t\\t<li role=\"none\"><span class=\"tabStripTabWrapper\"><span class=\"tabStripTabSeparator\"><span></span></span><span id=\"Header_MainNavigation_RisTabbedMenu_MainMenuTabStrip_GesamtabfrageTab\" role=\"none\" class=\"tabStripTab\"><a href=\"Gesamtabfrage/\" id=\"Header_MainNavigation_RisTabbedMenu_GesamtabfrageTab_Command\"><span class=\"anchorBody\"><span>Gesamtabfrage</span></span></a></span></span><span class=\"last\"></span></li>\\n\\n\\t\\t</ul>\\n\\t</div><div class=\"clearingPane\">\\n\\n\\t</div>\\n</div>\\n  </div>\\n\\n</div>\\n\\n      <div id=\"main\">\\n        <div id=\"TopPageNavigation\">\\n          \\n            <div id=\"FirstRow\">\\n              <div class=\"FloatLeft\">\\n                <h1 id=\"Title\">\\n                  Justiz (OGH, OLG, LG, BG, OPMS, AUSL)\\n                </h1>\\n              </div>\\n              <div class=\"FloatRight\">\\n                <span class=\"PrintPreview\">\\n                  <a id=\"PrintPreviewLink\" accesskey=\"D\" href=\"/Dokument.wxe?ResultFunctionToken=dd5e8378-ed0c-40c8-99e6-301846e3e244&amp;Position=1&amp;SkipToDocumentPage=True&amp;Abfrage=Justiz&amp;Gericht=&amp;Rechtssatznummer=&amp;Rechtssatz=&amp;Fundstelle=&amp;AenderungenSeit=Undefined&amp;SucheNachRechtssatz=False&amp;SucheNachText=True&amp;GZ=&amp;VonDatum=&amp;BisDatum=24.01.2022&amp;Norm=&amp;ImRisSeitVonDatum=&amp;ImRisSeitBisDatum=&amp;ImRisSeit=Undefined&amp;ResultPageSize=100&amp;Suchworte=Garant&amp;Dokumentnummer=JJT_20211115_OGH0002_0060OB00065_21H0000_000&amp;ShowPrintPreview=True\" target=\"_blank\">Druckansicht<span class=\"onlyScreenreader\"> (<span lang=\"en\" xml:lang=\"en\">Accesskey</span> D)</span></a><span class=\"onlyScreenreader\">.</span>\\n                </span>\\n                <span class=\"Print\">\\n                  \\n                </span>\\n              </div>\\n              <div class=\"ClearingPane\"></div>\\n            </div>\\n          \\n\\n          \\n        </div>\\n\\n        <div id=\"content\">\\n          \\n  \\n      \\n\\n<div class=\"document\">\\n  <h2 class=\"onlyScreenreader\">\\n    Entscheidungstext 6Ob65/21h\\n  </h2>\\n  <div>\\n    <ul class=\"documentTasks\">\\n      <li>\\n        <a id=\"MainContent_DocumentRepeater_JustizDocumentData_0_RechtssaetzeLink_0\" class=\"documentTask\" href=\"/JustizEntscheidung.wxe?Abfrage=Justiz&amp;Dokumentnummer=JJT_20211115_OGH0002_0060OB00065_21H0000_000&amp;IncludeSelf=False\" target=\"_blank\">Rechtssätze anzeigen</a>\\n      </li>\\n      <li>\\n        <a id=\"MainContent_DocumentRepeater_JustizDocumentData_0_EntscheidungsLink_0\" class=\"documentTask\" href=\"/JustizEntscheidung.wxe?Abfrage=Justiz&amp;Dokumentnummer=JJT_20211115_OGH0002_0060OB00065_21H0000_000&amp;IncludeSelf=True\" target=\"_blank\">Rechtssätze und Entscheidungstext anzeigen</a>\\n      </li>\\n    </ul>\\n  </div>\\n  <div class=\"documentContent\">\\n    \\n\\n<div class=\"documentLinks\">\\n  <h3 class=\"onlyScreenreader\">\\n    Begleitende Dokumente\\n  </h3>\\n  <dl>\\n    \\n      <dt class=\"documentNativeTitle\">\\n        Hauptdokument\\n      </dt>\\n      \\n\\n\\n    \\n    <dd class=\"documentDataItem\">\\n      <a href=\"/Dokumente/Justiz/JJT_20211115_OGH0002_0060OB00065_21H0000_000/JJT_20211115_OGH0002_0060OB00065_21H0000_000.html\" target=\"_blank\" title=\"Web-Seite: 6Ob65/21h \" class=\"iconOnlyLink\"><img src=\"Images/htm.gif\" class=\"Icon\" alt=\"Web-Seite\" style=\"width:16px;height:16px;\"></a>\\n    </dd>\\n  \\n    \\n    <dd class=\"documentDataItem\">\\n      <a href=\"/Dokumente/Justiz/JJT_20211115_OGH0002_0060OB00065_21H0000_000/JJT_20211115_OGH0002_0060OB00065_21H0000_000.pdf\" target=\"_blank\" title=\"PDF-Dokument: 6Ob65/21h \" class=\"iconOnlyLink\"><img src=\"Images/pdf.gif\" class=\"Icon\" alt=\"PDF-Dokument\" style=\"width:16px;height:16px;\"></a>\\n    </dd>\\n  \\n    \\n    <dd class=\"documentDataItem\">\\n      <a href=\"/Dokumente/Justiz/JJT_20211115_OGH0002_0060OB00065_21H0000_000/JJT_20211115_OGH0002_0060OB00065_21H0000_000.rtf\" target=\"_blank\" title=\"RTF-Dokument: 6Ob65/21h \" class=\"iconOnlyLink\"><img src=\"Images/doc.gif\" class=\"Icon\" alt=\"RTF-Dokument\" style=\"width:16px;height:16px;\"></a>\\n    </dd>\\n  \\n    \\n    \\n    \\n    \\n  </dl>\\n</div>\\n    \\n    <div class=\"p\">\\n      <div class=\"FloatLeft\">\\n        <h3>Gericht</h3>\\n        <a href=\"https://www.ogh.gv.at/\" target=\"_blank\" title=\"Webseite des Obersten Gerichtshofs\">OGH</a>\\n      </div>\\n      <div class=\"FloatLeft\">\\n        <h3>Dokumenttyp</h3>\\n        Entscheidungstext\\n      </div>\\n      <div class=\"ClearingPane\"></div>\\n    </div>\\n    \\n    \\n    <div class=\"p\">\\n      <h3>Geschäftszahl</h3>\\n      6Ob65/21h\\n    </div>\\n    <div class=\"p\">\\n      <h3>Entscheidungsdatum</h3>\\n      15.11.2021\\n    </div>\\n    \\n    <div id=\"MainContent_DocumentRepeater_JustizDocumentData_0_KopfContainer_0\" class=\"p embeddedContent\">\\n      <h3>Kopf</h3>\\n      <div><div class=\"contentBlock\"><p class=\"ErlText AlignLeft\">Der Oberste Gerichtshof hat als Revisionsgericht durch den Senatspräsidenten Hon.-Prof.&nbsp;Dr.&nbsp;Gitschthaler als Vorsitzenden, die Hofräte Univ.-Prof.&nbsp;Dr.&nbsp;Kodek, Dr.&nbsp;Nowotny, die Hofrätin Dr.&nbsp;Faber und den Hofrat Mag.&nbsp;Pertmayr als weitere Richter in der Rechtssache der klagenden Partei W* GmbH, *, vertreten durch Dr.&nbsp;Peter Gatternig und Mag.&nbsp;Karl Gatternig, LL.M., Rechtsanwälte in Wien gegen die beklagte Partei T* AG, *, vertreten durch DORDA Rechtsanwälte&nbsp;GmbH in Wien, wegen 381.993,91&nbsp;EUR sA und Bewirkung einer Pfandfreistellung, über die außerordentliche Revision der klagenden Partei gegen das Urteil des Oberlandesgerichts Wien als Berufungsgericht vom 26.&nbsp;Februar&nbsp;2021, GZ&nbsp;4&nbsp;R&nbsp;108/20m-50, in nichtöffentlicher Sitzung den</p><p class=\"TabTextZentriert AlignCenter\">Beschluss</p><p class=\"ErlText AlignLeft\"><span>gefasst:</span></p></div></div>\\n    </div>\\n    <div id=\"MainContent_DocumentRepeater_JustizDocumentData_0_SpruchContainer_0\" class=\"p embeddedContent\">\\n      <h3>Spruch</h3>\\n      <div><div class=\"contentBlock\"><p class=\"ErlText AlignLeft\"><span>Die außerordentliche Revision wird gemäß §&nbsp;508a Abs&nbsp;2 ZPO mangels der Voraussetzungen des §&nbsp;502 Abs&nbsp;1 ZPO zurückgewiesen (§&nbsp;510 Abs&nbsp;3 ZPO).</span></p><p class=\"TabTextZentriert AlignCenter\">Begründung:</p></div></div>\\n    </div>\\n    \\n    <div id=\"MainContent_DocumentRepeater_JustizDocumentData_0_RechtlicheBeurteilungContainer_0\" class=\"p embeddedContent\">\\n      <h3>Rechtliche Beurteilung</h3>\\n      <div><div class=\"contentBlock\"><p class=\"ErlText AlignLeft\"> [1] &nbsp;&nbsp;&nbsp;&nbsp;&nbsp;&nbsp;&nbsp;&nbsp;&nbsp;<span>1.&nbsp;Die behauptete Aktenwidrigkeit und die behauptete Mangelhaftigkeit des Berufungsverfahrens wurden geprüft, sie liegen nicht vor (§&nbsp;510 Abs&nbsp;3 ZPO).</span></p><p class=\"ErlText AlignLeft\"><span> [2] </span>&nbsp;&nbsp;&nbsp;&nbsp;&nbsp;&nbsp;&nbsp;&nbsp;&nbsp;&nbsp;&nbsp;<span>2.1&nbsp;Beim echten Garantievertrag übernimmt der <span style=\"white-space:nowrap;\"><a id=\"hit0\"></a><span class=\"highlighted\">Garant</span><a class=\"nextResultLink\" href=\"#hit1\" title=\"Nächster Suchbegriff\"><img src=\"/Images/forward.gif\" alt=\"Nächster Suchbegriff\"></a></span> gegenüber dem Begünstigten die Haftung für den noch ungewissen Erfolg eines Unternehmens im weitesten Sinn oder für den durch ein Unternehmen entstehenden Schaden (<a href=\"/Ergebnis.wxe?Abfrage=Justiz&amp;Rechtssatznummer=RS0017001&amp;SkipToDocumentPage=True&amp;SucheNachRechtssatz=True&amp;SucheNachText=False\" target=\"_blank\">RS0017001</a>). Zweck dieses Vertrags ist, dass der <span style=\"white-space:nowrap;\"><a id=\"hit1\"></a><a class=\"previousResultLink\" href=\"#hit0\" title=\"Vorheriger Suchbegriff\"><img src=\"/Images/back.gif\" alt=\"Vorheriger Suchbegriff\"></a><span class=\"highlighted\">Garant</span><a class=\"nextResultLink\" href=\"#hit2\" title=\"Nächster Suchbegriff\"><img src=\"/Images/forward.gif\" alt=\"Nächster Suchbegriff\"></a></span> dem Begünstigten für den Eintritt eines bestimmten Erfolgs einzustehen hat; dabei soll der <span style=\"white-space:nowrap;\"><a id=\"hit2\"></a><a class=\"previousResultLink\" href=\"#hit1\" title=\"Vorheriger Suchbegriff\"><img src=\"/Images/back.gif\" alt=\"Vorheriger Suchbegriff\"></a><span class=\"highlighted\">Garant</span></span> nicht etwa den von ihm garantierten Erfolg selbst herbeiführen, sondern lediglich im Fall des Nichteintritts den wirtschaftlichen Ausfall des Begünstigten decken, das heißt sein Interesse ersetzen (<a href=\"/Ergebnis.wxe?Abfrage=Justiz&amp;GZ=10Ob20/20v&amp;SkipToDocumentPage=True&amp;SucheNachRechtssatz=False&amp;SucheNachText=True\" target=\"_blank\">10&nbsp;Ob&nbsp;20/20v</a> [ErwGr&nbsp;2.]).</span></p><p class=\"ErlText AlignLeft\"><span> [3] </span>&nbsp;&nbsp;&nbsp;&nbsp;&nbsp;&nbsp;&nbsp;&nbsp;&nbsp;&nbsp;&nbsp;<span>2.2&nbsp;Eine dreipersonale Garantie liegt vor, wenn die Verpflichtung des Garanten gegenüber dem Begünstigten ihren Rechtsgrund in seiner Beziehung zu einem Dritten hat. Die Leistung des Garanten findet dabei ihre Rechtfertigung einerseits in seinem Deckungsverhältnis zum Dritten, andererseits in dem zwischen dem Dritten und dem Begünstigten bestehenden Valutaverhältnis. Unter einer zweipersonalen Garantie ist hingegen eine solche zu verstehen, bei der die Zuwendung des Garanten an den Begünstigten ihre causa, ihren Grund, allein in der Beziehung zwischen diesen beiden Beteiligten findet (<a href=\"/Ergebnis.wxe?Abfrage=Justiz&amp;GZ=10Ob20/20v&amp;SkipToDocumentPage=True&amp;SucheNachRechtssatz=False&amp;SucheNachText=True\" target=\"_blank\">10&nbsp;Ob&nbsp;20/20v</a> [ErwGr&nbsp;3.1., 4.1.]).</span></p><p class=\"ErlText AlignLeft\"><span> [4] </span>&nbsp;&nbsp;&nbsp;&nbsp;&nbsp;&nbsp;&nbsp;&nbsp;&nbsp;&nbsp;&nbsp;<span>2.3&nbsp;Da ein abstraktes Verpflichtungsgeschäft dem österreichischen Recht außerhalb des Wertpapier- und Anweisungsrechts grundsätzlich fremd ist (<a href=\"/Ergebnis.wxe?Abfrage=Justiz&amp;GZ=10Ob20/20v&amp;SkipToDocumentPage=True&amp;SucheNachRechtssatz=False&amp;SucheNachText=True\" target=\"_blank\">10&nbsp;Ob&nbsp;20/20v</a> [ErwGr&nbsp;4.3.]; vgl <a href=\"/Ergebnis.wxe?Abfrage=Justiz&amp;Rechtssatznummer=RS0014027&amp;SkipToDocumentPage=True&amp;SucheNachRechtssatz=True&amp;SucheNachText=False\" target=\"_blank\">RS0014027</a> [T2]), bedürfen zweipersonale Garantien zu ihrer Gültigkeit der Anführung der causa, die sie erklärt. Wenn eine entsprechende causa besteht, kann nach österreichischem Recht über den Wortlaut des §&nbsp;880a ABGB hinaus jede sonstige Erfolgshaftung, und jede Haftung für einen Schaden, mittels Garantievertrags übernommen werden. Zweipersonale Garantien dürfen daher nicht als isoliert bestehende Rechtsgeschäfte betrachtet werden, sondern sind vielmehr ihrem Zweck entsprechend als Teil einer geschlossenen Vertragskette anzusehen. Eine entgeltliche causa kann bei einer zweipersonalen Garantie darin bestehen, dass der Garantiebegünstigte durch die Garantie zu einer bestimmten Tätigkeit oder zur Beteiligung an einer Unternehmung animiert wird (<a href=\"/Ergebnis.wxe?Abfrage=Justiz&amp;GZ=10Ob20/20v&amp;SkipToDocumentPage=True&amp;SucheNachRechtssatz=False&amp;SucheNachText=True\" target=\"_blank\">10&nbsp;Ob&nbsp;20/20v</a> [ErwGr&nbsp;4.4., 5.1.]).</span></p><p class=\"ErlText AlignLeft\"><span> [5] </span>&nbsp;&nbsp;&nbsp;&nbsp;&nbsp;&nbsp;&nbsp;&nbsp;&nbsp;&nbsp;&nbsp;<span>3.1&nbsp;Die Abgrenzung der Garantie von anderen Vertragstypen erfolgt durch Auslegung (vgl <a href=\"/Ergebnis.wxe?Abfrage=Justiz&amp;GZ=4Ob200/20w&amp;SkipToDocumentPage=True&amp;SucheNachRechtssatz=False&amp;SucheNachText=True\" target=\"_blank\">4&nbsp;Ob&nbsp;200/20w</a>). Ob ein Vertrag im Einzelfall richtig ausgelegt wurde, stellt aber nur dann eine erhebliche Rechtsfrage dar, wenn infolge einer wesentlichen Verkennung der Rechtslage ein unvertretbares Auslegungsergebnis erzielt wurde (<a href=\"/Ergebnis.wxe?Abfrage=Justiz&amp;Rechtssatznummer=RS0042936&amp;SkipToDocumentPage=True&amp;SucheNachRechtssatz=True&amp;SucheNachText=False\" target=\"_blank\">RS0042936</a>), wobei eine erhebliche Rechtsfrage iSd §&nbsp;502 Abs&nbsp;1 ZPO selbst dann nicht vorliegt, wenn (auch) die vom Rechtsmittelwerber angestrebte Vertragsauslegung vertretbar ist (<a href=\"/Ergebnis.wxe?Abfrage=Justiz&amp;GZ=6Ob52/12h&amp;SkipToDocumentPage=True&amp;SucheNachRechtssatz=False&amp;SucheNachText=True\" target=\"_blank\">6&nbsp;Ob&nbsp;52/12h</a>; <a href=\"/Ergebnis.wxe?Abfrage=Justiz&amp;GZ=6Ob105/05t&amp;SkipToDocumentPage=True&amp;SucheNachRechtssatz=False&amp;SucheNachText=True\" target=\"_blank\">6&nbsp;Ob&nbsp;105/05t</a>). Auch die im Rahmen eines Garantievertrags abgegebenen Erklärungen des Garanten unterliegen den Auslegungsregeln der §§&nbsp;914, 915 ABGB (<a href=\"/Ergebnis.wxe?Abfrage=Justiz&amp;Rechtssatznummer=RS0033002&amp;SkipToDocumentPage=True&amp;SucheNachRechtssatz=True&amp;SucheNachText=False\" target=\"_blank\">RS0033002</a>), sodass deren Interpretation regelmäßig keine erheblichen Rechtsfragen aufwirft (<a href=\"/Ergebnis.wxe?Abfrage=Justiz&amp;Rechtssatznummer=RS0017670&amp;SkipToDocumentPage=True&amp;SucheNachRechtssatz=True&amp;SucheNachText=False\" target=\"_blank\">RS0017670</a>&nbsp;[T15]).</span></p><p class=\"ErlText AlignLeft\"><span> [6] </span>&nbsp;&nbsp;&nbsp;&nbsp;&nbsp;&nbsp;&nbsp;&nbsp;&nbsp;&nbsp;&nbsp;<span>3.2&nbsp;Im vorliegenden Fall wollten die Streitteile das Fortbestehen eines von ihnen gesponserten, vor der Insolvenz stehenden Fußballvereins erreichen. Dazu vereinbarten sie im Oktober&nbsp;2007 miteinander, dass die Klägerin auf eine Forderung gegen die Managementgesellschaft dieses Vereins verzichtet und die Beklagte künftig Sponsorgelder in bestimmter Höhe zusichert, ihr dafür aber die gesamte werbliche Nutzung des Vereins zustehen sollte. Da es der Klägerin dabei ein Anliegen war, nicht ganz leer auszugehen und zumindest ein für einen Bankkredit der Managementgesellschaft verpfändetes Wertpapierdepot nicht auch noch aufgeben zu müssen, sondern dieses wieder (pfand-)frei zu bekommen, verpflichtete sich die Beklagte gegenüber der Klägerin, die Freiwerdung dieses Wertpapierdepots durch kurzfristige Abdeckung des Kredits zu erwirken.</span></p><p class=\"ErlText AlignLeft\"><span> [7] </span>&nbsp;&nbsp;&nbsp;&nbsp;&nbsp;&nbsp;&nbsp;&nbsp;&nbsp;&nbsp;&nbsp;<span>3.3&nbsp;Das Berufungsgericht legte die Vereinbarung über die Pfandfreimachung als zweipersonale Garantie aus und begründete dies damit, dass die Beklagte nicht eine Haftung oder Bürgschaft für einen allfälligen Regressanspruch der Klägerin gegenüber der Hauptschuldnerin des Kreditvertrags übernommen, sondern für einen bestimmten Erfolg, nämlich das Unterbleiben der Pfandverwertung einzustehen gehabt habe. Dieses Auslegungsergebnis hält sich im Rahmen der erörterten Rechtsprechung, zumal die festgestellte und von der Klägerin als „tauschähnlich“ bezeichnete Vereinbarung als eine der zweipersonalen Garantie zugrundeliegende entgeltliche causa angesehen werden kann. Die außerordentliche Revision wirft daher keine erhebliche Rechtsfrage auf.</span></p><p class=\"ErlText AlignLeft\"><span> [8] </span>&nbsp;&nbsp;&nbsp;&nbsp;&nbsp;&nbsp;&nbsp;&nbsp;&nbsp;&nbsp;&nbsp;<span>4.1&nbsp;Liegt eine dreipersonale Garantieerklärung vor, kommt generell die Verjährungsregelung des §&nbsp;1489 ABGB zur Anwendung. Denn Garantien haben regelmäßig die Funktion, einen Schaden, den der Begünstigte durch den Nichteintritt eines Erfolgs erleidet, auszugleichen, auch wenn sie nicht Schadenersatzansprüche im eigentlichen Sinn sind, weil sie losgelöst von Verursachung, Rechtswidrigkeit und Verschulden sind (<a href=\"/Ergebnis.wxe?Abfrage=Justiz&amp;GZ=4Ob200/20w&amp;SkipToDocumentPage=True&amp;SucheNachRechtssatz=False&amp;SucheNachText=True\" target=\"_blank\">4&nbsp;Ob&nbsp;200/20w</a>; <a href=\"/Ergebnis.wxe?Abfrage=Justiz&amp;GZ=5Ob215/08s&amp;SkipToDocumentPage=True&amp;SucheNachRechtssatz=False&amp;SucheNachText=True\" target=\"_blank\">5&nbsp;Ob&nbsp;215/08s</a>). Diese Verjährungsregelung wurde auch im Fall einer zweipersonalen Garantie mit Schadenersatzfunktion angewendet (<a href=\"/Ergebnis.wxe?Abfrage=Justiz&amp;GZ=1Ob138/05h&amp;SkipToDocumentPage=True&amp;SucheNachRechtssatz=False&amp;SucheNachText=True\" target=\"_blank\">1&nbsp;Ob&nbsp;138/05h</a>).</span></p><p class=\"ErlText AlignLeft\"><span> [9] </span>&nbsp;&nbsp;&nbsp;&nbsp;&nbsp;&nbsp;&nbsp;&nbsp;&nbsp;&nbsp;&nbsp;<span>4.2&nbsp;Die Verjährungsfrist beginnt zwar nicht vor dem tatsächlichen Eintritt der Rechtsgutsverletzung (also des „Primärschadens“) zu laufen. Mit dessen positiver Kenntnis wird sie aber nach ständiger Rechtsprechung auch schon dann in Gang gesetzt, wenn der Geschädigte die Höhe seines Schadens noch nicht beziffern kann, ihm noch nicht alle Schadensfolgen bekannt bzw diese noch nicht zur Gänze eingetreten sind. Der drohenden Verjährung muss der Geschädigte mit einer Feststellungsklage begegnen (vgl <a href=\"/Ergebnis.wxe?Abfrage=Justiz&amp;Rechtssatznummer=RS0087615&amp;SkipToDocumentPage=True&amp;SucheNachRechtssatz=True&amp;SucheNachText=False\" target=\"_blank\">RS0087615</a>; zur Garantie: <a href=\"/Ergebnis.wxe?Abfrage=Justiz&amp;GZ=5Ob7/06z&amp;SkipToDocumentPage=True&amp;SucheNachRechtssatz=False&amp;SucheNachText=True\" target=\"_blank\">5&nbsp;Ob&nbsp;7/06z</a>;</span> <span><a href=\"/Ergebnis.wxe?Abfrage=Justiz&amp;GZ=1Ob138/05h&amp;SkipToDocumentPage=True&amp;SucheNachRechtssatz=False&amp;SucheNachText=True\" target=\"_blank\">1&nbsp;Ob&nbsp;138/05h</a>). Wann in einem konkreten Fall die Verjährungsfrist zu laufen beginnt, hängt von dem Umständen des Einzelfalls ab (<a href=\"/Ergebnis.wxe?Abfrage=Justiz&amp;Rechtssatznummer=RS0044464&amp;SkipToDocumentPage=True&amp;SucheNachRechtssatz=True&amp;SucheNachText=False\" target=\"_blank\">RS0044464</a> [T7]).</span></p><p class=\"ErlText AlignLeft\"><span> [10] </span>&nbsp;&nbsp;&nbsp;&nbsp;&nbsp;&nbsp;&nbsp;&nbsp;&nbsp;&nbsp;<span>4.3&nbsp;Nach den Feststellungen musste die Klägerin nach Stundung der an sich bereits im Februar&nbsp;2009 fälligen Kreditschuld der Managementgesellschaft erstmals im Oktober&nbsp;2009 und danach wiederholt bestimmte Beträge (in Summe den Klagsbetrag) an die kreditgebende Bank zahlen, um die Verwertung des verpfändeten Wertpapierdepots zu vermeiden. Am 15.&nbsp;1.&nbsp;2010 hatte die Bank über den Ablauf des Kredits mit 31.&nbsp;12.&nbsp;2009 informiert und den offenen Betrag fällig gestellt.</span></p><p class=\"ErlText AlignLeft\"><span> [11] </span>&nbsp;&nbsp;&nbsp;&nbsp;&nbsp;&nbsp;&nbsp;&nbsp;&nbsp;&nbsp;<span>Das Berufungsgericht war der Ansicht, es liege eine Garantie mit Schadenersatzfunktion vor. Die Beklagte als Garantin hafte allerdings gegenüber der Bank nicht für die Kreditschuld, weshalb ein Regress unter Interzedenten nicht in Betracht komme. Der Beginn der Verjährungsfrist sei spätestens mit Fälligstellung des Kredits im Jänner&nbsp;2010 anzunehmen, weil damit für die Klägerin festgestanden sei, dass die Beklagte ihr Garantieversprechen nicht erfüllt habe und die Pfandverwertung drohe. Die Ansprüche der Klägerin seien daher bei Klagseinbringung im Jahr&nbsp;2016 bereits verjährt gewesen. Darin ist keine aufzugreifende Fehlbeurteilung zu erblicken.</span></p><p class=\"ErlText AlignLeft\"><span> [12] </span>&nbsp;&nbsp;&nbsp;&nbsp;&nbsp;&nbsp;&nbsp;&nbsp;&nbsp;&nbsp;<span>5.&nbsp;Mangels zu beurteilender erheblicher Rechtsfragen iSd §&nbsp;502 Abs&nbsp;1 ZPO war die außerordentliche Revision zurückzuweisen.</span></p></div></div>\\n    </div>\\n    \\n    \\n    \\n    <div id=\"MainContent_DocumentRepeater_JustizDocumentData_0_TextnummerContainer_0\" class=\"p\">\\n      <h3>Textnummer</h3>\\n      E133497\\n    </div>\\n    \\n    <div id=\"MainContent_DocumentRepeater_JustizDocumentData_0_EcliContainer_0\" class=\"p\">\\n      <h3>European Case Law Identifier (ECLI)</h3>\\n      ECLI:AT:OGH0002:2021:0060OB00065.21H.1115.000\\n    </div>\\n    <div id=\"MainContent_DocumentRepeater_JustizDocumentData_0_VeroeffentlichungsdatumAenderungsdatumContainer_0\" class=\"p\">\\n      <div id=\"MainContent_DocumentRepeater_JustizDocumentData_0_VeroeffentlichungsdatumContainer_0\" class=\"FloatLeft\">\\n        <h3>Im RIS seit</h3>\\n        18.01.2022\\n      </div>\\n      <div id=\"MainContent_DocumentRepeater_JustizDocumentData_0_AenderungsdatumContainer_0\" class=\"FloatLeft\">\\n        <h3>Zuletzt aktualisiert am</h3>\\n        18.01.2022\\n      </div>\\n      <div class=\"ClearingPane\"></div>\\n    </div>\\n    <div class=\"p\">\\n      <h3>Dokumentnummer</h3>\\n      JJT_20211115_OGH0002_0060OB00065_21H0000_000\\n    </div>\\n  </div>\\n</div>\\n\\n    \\n\\n        </div>\\n\\n        \\n\\n        <div class=\"ClearingPane\"></div>\\n\\n        \\n\\n      </div>\\n\\n      \\n<div id=\"footer\">\\n  <div id=\"Topline\">\\n    <a href=\"#header\">\\n      Zum Seitenanfang\\n    </a><span class=\"onlyScreenreader\">.</span>\\n  </div>\\n  <h2 class=\"onlyScreenreader\">\\n    Über diese Seite\\n  </h2>\\n  <ul id=\"Bottomline\">\\n    <li id=\"Copyright\">\\n      © 2022 Bundesministerium für Digitalisierung und Wirtschaftsstandort  \\n    </li>\\n    \\n  </ul>\\n</div>\\n    </div>\\n  </div>\\n\\n\\n\\n<script type=\"text/javascript\">\\n//<![CDATA[\\nris.popup.completeNormIcon = \\'/Images/CompleteNorm.gif\\'\\nris.popup.completeNormForReferenceDateIcon = \\'/Images/CompleteNormForReferenceDate.gif\\'\\nris.popup.linkIcon = \\'/Images/forward.gif\\'\\nris.popup.bgblLinkServiceUrl = \\'/UI/Bund/BgblLinkService.asmx\\'\\nris.popup.lgblLinkServiceUrl = \\'/UI/Land/Landesnormen/LgblLinkService.asmx\\'\\nris.popup.selectedDocumentVersionClass = \\'selectedDocumentVersion\\'\\nris.popup.currentDocumentVersionClass = \\'currentDocumentVersion\\'\\nris.popup.iconOnlyLinkClass = \\'iconOnlyLink\\'\\n\\nSmartPage_OnStartUp (false, false);\\nWebTabStrip.Initialize ($(\\'#Header_MainNavigation_RisTabbedMenu_MainMenuTabStrip\\'));\\nStyleUtility.CreateBorderSpans (\\'#Header_MainNavigation_RisTabbedMenu_MainMenuTabStrip_StartseiteTab > *:first\\');\\nStyleUtility.CreateBorderSpans (\\'#Header_MainNavigation_RisTabbedMenu_MainMenuTabStrip_BundesrechtTab > *:first\\');\\nStyleUtility.CreateBorderSpans (\\'#Header_MainNavigation_RisTabbedMenu_MainMenuTabStrip_LandesrechtTab > *:first\\');\\nStyleUtility.CreateBorderSpans (\\'#Header_MainNavigation_RisTabbedMenu_MainMenuTabStrip_BezirkeTab > *:first\\');\\nStyleUtility.CreateBorderSpans (\\'#Header_MainNavigation_RisTabbedMenu_MainMenuTabStrip_GemeinderechtTab > *:first\\');\\nStyleUtility.CreateBorderSpans (\\'#Header_MainNavigation_RisTabbedMenu_MainMenuTabStrip_JudikaturTab > *:first\\');\\nStyleUtility.CreateBorderSpans (\\'#Header_MainNavigation_RisTabbedMenu_MainMenuTabStrip_SonstigeTab > *:first\\');\\nStyleUtility.CreateBorderSpans (\\'#Header_MainNavigation_RisTabbedMenu_MainMenuTabStrip_GesamtabfrageTab > *:first\\');\\n//]]>\\n</script>\\n</form>\\n\\n</body></html>'"
      ]
     },
     "execution_count": 147,
     "metadata": {},
     "output_type": "execute_result"
    }
   ],
   "source": [
    "driver.page_source"
   ]
  },
  {
   "cell_type": "code",
   "execution_count": 155,
   "id": "d73a918b",
   "metadata": {},
   "outputs": [
    {
     "name": "stderr",
     "output_type": "stream",
     "text": [
      "/var/folders/_l/3r37kqhd699__pxb_zz12_940000gn/T/ipykernel_32943/1800129044.py:1: DeprecationWarning: find_elements_by_* commands are deprecated. Please use find_elements() instead\n",
      "  driver.find_elements_by_css_selector('div.documentContent')[0].text\n"
     ]
    },
    {
     "data": {
      "text/plain": [
       "'Hauptdokument\\nGericht\\nOGH\\nDokumenttyp\\nEntscheidungstext\\nGeschäftszahl\\n6Ob65/21h\\nEntscheidungsdatum\\n15.11.2021\\nKopf\\nDer Oberste Gerichtshof hat als Revisionsgericht durch den Senatspräsidenten Hon.-Prof. Dr. Gitschthaler als Vorsitzenden, die Hofräte Univ.-Prof. Dr. Kodek, Dr. Nowotny, die Hofrätin Dr. Faber und den Hofrat Mag. Pertmayr als weitere Richter in der Rechtssache der klagenden Partei W* GmbH, *, vertreten durch Dr. Peter Gatternig und Mag. Karl Gatternig, LL.M., Rechtsanwälte in Wien gegen die beklagte Partei T* AG, *, vertreten durch DORDA Rechtsanwälte GmbH in Wien, wegen 381.993,91 EUR sA und Bewirkung einer Pfandfreistellung, über die außerordentliche Revision der klagenden Partei gegen das Urteil des Oberlandesgerichts Wien als Berufungsgericht vom 26. Februar 2021, GZ 4 R 108/20m-50, in nichtöffentlicher Sitzung den\\nBeschluss\\ngefasst:\\nSpruch\\nDie außerordentliche Revision wird gemäß § 508a Abs 2 ZPO mangels der Voraussetzungen des § 502 Abs 1 ZPO zurückgewiesen (§ 510 Abs 3 ZPO).\\nBegründung:\\nRechtliche Beurteilung\\n[1]          1. Die behauptete Aktenwidrigkeit und die behauptete Mangelhaftigkeit des Berufungsverfahrens wurden geprüft, sie liegen nicht vor (§ 510 Abs 3 ZPO).\\n[2]            2.1 Beim echten Garantievertrag übernimmt der Garant gegenüber dem Begünstigten die Haftung für den noch ungewissen Erfolg eines Unternehmens im weitesten Sinn oder für den durch ein Unternehmen entstehenden Schaden (RS0017001). Zweck dieses Vertrags ist, dass der Garant dem Begünstigten für den Eintritt eines bestimmten Erfolgs einzustehen hat; dabei soll der Garant nicht etwa den von ihm garantierten Erfolg selbst herbeiführen, sondern lediglich im Fall des Nichteintritts den wirtschaftlichen Ausfall des Begünstigten decken, das heißt sein Interesse ersetzen (10 Ob 20/20v [ErwGr 2.]).\\n[3]            2.2 Eine dreipersonale Garantie liegt vor, wenn die Verpflichtung des Garanten gegenüber dem Begünstigten ihren Rechtsgrund in seiner Beziehung zu einem Dritten hat. Die Leistung des Garanten findet dabei ihre Rechtfertigung einerseits in seinem Deckungsverhältnis zum Dritten, andererseits in dem zwischen dem Dritten und dem Begünstigten bestehenden Valutaverhältnis. Unter einer zweipersonalen Garantie ist hingegen eine solche zu verstehen, bei der die Zuwendung des Garanten an den Begünstigten ihre causa, ihren Grund, allein in der Beziehung zwischen diesen beiden Beteiligten findet (10 Ob 20/20v [ErwGr 3.1., 4.1.]).\\n[4]            2.3 Da ein abstraktes Verpflichtungsgeschäft dem österreichischen Recht außerhalb des Wertpapier- und Anweisungsrechts grundsätzlich fremd ist (10 Ob 20/20v [ErwGr 4.3.]; vgl RS0014027 [T2]), bedürfen zweipersonale Garantien zu ihrer Gültigkeit der Anführung der causa, die sie erklärt. Wenn eine entsprechende causa besteht, kann nach österreichischem Recht über den Wortlaut des § 880a ABGB hinaus jede sonstige Erfolgshaftung, und jede Haftung für einen Schaden, mittels Garantievertrags übernommen werden. Zweipersonale Garantien dürfen daher nicht als isoliert bestehende Rechtsgeschäfte betrachtet werden, sondern sind vielmehr ihrem Zweck entsprechend als Teil einer geschlossenen Vertragskette anzusehen. Eine entgeltliche causa kann bei einer zweipersonalen Garantie darin bestehen, dass der Garantiebegünstigte durch die Garantie zu einer bestimmten Tätigkeit oder zur Beteiligung an einer Unternehmung animiert wird (10 Ob 20/20v [ErwGr 4.4., 5.1.]).\\n[5]            3.1 Die Abgrenzung der Garantie von anderen Vertragstypen erfolgt durch Auslegung (vgl 4 Ob 200/20w). Ob ein Vertrag im Einzelfall richtig ausgelegt wurde, stellt aber nur dann eine erhebliche Rechtsfrage dar, wenn infolge einer wesentlichen Verkennung der Rechtslage ein unvertretbares Auslegungsergebnis erzielt wurde (RS0042936), wobei eine erhebliche Rechtsfrage iSd § 502 Abs 1 ZPO selbst dann nicht vorliegt, wenn (auch) die vom Rechtsmittelwerber angestrebte Vertragsauslegung vertretbar ist (6 Ob 52/12h; 6 Ob 105/05t). Auch die im Rahmen eines Garantievertrags abgegebenen Erklärungen des Garanten unterliegen den Auslegungsregeln der §§ 914, 915 ABGB (RS0033002), sodass deren Interpretation regelmäßig keine erheblichen Rechtsfragen aufwirft (RS0017670 [T15]).\\n[6]            3.2 Im vorliegenden Fall wollten die Streitteile das Fortbestehen eines von ihnen gesponserten, vor der Insolvenz stehenden Fußballvereins erreichen. Dazu vereinbarten sie im Oktober 2007 miteinander, dass die Klägerin auf eine Forderung gegen die Managementgesellschaft dieses Vereins verzichtet und die Beklagte künftig Sponsorgelder in bestimmter Höhe zusichert, ihr dafür aber die gesamte werbliche Nutzung des Vereins zustehen sollte. Da es der Klägerin dabei ein Anliegen war, nicht ganz leer auszugehen und zumindest ein für einen Bankkredit der Managementgesellschaft verpfändetes Wertpapierdepot nicht auch noch aufgeben zu müssen, sondern dieses wieder (pfand-)frei zu bekommen, verpflichtete sich die Beklagte gegenüber der Klägerin, die Freiwerdung dieses Wertpapierdepots durch kurzfristige Abdeckung des Kredits zu erwirken.\\n[7]            3.3 Das Berufungsgericht legte die Vereinbarung über die Pfandfreimachung als zweipersonale Garantie aus und begründete dies damit, dass die Beklagte nicht eine Haftung oder Bürgschaft für einen allfälligen Regressanspruch der Klägerin gegenüber der Hauptschuldnerin des Kreditvertrags übernommen, sondern für einen bestimmten Erfolg, nämlich das Unterbleiben der Pfandverwertung einzustehen gehabt habe. Dieses Auslegungsergebnis hält sich im Rahmen der erörterten Rechtsprechung, zumal die festgestellte und von der Klägerin als „tauschähnlich“ bezeichnete Vereinbarung als eine der zweipersonalen Garantie zugrundeliegende entgeltliche causa angesehen werden kann. Die außerordentliche Revision wirft daher keine erhebliche Rechtsfrage auf.\\n[8]            4.1 Liegt eine dreipersonale Garantieerklärung vor, kommt generell die Verjährungsregelung des § 1489 ABGB zur Anwendung. Denn Garantien haben regelmäßig die Funktion, einen Schaden, den der Begünstigte durch den Nichteintritt eines Erfolgs erleidet, auszugleichen, auch wenn sie nicht Schadenersatzansprüche im eigentlichen Sinn sind, weil sie losgelöst von Verursachung, Rechtswidrigkeit und Verschulden sind (4 Ob 200/20w; 5 Ob 215/08s). Diese Verjährungsregelung wurde auch im Fall einer zweipersonalen Garantie mit Schadenersatzfunktion angewendet (1 Ob 138/05h).\\n[9]            4.2 Die Verjährungsfrist beginnt zwar nicht vor dem tatsächlichen Eintritt der Rechtsgutsverletzung (also des „Primärschadens“) zu laufen. Mit dessen positiver Kenntnis wird sie aber nach ständiger Rechtsprechung auch schon dann in Gang gesetzt, wenn der Geschädigte die Höhe seines Schadens noch nicht beziffern kann, ihm noch nicht alle Schadensfolgen bekannt bzw diese noch nicht zur Gänze eingetreten sind. Der drohenden Verjährung muss der Geschädigte mit einer Feststellungsklage begegnen (vgl RS0087615; zur Garantie: 5 Ob 7/06z; 1 Ob 138/05h). Wann in einem konkreten Fall die Verjährungsfrist zu laufen beginnt, hängt von dem Umständen des Einzelfalls ab (RS0044464 [T7]).\\n[10]           4.3 Nach den Feststellungen musste die Klägerin nach Stundung der an sich bereits im Februar 2009 fälligen Kreditschuld der Managementgesellschaft erstmals im Oktober 2009 und danach wiederholt bestimmte Beträge (in Summe den Klagsbetrag) an die kreditgebende Bank zahlen, um die Verwertung des verpfändeten Wertpapierdepots zu vermeiden. Am 15. 1. 2010 hatte die Bank über den Ablauf des Kredits mit 31. 12. 2009 informiert und den offenen Betrag fällig gestellt.\\n[11]           Das Berufungsgericht war der Ansicht, es liege eine Garantie mit Schadenersatzfunktion vor. Die Beklagte als Garantin hafte allerdings gegenüber der Bank nicht für die Kreditschuld, weshalb ein Regress unter Interzedenten nicht in Betracht komme. Der Beginn der Verjährungsfrist sei spätestens mit Fälligstellung des Kredits im Jänner 2010 anzunehmen, weil damit für die Klägerin festgestanden sei, dass die Beklagte ihr Garantieversprechen nicht erfüllt habe und die Pfandverwertung drohe. Die Ansprüche der Klägerin seien daher bei Klagseinbringung im Jahr 2016 bereits verjährt gewesen. Darin ist keine aufzugreifende Fehlbeurteilung zu erblicken.\\n[12]           5. Mangels zu beurteilender erheblicher Rechtsfragen iSd § 502 Abs 1 ZPO war die außerordentliche Revision zurückzuweisen.\\nTextnummer\\nE133497\\nEuropean Case Law Identifier (ECLI)\\nECLI:AT:OGH0002:2021:0060OB00065.21H.1115.000\\nIm RIS seit\\n18.01.2022\\nZuletzt aktualisiert am\\n18.01.2022\\nDokumentnummer\\nJJT_20211115_OGH0002_0060OB00065_21H0000_000'"
      ]
     },
     "execution_count": 155,
     "metadata": {},
     "output_type": "execute_result"
    }
   ],
   "source": [
    "driver.find_elements_by_css_selector('div.documentContent')[0].text"
   ]
  },
  {
   "cell_type": "markdown",
   "id": "899d9042",
   "metadata": {},
   "source": [
    "### 問題点\n",
    "文字だけを取ってくると改行反映されないし\\nとかの文字も取ってきてしまって見にくい．．．\n",
    "#### オプション\n",
    "- 受け取った文字列をmarkdownとして扱って表示する\n",
    "- 頑張って綺麗に直す→\n",
    "- 見にくくても気にしないユーザーに任す\n",
    "- htmlを作る→わいhtml詳しくない\n",
    "\n",
    "文字列をアペンドしてくと処理が遅くなる\n",
    "#### option\n",
    "- 耐える\n",
    "- 動的な処理をする(やり方わからん)"
   ]
  },
  {
   "cell_type": "markdown",
   "id": "5555450f",
   "metadata": {},
   "source": [
    "### 必要な部分のテキストを全部取ってくる処理を書く"
   ]
  },
  {
   "cell_type": "code",
   "execution_count": 156,
   "id": "6e29b89e",
   "metadata": {},
   "outputs": [],
   "source": [
    "options = ChromeOptions()\n",
    "options.headless = True\n",
    "driver = Chrome(options=options)\n",
    "driver.get('https://www.ris.bka.gv.at/Ergebnis.wxe?Abfrage=Justiz&Gericht=&Rechtssatznummer=&Rechtssatz=&Fundstelle=&AenderungenSeit=Undefined&SucheNachRechtssatz=False&SucheNachText=True&GZ=&VonDatum=&BisDatum=24.01.2022&Norm=&ImRisSeitVonDatum=&ImRisSeitBisDatum=&ImRisSeit=Undefined&ResultPageSize=100&Suchworte=Garant&Position=1&SkipToDocumentPage=true')"
   ]
  },
  {
   "cell_type": "code",
   "execution_count": 162,
   "id": "08e9e2ac",
   "metadata": {},
   "outputs": [
    {
     "name": "stderr",
     "output_type": "stream",
     "text": [
      "/var/folders/_l/3r37kqhd699__pxb_zz12_940000gn/T/ipykernel_32943/4153032769.py:1: DeprecationWarning: find_elements_by_* commands are deprecated. Please use find_elements() instead\n",
      "  div=driver.find_elements_by_css_selector('div#MainContent_DocumentsList_TableScrollContainer')[0]\n"
     ]
    }
   ],
   "source": [
    "div=driver.find_elements_by_css_selector('div#MainContent_DocumentsList_TableScrollContainer')[0]"
   ]
  },
  {
   "cell_type": "code",
   "execution_count": 163,
   "id": "25274bae",
   "metadata": {},
   "outputs": [],
   "source": [
    "trs=div.find_elements_by_css_selector('tr')"
   ]
  },
  {
   "cell_type": "code",
   "execution_count": 164,
   "id": "21f363a7",
   "metadata": {},
   "outputs": [
    {
     "data": {
      "text/plain": [
       "101"
      ]
     },
     "execution_count": 164,
     "metadata": {},
     "output_type": "execute_result"
    }
   ],
   "source": [
    "len(trs)"
   ]
  },
  {
   "cell_type": "code",
   "execution_count": 166,
   "id": "7258b401",
   "metadata": {},
   "outputs": [],
   "source": [
    "urls=[]\n",
    "for tr in trs:\n",
    "    a = tr.find_element_by_css_selector('a')\n",
    "    url=a.get_attribute('href')\n",
    "    #title=div.find_element_by_css_selector('h3').text\n",
    "    urls.append(url)\n",
    "    #titles.append(title)"
   ]
  },
  {
   "cell_type": "code",
   "execution_count": 174,
   "id": "607d54ce",
   "metadata": {},
   "outputs": [
    {
     "name": "stderr",
     "output_type": "stream",
     "text": [
      "/var/folders/_l/3r37kqhd699__pxb_zz12_940000gn/T/ipykernel_32943/2894427908.py:8: DeprecationWarning: find_elements_by_* commands are deprecated. Please use find_elements() instead\n",
      "  dettail_div=detail_driver.find_elements_by_css_selector('div.documentContent')[0].text\n",
      "/var/folders/_l/3r37kqhd699__pxb_zz12_940000gn/T/ipykernel_32943/2894427908.py:8: DeprecationWarning: find_elements_by_* commands are deprecated. Please use find_elements() instead\n",
      "  dettail_div=detail_driver.find_elements_by_css_selector('div.documentContent')[0].text\n",
      "/var/folders/_l/3r37kqhd699__pxb_zz12_940000gn/T/ipykernel_32943/2894427908.py:8: DeprecationWarning: find_elements_by_* commands are deprecated. Please use find_elements() instead\n",
      "  dettail_div=detail_driver.find_elements_by_css_selector('div.documentContent')[0].text\n",
      "/var/folders/_l/3r37kqhd699__pxb_zz12_940000gn/T/ipykernel_32943/2894427908.py:8: DeprecationWarning: find_elements_by_* commands are deprecated. Please use find_elements() instead\n",
      "  dettail_div=detail_driver.find_elements_by_css_selector('div.documentContent')[0].text\n",
      "/var/folders/_l/3r37kqhd699__pxb_zz12_940000gn/T/ipykernel_32943/2894427908.py:8: DeprecationWarning: find_elements_by_* commands are deprecated. Please use find_elements() instead\n",
      "  dettail_div=detail_driver.find_elements_by_css_selector('div.documentContent')[0].text\n",
      "/var/folders/_l/3r37kqhd699__pxb_zz12_940000gn/T/ipykernel_32943/2894427908.py:8: DeprecationWarning: find_elements_by_* commands are deprecated. Please use find_elements() instead\n",
      "  dettail_div=detail_driver.find_elements_by_css_selector('div.documentContent')[0].text\n",
      "/var/folders/_l/3r37kqhd699__pxb_zz12_940000gn/T/ipykernel_32943/2894427908.py:8: DeprecationWarning: find_elements_by_* commands are deprecated. Please use find_elements() instead\n",
      "  dettail_div=detail_driver.find_elements_by_css_selector('div.documentContent')[0].text\n",
      "/var/folders/_l/3r37kqhd699__pxb_zz12_940000gn/T/ipykernel_32943/2894427908.py:8: DeprecationWarning: find_elements_by_* commands are deprecated. Please use find_elements() instead\n",
      "  dettail_div=detail_driver.find_elements_by_css_selector('div.documentContent')[0].text\n",
      "/var/folders/_l/3r37kqhd699__pxb_zz12_940000gn/T/ipykernel_32943/2894427908.py:8: DeprecationWarning: find_elements_by_* commands are deprecated. Please use find_elements() instead\n",
      "  dettail_div=detail_driver.find_elements_by_css_selector('div.documentContent')[0].text\n",
      "/var/folders/_l/3r37kqhd699__pxb_zz12_940000gn/T/ipykernel_32943/2894427908.py:8: DeprecationWarning: find_elements_by_* commands are deprecated. Please use find_elements() instead\n",
      "  dettail_div=detail_driver.find_elements_by_css_selector('div.documentContent')[0].text\n",
      "/var/folders/_l/3r37kqhd699__pxb_zz12_940000gn/T/ipykernel_32943/2894427908.py:8: DeprecationWarning: find_elements_by_* commands are deprecated. Please use find_elements() instead\n",
      "  dettail_div=detail_driver.find_elements_by_css_selector('div.documentContent')[0].text\n",
      "/var/folders/_l/3r37kqhd699__pxb_zz12_940000gn/T/ipykernel_32943/2894427908.py:8: DeprecationWarning: find_elements_by_* commands are deprecated. Please use find_elements() instead\n",
      "  dettail_div=detail_driver.find_elements_by_css_selector('div.documentContent')[0].text\n",
      "/var/folders/_l/3r37kqhd699__pxb_zz12_940000gn/T/ipykernel_32943/2894427908.py:8: DeprecationWarning: find_elements_by_* commands are deprecated. Please use find_elements() instead\n",
      "  dettail_div=detail_driver.find_elements_by_css_selector('div.documentContent')[0].text\n",
      "/var/folders/_l/3r37kqhd699__pxb_zz12_940000gn/T/ipykernel_32943/2894427908.py:8: DeprecationWarning: find_elements_by_* commands are deprecated. Please use find_elements() instead\n",
      "  dettail_div=detail_driver.find_elements_by_css_selector('div.documentContent')[0].text\n",
      "/var/folders/_l/3r37kqhd699__pxb_zz12_940000gn/T/ipykernel_32943/2894427908.py:8: DeprecationWarning: find_elements_by_* commands are deprecated. Please use find_elements() instead\n",
      "  dettail_div=detail_driver.find_elements_by_css_selector('div.documentContent')[0].text\n",
      "/var/folders/_l/3r37kqhd699__pxb_zz12_940000gn/T/ipykernel_32943/2894427908.py:8: DeprecationWarning: find_elements_by_* commands are deprecated. Please use find_elements() instead\n",
      "  dettail_div=detail_driver.find_elements_by_css_selector('div.documentContent')[0].text\n",
      "/var/folders/_l/3r37kqhd699__pxb_zz12_940000gn/T/ipykernel_32943/2894427908.py:8: DeprecationWarning: find_elements_by_* commands are deprecated. Please use find_elements() instead\n",
      "  dettail_div=detail_driver.find_elements_by_css_selector('div.documentContent')[0].text\n",
      "/var/folders/_l/3r37kqhd699__pxb_zz12_940000gn/T/ipykernel_32943/2894427908.py:8: DeprecationWarning: find_elements_by_* commands are deprecated. Please use find_elements() instead\n",
      "  dettail_div=detail_driver.find_elements_by_css_selector('div.documentContent')[0].text\n",
      "/var/folders/_l/3r37kqhd699__pxb_zz12_940000gn/T/ipykernel_32943/2894427908.py:8: DeprecationWarning: find_elements_by_* commands are deprecated. Please use find_elements() instead\n",
      "  dettail_div=detail_driver.find_elements_by_css_selector('div.documentContent')[0].text\n",
      "/var/folders/_l/3r37kqhd699__pxb_zz12_940000gn/T/ipykernel_32943/2894427908.py:8: DeprecationWarning: find_elements_by_* commands are deprecated. Please use find_elements() instead\n",
      "  dettail_div=detail_driver.find_elements_by_css_selector('div.documentContent')[0].text\n",
      "/var/folders/_l/3r37kqhd699__pxb_zz12_940000gn/T/ipykernel_32943/2894427908.py:8: DeprecationWarning: find_elements_by_* commands are deprecated. Please use find_elements() instead\n",
      "  dettail_div=detail_driver.find_elements_by_css_selector('div.documentContent')[0].text\n",
      "/var/folders/_l/3r37kqhd699__pxb_zz12_940000gn/T/ipykernel_32943/2894427908.py:8: DeprecationWarning: find_elements_by_* commands are deprecated. Please use find_elements() instead\n",
      "  dettail_div=detail_driver.find_elements_by_css_selector('div.documentContent')[0].text\n",
      "/var/folders/_l/3r37kqhd699__pxb_zz12_940000gn/T/ipykernel_32943/2894427908.py:8: DeprecationWarning: find_elements_by_* commands are deprecated. Please use find_elements() instead\n",
      "  dettail_div=detail_driver.find_elements_by_css_selector('div.documentContent')[0].text\n",
      "/var/folders/_l/3r37kqhd699__pxb_zz12_940000gn/T/ipykernel_32943/2894427908.py:8: DeprecationWarning: find_elements_by_* commands are deprecated. Please use find_elements() instead\n",
      "  dettail_div=detail_driver.find_elements_by_css_selector('div.documentContent')[0].text\n",
      "/var/folders/_l/3r37kqhd699__pxb_zz12_940000gn/T/ipykernel_32943/2894427908.py:8: DeprecationWarning: find_elements_by_* commands are deprecated. Please use find_elements() instead\n",
      "  dettail_div=detail_driver.find_elements_by_css_selector('div.documentContent')[0].text\n",
      "/var/folders/_l/3r37kqhd699__pxb_zz12_940000gn/T/ipykernel_32943/2894427908.py:8: DeprecationWarning: find_elements_by_* commands are deprecated. Please use find_elements() instead\n",
      "  dettail_div=detail_driver.find_elements_by_css_selector('div.documentContent')[0].text\n",
      "/var/folders/_l/3r37kqhd699__pxb_zz12_940000gn/T/ipykernel_32943/2894427908.py:8: DeprecationWarning: find_elements_by_* commands are deprecated. Please use find_elements() instead\n",
      "  dettail_div=detail_driver.find_elements_by_css_selector('div.documentContent')[0].text\n",
      "/var/folders/_l/3r37kqhd699__pxb_zz12_940000gn/T/ipykernel_32943/2894427908.py:8: DeprecationWarning: find_elements_by_* commands are deprecated. Please use find_elements() instead\n",
      "  dettail_div=detail_driver.find_elements_by_css_selector('div.documentContent')[0].text\n",
      "/var/folders/_l/3r37kqhd699__pxb_zz12_940000gn/T/ipykernel_32943/2894427908.py:8: DeprecationWarning: find_elements_by_* commands are deprecated. Please use find_elements() instead\n",
      "  dettail_div=detail_driver.find_elements_by_css_selector('div.documentContent')[0].text\n",
      "/var/folders/_l/3r37kqhd699__pxb_zz12_940000gn/T/ipykernel_32943/2894427908.py:8: DeprecationWarning: find_elements_by_* commands are deprecated. Please use find_elements() instead\n",
      "  dettail_div=detail_driver.find_elements_by_css_selector('div.documentContent')[0].text\n",
      "/var/folders/_l/3r37kqhd699__pxb_zz12_940000gn/T/ipykernel_32943/2894427908.py:8: DeprecationWarning: find_elements_by_* commands are deprecated. Please use find_elements() instead\n",
      "  dettail_div=detail_driver.find_elements_by_css_selector('div.documentContent')[0].text\n"
     ]
    },
    {
     "name": "stderr",
     "output_type": "stream",
     "text": [
      "/var/folders/_l/3r37kqhd699__pxb_zz12_940000gn/T/ipykernel_32943/2894427908.py:8: DeprecationWarning: find_elements_by_* commands are deprecated. Please use find_elements() instead\n",
      "  dettail_div=detail_driver.find_elements_by_css_selector('div.documentContent')[0].text\n",
      "/var/folders/_l/3r37kqhd699__pxb_zz12_940000gn/T/ipykernel_32943/2894427908.py:8: DeprecationWarning: find_elements_by_* commands are deprecated. Please use find_elements() instead\n",
      "  dettail_div=detail_driver.find_elements_by_css_selector('div.documentContent')[0].text\n",
      "/var/folders/_l/3r37kqhd699__pxb_zz12_940000gn/T/ipykernel_32943/2894427908.py:8: DeprecationWarning: find_elements_by_* commands are deprecated. Please use find_elements() instead\n",
      "  dettail_div=detail_driver.find_elements_by_css_selector('div.documentContent')[0].text\n",
      "/var/folders/_l/3r37kqhd699__pxb_zz12_940000gn/T/ipykernel_32943/2894427908.py:8: DeprecationWarning: find_elements_by_* commands are deprecated. Please use find_elements() instead\n",
      "  dettail_div=detail_driver.find_elements_by_css_selector('div.documentContent')[0].text\n",
      "/var/folders/_l/3r37kqhd699__pxb_zz12_940000gn/T/ipykernel_32943/2894427908.py:8: DeprecationWarning: find_elements_by_* commands are deprecated. Please use find_elements() instead\n",
      "  dettail_div=detail_driver.find_elements_by_css_selector('div.documentContent')[0].text\n",
      "/var/folders/_l/3r37kqhd699__pxb_zz12_940000gn/T/ipykernel_32943/2894427908.py:8: DeprecationWarning: find_elements_by_* commands are deprecated. Please use find_elements() instead\n",
      "  dettail_div=detail_driver.find_elements_by_css_selector('div.documentContent')[0].text\n",
      "/var/folders/_l/3r37kqhd699__pxb_zz12_940000gn/T/ipykernel_32943/2894427908.py:8: DeprecationWarning: find_elements_by_* commands are deprecated. Please use find_elements() instead\n",
      "  dettail_div=detail_driver.find_elements_by_css_selector('div.documentContent')[0].text\n",
      "/var/folders/_l/3r37kqhd699__pxb_zz12_940000gn/T/ipykernel_32943/2894427908.py:8: DeprecationWarning: find_elements_by_* commands are deprecated. Please use find_elements() instead\n",
      "  dettail_div=detail_driver.find_elements_by_css_selector('div.documentContent')[0].text\n",
      "/var/folders/_l/3r37kqhd699__pxb_zz12_940000gn/T/ipykernel_32943/2894427908.py:8: DeprecationWarning: find_elements_by_* commands are deprecated. Please use find_elements() instead\n",
      "  dettail_div=detail_driver.find_elements_by_css_selector('div.documentContent')[0].text\n",
      "/var/folders/_l/3r37kqhd699__pxb_zz12_940000gn/T/ipykernel_32943/2894427908.py:8: DeprecationWarning: find_elements_by_* commands are deprecated. Please use find_elements() instead\n",
      "  dettail_div=detail_driver.find_elements_by_css_selector('div.documentContent')[0].text\n",
      "/var/folders/_l/3r37kqhd699__pxb_zz12_940000gn/T/ipykernel_32943/2894427908.py:8: DeprecationWarning: find_elements_by_* commands are deprecated. Please use find_elements() instead\n",
      "  dettail_div=detail_driver.find_elements_by_css_selector('div.documentContent')[0].text\n",
      "/var/folders/_l/3r37kqhd699__pxb_zz12_940000gn/T/ipykernel_32943/2894427908.py:8: DeprecationWarning: find_elements_by_* commands are deprecated. Please use find_elements() instead\n",
      "  dettail_div=detail_driver.find_elements_by_css_selector('div.documentContent')[0].text\n",
      "/var/folders/_l/3r37kqhd699__pxb_zz12_940000gn/T/ipykernel_32943/2894427908.py:8: DeprecationWarning: find_elements_by_* commands are deprecated. Please use find_elements() instead\n",
      "  dettail_div=detail_driver.find_elements_by_css_selector('div.documentContent')[0].text\n",
      "/var/folders/_l/3r37kqhd699__pxb_zz12_940000gn/T/ipykernel_32943/2894427908.py:8: DeprecationWarning: find_elements_by_* commands are deprecated. Please use find_elements() instead\n",
      "  dettail_div=detail_driver.find_elements_by_css_selector('div.documentContent')[0].text\n",
      "/var/folders/_l/3r37kqhd699__pxb_zz12_940000gn/T/ipykernel_32943/2894427908.py:8: DeprecationWarning: find_elements_by_* commands are deprecated. Please use find_elements() instead\n",
      "  dettail_div=detail_driver.find_elements_by_css_selector('div.documentContent')[0].text\n",
      "/var/folders/_l/3r37kqhd699__pxb_zz12_940000gn/T/ipykernel_32943/2894427908.py:8: DeprecationWarning: find_elements_by_* commands are deprecated. Please use find_elements() instead\n",
      "  dettail_div=detail_driver.find_elements_by_css_selector('div.documentContent')[0].text\n",
      "/var/folders/_l/3r37kqhd699__pxb_zz12_940000gn/T/ipykernel_32943/2894427908.py:8: DeprecationWarning: find_elements_by_* commands are deprecated. Please use find_elements() instead\n",
      "  dettail_div=detail_driver.find_elements_by_css_selector('div.documentContent')[0].text\n",
      "/var/folders/_l/3r37kqhd699__pxb_zz12_940000gn/T/ipykernel_32943/2894427908.py:8: DeprecationWarning: find_elements_by_* commands are deprecated. Please use find_elements() instead\n",
      "  dettail_div=detail_driver.find_elements_by_css_selector('div.documentContent')[0].text\n",
      "/var/folders/_l/3r37kqhd699__pxb_zz12_940000gn/T/ipykernel_32943/2894427908.py:8: DeprecationWarning: find_elements_by_* commands are deprecated. Please use find_elements() instead\n",
      "  dettail_div=detail_driver.find_elements_by_css_selector('div.documentContent')[0].text\n",
      "/var/folders/_l/3r37kqhd699__pxb_zz12_940000gn/T/ipykernel_32943/2894427908.py:8: DeprecationWarning: find_elements_by_* commands are deprecated. Please use find_elements() instead\n",
      "  dettail_div=detail_driver.find_elements_by_css_selector('div.documentContent')[0].text\n",
      "/var/folders/_l/3r37kqhd699__pxb_zz12_940000gn/T/ipykernel_32943/2894427908.py:8: DeprecationWarning: find_elements_by_* commands are deprecated. Please use find_elements() instead\n",
      "  dettail_div=detail_driver.find_elements_by_css_selector('div.documentContent')[0].text\n",
      "/var/folders/_l/3r37kqhd699__pxb_zz12_940000gn/T/ipykernel_32943/2894427908.py:8: DeprecationWarning: find_elements_by_* commands are deprecated. Please use find_elements() instead\n",
      "  dettail_div=detail_driver.find_elements_by_css_selector('div.documentContent')[0].text\n",
      "/var/folders/_l/3r37kqhd699__pxb_zz12_940000gn/T/ipykernel_32943/2894427908.py:8: DeprecationWarning: find_elements_by_* commands are deprecated. Please use find_elements() instead\n",
      "  dettail_div=detail_driver.find_elements_by_css_selector('div.documentContent')[0].text\n"
     ]
    },
    {
     "ename": "WebDriverException",
     "evalue": "Message: disconnected: Unable to receive message from renderer\n  (Session info: headless chrome=97.0.4692.99)\nStacktrace:\n0   chromedriver                        0x000000010ce5b269 __gxx_personality_v0 + 582729\n1   chromedriver                        0x000000010cde6c33 __gxx_personality_v0 + 106003\n2   chromedriver                        0x000000010c9a3e28 chromedriver + 171560\n3   chromedriver                        0x000000010c98f6d1 chromedriver + 87761\n4   chromedriver                        0x000000010c98ef03 chromedriver + 85763\n5   chromedriver                        0x000000010c9aa79c chromedriver + 198556\n6   chromedriver                        0x000000010ca0987a chromedriver + 587898\n7   chromedriver                        0x000000010c9f6c23 chromedriver + 511011\n8   chromedriver                        0x000000010c9cc75e chromedriver + 337758\n9   chromedriver                        0x000000010c9cda95 chromedriver + 342677\n10  chromedriver                        0x000000010ce178ab __gxx_personality_v0 + 305803\n11  chromedriver                        0x000000010ce2e863 __gxx_personality_v0 + 399939\n12  chromedriver                        0x000000010ce33c7f __gxx_personality_v0 + 421471\n13  chromedriver                        0x000000010ce2fbba __gxx_personality_v0 + 404890\n14  chromedriver                        0x000000010ce0be51 __gxx_personality_v0 + 258097\n15  chromedriver                        0x000000010ce4b158 __gxx_personality_v0 + 516920\n16  chromedriver                        0x000000010ce4b2e1 __gxx_personality_v0 + 517313\n17  chromedriver                        0x000000010ce626f8 __gxx_personality_v0 + 612568\n18  libsystem_pthread.dylib             0x00007fff616052eb _pthread_body + 126\n19  libsystem_pthread.dylib             0x00007fff61608249 _pthread_start + 66\n20  libsystem_pthread.dylib             0x00007fff6160440d thread_start + 13\n",
     "output_type": "error",
     "traceback": [
      "\u001b[0;31m---------------------------------------------------------------------------\u001b[0m",
      "\u001b[0;31mWebDriverException\u001b[0m                        Traceback (most recent call last)",
      "\u001b[0;32m/var/folders/_l/3r37kqhd699__pxb_zz12_940000gn/T/ipykernel_32943/2894427908.py\u001b[0m in \u001b[0;36m<module>\u001b[0;34m\u001b[0m\n\u001b[1;32m      4\u001b[0m     \u001b[0moptions_a\u001b[0m\u001b[0;34m.\u001b[0m\u001b[0mheadless\u001b[0m \u001b[0;34m=\u001b[0m \u001b[0;32mTrue\u001b[0m\u001b[0;34m\u001b[0m\u001b[0;34m\u001b[0m\u001b[0m\n\u001b[1;32m      5\u001b[0m     \u001b[0mdetail_driver\u001b[0m \u001b[0;34m=\u001b[0m \u001b[0mChrome\u001b[0m\u001b[0;34m(\u001b[0m\u001b[0moptions\u001b[0m\u001b[0;34m=\u001b[0m\u001b[0moptions_a\u001b[0m\u001b[0;34m)\u001b[0m\u001b[0;34m\u001b[0m\u001b[0;34m\u001b[0m\u001b[0m\n\u001b[0;32m----> 6\u001b[0;31m     \u001b[0mdetail_driver\u001b[0m\u001b[0;34m.\u001b[0m\u001b[0mget\u001b[0m\u001b[0;34m(\u001b[0m\u001b[0murl\u001b[0m\u001b[0;34m)\u001b[0m\u001b[0;34m\u001b[0m\u001b[0;34m\u001b[0m\u001b[0m\n\u001b[0m\u001b[1;32m      7\u001b[0m     \u001b[0;31m#div=detail_driver.find_elements_by_css_selector('p')\u001b[0m\u001b[0;34m\u001b[0m\u001b[0;34m\u001b[0m\u001b[0;34m\u001b[0m\u001b[0m\n\u001b[1;32m      8\u001b[0m     \u001b[0mdettail_div\u001b[0m\u001b[0;34m=\u001b[0m\u001b[0mdetail_driver\u001b[0m\u001b[0;34m.\u001b[0m\u001b[0mfind_elements_by_css_selector\u001b[0m\u001b[0;34m(\u001b[0m\u001b[0;34m'div.documentContent'\u001b[0m\u001b[0;34m)\u001b[0m\u001b[0;34m[\u001b[0m\u001b[0;36m0\u001b[0m\u001b[0;34m]\u001b[0m\u001b[0;34m.\u001b[0m\u001b[0mtext\u001b[0m\u001b[0;34m\u001b[0m\u001b[0;34m\u001b[0m\u001b[0m\n",
      "\u001b[0;32m~/workspace/pj_ikechi/ikechi/lib/python3.9/site-packages/selenium/webdriver/remote/webdriver.py\u001b[0m in \u001b[0;36mget\u001b[0;34m(self, url)\u001b[0m\n\u001b[1;32m    428\u001b[0m         \u001b[0mLoads\u001b[0m \u001b[0ma\u001b[0m \u001b[0mweb\u001b[0m \u001b[0mpage\u001b[0m \u001b[0;32min\u001b[0m \u001b[0mthe\u001b[0m \u001b[0mcurrent\u001b[0m \u001b[0mbrowser\u001b[0m \u001b[0msession\u001b[0m\u001b[0;34m.\u001b[0m\u001b[0;34m\u001b[0m\u001b[0;34m\u001b[0m\u001b[0m\n\u001b[1;32m    429\u001b[0m         \"\"\"\n\u001b[0;32m--> 430\u001b[0;31m         \u001b[0mself\u001b[0m\u001b[0;34m.\u001b[0m\u001b[0mexecute\u001b[0m\u001b[0;34m(\u001b[0m\u001b[0mCommand\u001b[0m\u001b[0;34m.\u001b[0m\u001b[0mGET\u001b[0m\u001b[0;34m,\u001b[0m \u001b[0;34m{\u001b[0m\u001b[0;34m'url'\u001b[0m\u001b[0;34m:\u001b[0m \u001b[0murl\u001b[0m\u001b[0;34m}\u001b[0m\u001b[0;34m)\u001b[0m\u001b[0;34m\u001b[0m\u001b[0;34m\u001b[0m\u001b[0m\n\u001b[0m\u001b[1;32m    431\u001b[0m \u001b[0;34m\u001b[0m\u001b[0m\n\u001b[1;32m    432\u001b[0m     \u001b[0;34m@\u001b[0m\u001b[0mproperty\u001b[0m\u001b[0;34m\u001b[0m\u001b[0;34m\u001b[0m\u001b[0m\n",
      "\u001b[0;32m~/workspace/pj_ikechi/ikechi/lib/python3.9/site-packages/selenium/webdriver/remote/webdriver.py\u001b[0m in \u001b[0;36mexecute\u001b[0;34m(self, driver_command, params)\u001b[0m\n\u001b[1;32m    416\u001b[0m         \u001b[0mresponse\u001b[0m \u001b[0;34m=\u001b[0m \u001b[0mself\u001b[0m\u001b[0;34m.\u001b[0m\u001b[0mcommand_executor\u001b[0m\u001b[0;34m.\u001b[0m\u001b[0mexecute\u001b[0m\u001b[0;34m(\u001b[0m\u001b[0mdriver_command\u001b[0m\u001b[0;34m,\u001b[0m \u001b[0mparams\u001b[0m\u001b[0;34m)\u001b[0m\u001b[0;34m\u001b[0m\u001b[0;34m\u001b[0m\u001b[0m\n\u001b[1;32m    417\u001b[0m         \u001b[0;32mif\u001b[0m \u001b[0mresponse\u001b[0m\u001b[0;34m:\u001b[0m\u001b[0;34m\u001b[0m\u001b[0;34m\u001b[0m\u001b[0m\n\u001b[0;32m--> 418\u001b[0;31m             \u001b[0mself\u001b[0m\u001b[0;34m.\u001b[0m\u001b[0merror_handler\u001b[0m\u001b[0;34m.\u001b[0m\u001b[0mcheck_response\u001b[0m\u001b[0;34m(\u001b[0m\u001b[0mresponse\u001b[0m\u001b[0;34m)\u001b[0m\u001b[0;34m\u001b[0m\u001b[0;34m\u001b[0m\u001b[0m\n\u001b[0m\u001b[1;32m    419\u001b[0m             response['value'] = self._unwrap_value(\n\u001b[1;32m    420\u001b[0m                 response.get('value', None))\n",
      "\u001b[0;32m~/workspace/pj_ikechi/ikechi/lib/python3.9/site-packages/selenium/webdriver/remote/errorhandler.py\u001b[0m in \u001b[0;36mcheck_response\u001b[0;34m(self, response)\u001b[0m\n\u001b[1;32m    241\u001b[0m                 \u001b[0malert_text\u001b[0m \u001b[0;34m=\u001b[0m \u001b[0mvalue\u001b[0m\u001b[0;34m[\u001b[0m\u001b[0;34m'alert'\u001b[0m\u001b[0;34m]\u001b[0m\u001b[0;34m.\u001b[0m\u001b[0mget\u001b[0m\u001b[0;34m(\u001b[0m\u001b[0;34m'text'\u001b[0m\u001b[0;34m)\u001b[0m\u001b[0;34m\u001b[0m\u001b[0;34m\u001b[0m\u001b[0m\n\u001b[1;32m    242\u001b[0m             \u001b[0;32mraise\u001b[0m \u001b[0mexception_class\u001b[0m\u001b[0;34m(\u001b[0m\u001b[0mmessage\u001b[0m\u001b[0;34m,\u001b[0m \u001b[0mscreen\u001b[0m\u001b[0;34m,\u001b[0m \u001b[0mstacktrace\u001b[0m\u001b[0;34m,\u001b[0m \u001b[0malert_text\u001b[0m\u001b[0;34m)\u001b[0m  \u001b[0;31m# type: ignore[call-arg]  # mypy is not smart enough here\u001b[0m\u001b[0;34m\u001b[0m\u001b[0;34m\u001b[0m\u001b[0m\n\u001b[0;32m--> 243\u001b[0;31m         \u001b[0;32mraise\u001b[0m \u001b[0mexception_class\u001b[0m\u001b[0;34m(\u001b[0m\u001b[0mmessage\u001b[0m\u001b[0;34m,\u001b[0m \u001b[0mscreen\u001b[0m\u001b[0;34m,\u001b[0m \u001b[0mstacktrace\u001b[0m\u001b[0;34m)\u001b[0m\u001b[0;34m\u001b[0m\u001b[0;34m\u001b[0m\u001b[0m\n\u001b[0m\u001b[1;32m    244\u001b[0m \u001b[0;34m\u001b[0m\u001b[0m\n\u001b[1;32m    245\u001b[0m     \u001b[0;32mdef\u001b[0m \u001b[0m_value_or_default\u001b[0m\u001b[0;34m(\u001b[0m\u001b[0mself\u001b[0m\u001b[0;34m,\u001b[0m \u001b[0mobj\u001b[0m\u001b[0;34m:\u001b[0m \u001b[0mMapping\u001b[0m\u001b[0;34m[\u001b[0m\u001b[0m_KT\u001b[0m\u001b[0;34m,\u001b[0m \u001b[0m_VT\u001b[0m\u001b[0;34m]\u001b[0m\u001b[0;34m,\u001b[0m \u001b[0mkey\u001b[0m\u001b[0;34m:\u001b[0m \u001b[0m_KT\u001b[0m\u001b[0;34m,\u001b[0m \u001b[0mdefault\u001b[0m\u001b[0;34m:\u001b[0m \u001b[0m_VT\u001b[0m\u001b[0;34m)\u001b[0m \u001b[0;34m->\u001b[0m \u001b[0m_VT\u001b[0m\u001b[0;34m:\u001b[0m\u001b[0;34m\u001b[0m\u001b[0;34m\u001b[0m\u001b[0m\n",
      "\u001b[0;31mWebDriverException\u001b[0m: Message: disconnected: Unable to receive message from renderer\n  (Session info: headless chrome=97.0.4692.99)\nStacktrace:\n0   chromedriver                        0x000000010ce5b269 __gxx_personality_v0 + 582729\n1   chromedriver                        0x000000010cde6c33 __gxx_personality_v0 + 106003\n2   chromedriver                        0x000000010c9a3e28 chromedriver + 171560\n3   chromedriver                        0x000000010c98f6d1 chromedriver + 87761\n4   chromedriver                        0x000000010c98ef03 chromedriver + 85763\n5   chromedriver                        0x000000010c9aa79c chromedriver + 198556\n6   chromedriver                        0x000000010ca0987a chromedriver + 587898\n7   chromedriver                        0x000000010c9f6c23 chromedriver + 511011\n8   chromedriver                        0x000000010c9cc75e chromedriver + 337758\n9   chromedriver                        0x000000010c9cda95 chromedriver + 342677\n10  chromedriver                        0x000000010ce178ab __gxx_personality_v0 + 305803\n11  chromedriver                        0x000000010ce2e863 __gxx_personality_v0 + 399939\n12  chromedriver                        0x000000010ce33c7f __gxx_personality_v0 + 421471\n13  chromedriver                        0x000000010ce2fbba __gxx_personality_v0 + 404890\n14  chromedriver                        0x000000010ce0be51 __gxx_personality_v0 + 258097\n15  chromedriver                        0x000000010ce4b158 __gxx_personality_v0 + 516920\n16  chromedriver                        0x000000010ce4b2e1 __gxx_personality_v0 + 517313\n17  chromedriver                        0x000000010ce626f8 __gxx_personality_v0 + 612568\n18  libsystem_pthread.dylib             0x00007fff616052eb _pthread_body + 126\n19  libsystem_pthread.dylib             0x00007fff61608249 _pthread_start + 66\n20  libsystem_pthread.dylib             0x00007fff6160440d thread_start + 13\n"
     ]
    }
   ],
   "source": [
    "contents=[]\n",
    "for url in urls[1:]:\n",
    "    options_a = ChromeOptions()\n",
    "    options_a.headless = True\n",
    "    detail_driver = Chrome(options=options_a)\n",
    "    detail_driver.get(url)\n",
    "    #div=detail_driver.find_elements_by_css_selector('p')\n",
    "    dettail_div=detail_driver.find_elements_by_css_selector('div.documentContent')[0].text\n",
    "    contents.append(dettail_div)"
   ]
  },
  {
   "cell_type": "markdown",
   "id": "2b765c9d",
   "metadata": {},
   "source": [
    "## 続きのページを取得"
   ]
  },
  {
   "cell_type": "code",
   "execution_count": 222,
   "id": "3d100265",
   "metadata": {},
   "outputs": [
    {
     "name": "stderr",
     "output_type": "stream",
     "text": [
      "/var/folders/_l/3r37kqhd699__pxb_zz12_940000gn/T/ipykernel_32943/3904679861.py:2: DeprecationWarning: find_elements_by_* commands are deprecated. Please use find_elements() instead\n",
      "  next_page=driver.find_elements_by_css_selector('span.Next')[0]\n"
     ]
    }
   ],
   "source": [
    "#続きのページdriver\n",
    "next_page=driver.find_elements_by_css_selector('span.Next')[0]"
   ]
  },
  {
   "cell_type": "code",
   "execution_count": null,
   "id": "f0731338",
   "metadata": {},
   "outputs": [],
   "source": [
    "if len(next_page) == 0:\n",
    "    next_page = False:\n",
    "else:\n",
    "    next_page = True\n",
    "    a = next_page.find_element_by_css_selector('a')\n",
    "    next_url=a.get_attribute('href')\n",
    "        "
   ]
  },
  {
   "cell_type": "markdown",
   "id": "6be09da5",
   "metadata": {},
   "source": [
    "## 全体"
   ]
  },
  {
   "cell_type": "code",
   "execution_count": 231,
   "id": "0bbb12c3",
   "metadata": {},
   "outputs": [],
   "source": [
    "options = ChromeOptions()\n",
    "options.headless = True\n",
    "driver = Chrome(options=options)\n",
    "driver.get('https://www.ris.bka.gv.at/Ergebnis.wxe?Abfrage=Justiz&Gericht=&Rechtssatznummer=&Rechtssatz=&Fundstelle=&AenderungenSeit=Undefined&SucheNachRechtssatz=False&SucheNachText=True&GZ=&VonDatum=&BisDatum=24.01.2022&Norm=&ImRisSeitVonDatum=&ImRisSeitBisDatum=&ImRisSeit=Undefined&ResultPageSize=100&Suchworte=Garant&Position=1&SkipToDocumentPage=true')"
   ]
  },
  {
   "cell_type": "code",
   "execution_count": 241,
   "id": "48ddabad",
   "metadata": {
    "scrolled": true
   },
   "outputs": [
    {
     "name": "stderr",
     "output_type": "stream",
     "text": [
      "/var/folders/_l/3r37kqhd699__pxb_zz12_940000gn/T/ipykernel_32943/1135151388.py:13: DeprecationWarning: find_elements_by_* commands are deprecated. Please use find_elements() instead\n",
      "  next_page_pointer=driver.find_elements_by_css_selector('span.Next')\n",
      "/Users/uenoshouko/workspace/pj_ikechi/ikechi/lib/python3.9/site-packages/selenium/webdriver/remote/webelement.py:483: UserWarning: find_element_by_* commands are deprecated. Please use find_element() instead\n",
      "  warnings.warn(\"find_element_by_* commands are deprecated. Please use find_element() instead\")\n",
      "/var/folders/_l/3r37kqhd699__pxb_zz12_940000gn/T/ipykernel_32943/1135151388.py:22: DeprecationWarning: find_elements_by_* commands are deprecated. Please use find_elements() instead\n",
      "  div=driver.find_elements_by_css_selector('div#MainContent_DocumentsList_TableScrollContainer')[0]\n",
      "/Users/uenoshouko/workspace/pj_ikechi/ikechi/lib/python3.9/site-packages/selenium/webdriver/remote/webelement.py:501: UserWarning: find_elements_by_* commands are deprecated. Please use find_elements() instead\n",
      "  warnings.warn(\"find_elements_by_* commands are deprecated. Please use find_elements() instead\")\n"
     ]
    },
    {
     "name": "stdout",
     "output_type": "stream",
     "text": [
      "100\n"
     ]
    },
    {
     "name": "stderr",
     "output_type": "stream",
     "text": [
      "/var/folders/_l/3r37kqhd699__pxb_zz12_940000gn/T/ipykernel_32943/1135151388.py:40: DeprecationWarning: find_elements_by_* commands are deprecated. Please use find_elements() instead\n",
      "  dettail_div=detail_driver.find_elements_by_css_selector('div.documentContent')[0].text\n",
      "/var/folders/_l/3r37kqhd699__pxb_zz12_940000gn/T/ipykernel_32943/1135151388.py:40: DeprecationWarning: find_elements_by_* commands are deprecated. Please use find_elements() instead\n",
      "  dettail_div=detail_driver.find_elements_by_css_selector('div.documentContent')[0].text\n",
      "/var/folders/_l/3r37kqhd699__pxb_zz12_940000gn/T/ipykernel_32943/1135151388.py:40: DeprecationWarning: find_elements_by_* commands are deprecated. Please use find_elements() instead\n",
      "  dettail_div=detail_driver.find_elements_by_css_selector('div.documentContent')[0].text\n",
      "/var/folders/_l/3r37kqhd699__pxb_zz12_940000gn/T/ipykernel_32943/1135151388.py:40: DeprecationWarning: find_elements_by_* commands are deprecated. Please use find_elements() instead\n",
      "  dettail_div=detail_driver.find_elements_by_css_selector('div.documentContent')[0].text\n",
      "/var/folders/_l/3r37kqhd699__pxb_zz12_940000gn/T/ipykernel_32943/1135151388.py:40: DeprecationWarning: find_elements_by_* commands are deprecated. Please use find_elements() instead\n",
      "  dettail_div=detail_driver.find_elements_by_css_selector('div.documentContent')[0].text\n",
      "/var/folders/_l/3r37kqhd699__pxb_zz12_940000gn/T/ipykernel_32943/1135151388.py:13: DeprecationWarning: find_elements_by_* commands are deprecated. Please use find_elements() instead\n",
      "  next_page_pointer=driver.find_elements_by_css_selector('span.Next')\n",
      "/Users/uenoshouko/workspace/pj_ikechi/ikechi/lib/python3.9/site-packages/selenium/webdriver/remote/webelement.py:483: UserWarning: find_element_by_* commands are deprecated. Please use find_element() instead\n",
      "  warnings.warn(\"find_element_by_* commands are deprecated. Please use find_element() instead\")\n",
      "/var/folders/_l/3r37kqhd699__pxb_zz12_940000gn/T/ipykernel_32943/1135151388.py:22: DeprecationWarning: find_elements_by_* commands are deprecated. Please use find_elements() instead\n",
      "  div=driver.find_elements_by_css_selector('div#MainContent_DocumentsList_TableScrollContainer')[0]\n",
      "/Users/uenoshouko/workspace/pj_ikechi/ikechi/lib/python3.9/site-packages/selenium/webdriver/remote/webelement.py:501: UserWarning: find_elements_by_* commands are deprecated. Please use find_elements() instead\n",
      "  warnings.warn(\"find_elements_by_* commands are deprecated. Please use find_elements() instead\")\n"
     ]
    },
    {
     "name": "stdout",
     "output_type": "stream",
     "text": [
      "100\n"
     ]
    },
    {
     "name": "stderr",
     "output_type": "stream",
     "text": [
      "/var/folders/_l/3r37kqhd699__pxb_zz12_940000gn/T/ipykernel_32943/1135151388.py:40: DeprecationWarning: find_elements_by_* commands are deprecated. Please use find_elements() instead\n",
      "  dettail_div=detail_driver.find_elements_by_css_selector('div.documentContent')[0].text\n",
      "/var/folders/_l/3r37kqhd699__pxb_zz12_940000gn/T/ipykernel_32943/1135151388.py:40: DeprecationWarning: find_elements_by_* commands are deprecated. Please use find_elements() instead\n",
      "  dettail_div=detail_driver.find_elements_by_css_selector('div.documentContent')[0].text\n",
      "/var/folders/_l/3r37kqhd699__pxb_zz12_940000gn/T/ipykernel_32943/1135151388.py:40: DeprecationWarning: find_elements_by_* commands are deprecated. Please use find_elements() instead\n",
      "  dettail_div=detail_driver.find_elements_by_css_selector('div.documentContent')[0].text\n",
      "/var/folders/_l/3r37kqhd699__pxb_zz12_940000gn/T/ipykernel_32943/1135151388.py:40: DeprecationWarning: find_elements_by_* commands are deprecated. Please use find_elements() instead\n",
      "  dettail_div=detail_driver.find_elements_by_css_selector('div.documentContent')[0].text\n",
      "/var/folders/_l/3r37kqhd699__pxb_zz12_940000gn/T/ipykernel_32943/1135151388.py:40: DeprecationWarning: find_elements_by_* commands are deprecated. Please use find_elements() instead\n",
      "  dettail_div=detail_driver.find_elements_by_css_selector('div.documentContent')[0].text\n",
      "/var/folders/_l/3r37kqhd699__pxb_zz12_940000gn/T/ipykernel_32943/1135151388.py:13: DeprecationWarning: find_elements_by_* commands are deprecated. Please use find_elements() instead\n",
      "  next_page_pointer=driver.find_elements_by_css_selector('span.Next')\n",
      "/var/folders/_l/3r37kqhd699__pxb_zz12_940000gn/T/ipykernel_32943/1135151388.py:22: DeprecationWarning: find_elements_by_* commands are deprecated. Please use find_elements() instead\n",
      "  div=driver.find_elements_by_css_selector('div#MainContent_DocumentsList_TableScrollContainer')[0]\n",
      "/Users/uenoshouko/workspace/pj_ikechi/ikechi/lib/python3.9/site-packages/selenium/webdriver/remote/webelement.py:501: UserWarning: find_elements_by_* commands are deprecated. Please use find_elements() instead\n",
      "  warnings.warn(\"find_elements_by_* commands are deprecated. Please use find_elements() instead\")\n",
      "/Users/uenoshouko/workspace/pj_ikechi/ikechi/lib/python3.9/site-packages/selenium/webdriver/remote/webelement.py:483: UserWarning: find_element_by_* commands are deprecated. Please use find_element() instead\n",
      "  warnings.warn(\"find_element_by_* commands are deprecated. Please use find_element() instead\")\n"
     ]
    },
    {
     "name": "stdout",
     "output_type": "stream",
     "text": [
      "16\n"
     ]
    },
    {
     "name": "stderr",
     "output_type": "stream",
     "text": [
      "/var/folders/_l/3r37kqhd699__pxb_zz12_940000gn/T/ipykernel_32943/1135151388.py:40: DeprecationWarning: find_elements_by_* commands are deprecated. Please use find_elements() instead\n",
      "  dettail_div=detail_driver.find_elements_by_css_selector('div.documentContent')[0].text\n",
      "/var/folders/_l/3r37kqhd699__pxb_zz12_940000gn/T/ipykernel_32943/1135151388.py:40: DeprecationWarning: find_elements_by_* commands are deprecated. Please use find_elements() instead\n",
      "  dettail_div=detail_driver.find_elements_by_css_selector('div.documentContent')[0].text\n",
      "/var/folders/_l/3r37kqhd699__pxb_zz12_940000gn/T/ipykernel_32943/1135151388.py:40: DeprecationWarning: find_elements_by_* commands are deprecated. Please use find_elements() instead\n",
      "  dettail_div=detail_driver.find_elements_by_css_selector('div.documentContent')[0].text\n",
      "/var/folders/_l/3r37kqhd699__pxb_zz12_940000gn/T/ipykernel_32943/1135151388.py:40: DeprecationWarning: find_elements_by_* commands are deprecated. Please use find_elements() instead\n",
      "  dettail_div=detail_driver.find_elements_by_css_selector('div.documentContent')[0].text\n",
      "/var/folders/_l/3r37kqhd699__pxb_zz12_940000gn/T/ipykernel_32943/1135151388.py:40: DeprecationWarning: find_elements_by_* commands are deprecated. Please use find_elements() instead\n",
      "  dettail_div=detail_driver.find_elements_by_css_selector('div.documentContent')[0].text\n"
     ]
    }
   ],
   "source": [
    "next_page=True\n",
    "next_url='https://www.ris.bka.gv.at/Ergebnis.wxe?Abfrage=Justiz&Gericht=&Rechtssatznummer=&Rechtssatz=&Fundstelle=&AenderungenSeit=Undefined&SucheNachRechtssatz=False&SucheNachText=True&GZ=&VonDatum=&BisDatum=24.01.2022&Norm=&ImRisSeitVonDatum=&ImRisSeitBisDatum=&ImRisSeit=Undefined&ResultPageSize=100&Suchworte=Garant&Position=1&SkipToDocumentPage=true'\n",
    "result=[]\n",
    "\n",
    "while next_page==True:\n",
    "    options = ChromeOptions()\n",
    "    options.headless = True\n",
    "    driver = Chrome(options=options)\n",
    "    driver.get(next_url)\n",
    "    \n",
    "    \n",
    "    #続きのページdriver\n",
    "    next_page_pointer=driver.find_elements_by_css_selector('span.Next')\n",
    "    if len(next_page_pointer) == 0:\n",
    "        next_page = False\n",
    "    else:\n",
    "        next_page = True\n",
    "        a = next_page_pointer[0].find_element_by_css_selector('a')\n",
    "        next_url=a.get_attribute('href')\n",
    "        \n",
    "    \n",
    "    div=driver.find_elements_by_css_selector('div#MainContent_DocumentsList_TableScrollContainer')[0]\n",
    "    trs=div.find_elements_by_css_selector('tr')[1:]\n",
    "    print(len(trs))\n",
    "    \n",
    "    urls=[]\n",
    "    for tr in trs:\n",
    "        a = tr.find_element_by_css_selector('a')\n",
    "        url=a.get_attribute('href')\n",
    "        urls.append(url)\n",
    "        \n",
    "    contents=[]\n",
    "    #testのため一旦５まで\n",
    "    for url in urls[:5]:\n",
    "        options_a = ChromeOptions()\n",
    "        options_a.headless = True\n",
    "        detail_driver = Chrome(options=options_a)\n",
    "        detail_driver.get(url)\n",
    "        #div=detail_driver.find_elements_by_css_selector('p')\n",
    "        dettail_div=detail_driver.find_elements_by_css_selector('div.documentContent')[0].text\n",
    "        contents.append(dettail_div)\n",
    "    result.append(contents)\n",
    "    "
   ]
  },
  {
   "cell_type": "code",
   "execution_count": 242,
   "id": "7faa763a",
   "metadata": {},
   "outputs": [
    {
     "data": {
      "text/plain": [
       "3"
      ]
     },
     "execution_count": 242,
     "metadata": {},
     "output_type": "execute_result"
    }
   ],
   "source": [
    "len(result)"
   ]
  },
  {
   "cell_type": "code",
   "execution_count": 243,
   "id": "bed66506",
   "metadata": {},
   "outputs": [
    {
     "data": {
      "text/plain": [
       "5"
      ]
     },
     "execution_count": 243,
     "metadata": {},
     "output_type": "execute_result"
    }
   ],
   "source": [
    "len(result[0])"
   ]
  },
  {
   "cell_type": "markdown",
   "id": "950804ad",
   "metadata": {},
   "source": [
    "### 次の課題\n",
    "- それぞれの成分に分けてスクレイピング\n",
    "- 計算量\n",
    "    - 先に何ページ分あるか調べて0入りのリストを作ってそこに代入する"
   ]
  }
 ],
 "metadata": {
  "kernelspec": {
   "display_name": "Python 3 (ipykernel)",
   "language": "python",
   "name": "python3"
  },
  "language_info": {
   "codemirror_mode": {
    "name": "ipython",
    "version": 3
   },
   "file_extension": ".py",
   "mimetype": "text/x-python",
   "name": "python",
   "nbconvert_exporter": "python",
   "pygments_lexer": "ipython3",
   "version": "3.9.5"
  }
 },
 "nbformat": 4,
 "nbformat_minor": 5
}
