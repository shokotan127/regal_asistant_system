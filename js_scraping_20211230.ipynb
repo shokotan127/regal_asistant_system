{
 "cells": [
  {
   "cell_type": "code",
   "execution_count": 2,
   "id": "5f163d9c",
   "metadata": {},
   "outputs": [],
   "source": [
    "from selenium.webdriver import Chrome, ChromeOptions, Remote\n",
    "from selenium.webdriver.common.keys import Keys\n",
    "\n",
    "\n",
    "import logging\n",
    "from typing import List  # 型ヒントのためにインポート"
   ]
  },
  {
   "cell_type": "markdown",
   "id": "e83c33ae",
   "metadata": {},
   "source": [
    "## selenium使ってみる"
   ]
  },
  {
   "cell_type": "code",
   "execution_count": 11,
   "id": "8d83095a",
   "metadata": {},
   "outputs": [],
   "source": [
    "options = ChromeOptions()\n",
    "#options.headless = True"
   ]
  },
  {
   "cell_type": "code",
   "execution_count": 12,
   "id": "e651f036",
   "metadata": {},
   "outputs": [],
   "source": [
    "driver = Chrome(options=options)  # ChromeのWebDriverオブジェクトを作成する。"
   ]
  },
  {
   "cell_type": "code",
   "execution_count": 13,
   "id": "a867ec7f",
   "metadata": {},
   "outputs": [],
   "source": [
    "# Googleのトップ画面を開く。\n",
    "driver.get('https://www.google.co.jp/')"
   ]
  },
  {
   "cell_type": "code",
   "execution_count": 14,
   "id": "d21ee8d1",
   "metadata": {},
   "outputs": [],
   "source": [
    "# タイトルに'Google'が含まれていることを確認する。\n",
    "assert 'Google' in driver.title"
   ]
  },
  {
   "cell_type": "code",
   "execution_count": 15,
   "id": "28fb3a9b",
   "metadata": {},
   "outputs": [
    {
     "name": "stderr",
     "output_type": "stream",
     "text": [
      "/var/folders/_l/3r37kqhd699__pxb_zz12_940000gn/T/ipykernel_74907/1771165439.py:2: DeprecationWarning: find_element_by_* commands are deprecated. Please use find_element() instead\n",
      "  input_element = driver.find_element_by_name('q')\n"
     ]
    }
   ],
   "source": [
    "# 検索語を入力して送信する。\n",
    "input_element = driver.find_element_by_name('q')\n",
    "input_element.send_keys('Python')\n",
    "input_element.send_keys(Keys.RETURN)"
   ]
  },
  {
   "cell_type": "code",
   "execution_count": 16,
   "id": "1932602c",
   "metadata": {},
   "outputs": [],
   "source": [
    "# タイトルに'Python'が含まれていることを確認する。\n",
    "assert 'Python' in driver.title"
   ]
  },
  {
   "cell_type": "code",
   "execution_count": 17,
   "id": "f31b7f51",
   "metadata": {},
   "outputs": [
    {
     "data": {
      "text/plain": [
       "True"
      ]
     },
     "execution_count": 17,
     "metadata": {},
     "output_type": "execute_result"
    }
   ],
   "source": [
    "# スクリーンショットを撮る。\n",
    "driver.save_screenshot('search_results.png')"
   ]
  },
  {
   "cell_type": "code",
   "execution_count": 18,
   "id": "61afacdb",
   "metadata": {},
   "outputs": [
    {
     "name": "stderr",
     "output_type": "stream",
     "text": [
      "/var/folders/_l/3r37kqhd699__pxb_zz12_940000gn/T/ipykernel_74907/3824643654.py:1: DeprecationWarning: find_elements_by_* commands are deprecated. Please use find_elements() instead\n",
      "  for h3 in driver.find_elements_by_css_selector('a > h3'):\n",
      "/Users/uenoshouko/workspace/pj_ikechi/ikechi/lib/python3.9/site-packages/selenium/webdriver/remote/webelement.py:392: UserWarning: find_element_by_* commands are deprecated. Please use find_element() instead\n",
      "  warnings.warn(\"find_element_by_* commands are deprecated. Please use find_element() instead\")\n"
     ]
    },
    {
     "name": "stdout",
     "output_type": "stream",
     "text": [
      "python.jp: プログラミング言語 Python 総合情報サイト\n",
      "https://www.python.jp/\n",
      "Welcome to Python.org\n",
      "https://www.python.org/\n",
      "Python - Wikipedia\n",
      "https://ja.wikipedia.org/wiki/Python\n",
      "Python入門 - Let'sプログラミング\n",
      "https://www.javadrive.jp/python/\n",
      "Pythonでできること8選！仕事への活用方法から学習方法まで ...\n",
      "https://www.pasonatech.co.jp/workstyle/column/detail.html?p=2104\n",
      "\n",
      "https://www.pasonatech.co.jp/workstyle/column/detail.html?p=2104\n",
      "\n",
      "https://udemy.benesse.co.jp/development/python-work/python.html\n",
      "\n",
      "https://ja.wikipedia.org/wiki/Python\n",
      "\n",
      "https://www.pasonatech.co.jp/workstyle/column/detail.html?p=2185\n",
      "Python | プログラミングの入門なら基礎から学べるProgate ...\n",
      "https://prog-8.com/courses/python\n",
      "Python - Qiita\n",
      "https://qiita.com/tags/python\n",
      "Pythonチュートリアル 第4版 - O'Reilly Japan\n",
      "https://www.oreilly.co.jp/books/9784873119359/\n",
      "Pythonプログラミング入門\n",
      "https://utokyo-ipp.github.io/\n"
     ]
    }
   ],
   "source": [
    "for h3 in driver.find_elements_by_css_selector('a > h3'):\n",
    "    a = h3.find_element_by_xpath('..')  # h3の親要素を取得。\n",
    "    print(h3.text)\n",
    "    print(a.get_attribute('href'))"
   ]
  },
  {
   "cell_type": "code",
   "execution_count": 19,
   "id": "b2116975",
   "metadata": {},
   "outputs": [],
   "source": [
    "driver.quit()  # ブラウザーを終了する。"
   ]
  },
  {
   "cell_type": "markdown",
   "id": "c6470dec",
   "metadata": {},
   "source": [
    "## seleniumでscrapingしてみる"
   ]
  },
  {
   "cell_type": "code",
   "execution_count": 3,
   "id": "d7738641",
   "metadata": {},
   "outputs": [],
   "source": [
    "driver = Chrome()"
   ]
  },
  {
   "cell_type": "code",
   "execution_count": 4,
   "id": "56daa627",
   "metadata": {},
   "outputs": [],
   "source": [
    "driver.get('https://note.mu')"
   ]
  },
  {
   "cell_type": "code",
   "execution_count": 5,
   "id": "bedf6ed4",
   "metadata": {},
   "outputs": [
    {
     "data": {
      "text/plain": [
       "'note ――つくる、つながる、とどける。'"
      ]
     },
     "execution_count": 5,
     "metadata": {},
     "output_type": "execute_result"
    }
   ],
   "source": [
    "driver.title"
   ]
  },
  {
   "cell_type": "code",
   "execution_count": 10,
   "id": "cd06d78d",
   "metadata": {},
   "outputs": [
    {
     "name": "stderr",
     "output_type": "stream",
     "text": [
      "/var/folders/_l/3r37kqhd699__pxb_zz12_940000gn/T/ipykernel_32935/4183178774.py:1: DeprecationWarning: find_elements_by_* commands are deprecated. Please use find_elements() instead\n",
      "  div=driver.find_elements_by_css_selector('.m-largeNoteWrapper__body')[0]\n"
     ]
    }
   ],
   "source": [
    "div=driver.find_elements_by_css_selector('.m-largeNoteWrapper__body')[0]"
   ]
  },
  {
   "cell_type": "code",
   "execution_count": 7,
   "id": "6d985654",
   "metadata": {},
   "outputs": [
    {
     "data": {
      "text/plain": [
       "<selenium.webdriver.remote.webelement.WebElement (session=\"fca19d5ef3347811945f4ab2c72d3349\", element=\"786bf9cf-ad8b-4789-8822-43e7090dae27\")>"
      ]
     },
     "execution_count": 7,
     "metadata": {},
     "output_type": "execute_result"
    }
   ],
   "source": [
    "div"
   ]
  },
  {
   "cell_type": "code",
   "execution_count": 29,
   "id": "fa900547",
   "metadata": {},
   "outputs": [
    {
     "name": "stderr",
     "output_type": "stream",
     "text": [
      "/Users/uenoshouko/workspace/pj_ikechi/ikechi/lib/python3.9/site-packages/selenium/webdriver/remote/webelement.py:483: UserWarning: find_element_by_* commands are deprecated. Please use find_element() instead\n",
      "  warnings.warn(\"find_element_by_* commands are deprecated. Please use find_element() instead\")\n"
     ]
    }
   ],
   "source": [
    "a = div.find_element_by_css_selector('a')"
   ]
  },
  {
   "cell_type": "code",
   "execution_count": 30,
   "id": "210ddfe7",
   "metadata": {},
   "outputs": [
    {
     "data": {
      "text/plain": [
       "'https://note.com/nogamiem/n/ne2634c8ef0bb'"
      ]
     },
     "execution_count": 30,
     "metadata": {},
     "output_type": "execute_result"
    }
   ],
   "source": [
    "a.get_attribute('href')"
   ]
  },
  {
   "cell_type": "code",
   "execution_count": 31,
   "id": "64a891d3",
   "metadata": {},
   "outputs": [
    {
     "data": {
      "text/plain": [
       "'漫画の「絵」を面白くする３つのヒント'"
      ]
     },
     "execution_count": 31,
     "metadata": {},
     "output_type": "execute_result"
    }
   ],
   "source": [
    "div.find_element_by_css_selector('h3').text"
   ]
  },
  {
   "cell_type": "code",
   "execution_count": 33,
   "id": "7d3ea074",
   "metadata": {},
   "outputs": [],
   "source": [
    "driver.execute_script('scroll(0, document.body.scrollHight)')"
   ]
  },
  {
   "cell_type": "markdown",
   "id": "40d31417",
   "metadata": {},
   "source": [
    "### detail pageのurlを取ってきてリストにする"
   ]
  },
  {
   "cell_type": "code",
   "execution_count": 145,
   "id": "e6dfb803",
   "metadata": {},
   "outputs": [
    {
     "name": "stderr",
     "output_type": "stream",
     "text": [
      "/var/folders/_l/3r37kqhd699__pxb_zz12_940000gn/T/ipykernel_74907/1665464251.py:1: DeprecationWarning: find_elements_by_* commands are deprecated. Please use find_elements() instead\n",
      "  driver.find_elements_by_css_selector('.m-largeNoteWrapper__card')\n"
     ]
    },
    {
     "data": {
      "text/plain": [
       "[<selenium.webdriver.remote.webelement.WebElement (session=\"be4ad8589a79739e985b0d0894d82cd0\", element=\"5e6ad65c-bf1e-44aa-becc-ce1b8f84dbf6\")>,\n",
       " <selenium.webdriver.remote.webelement.WebElement (session=\"be4ad8589a79739e985b0d0894d82cd0\", element=\"289a39e4-c396-4954-a783-22e81b1db386\")>,\n",
       " <selenium.webdriver.remote.webelement.WebElement (session=\"be4ad8589a79739e985b0d0894d82cd0\", element=\"be844d53-2965-4d26-81d2-52eb7eb84d38\")>,\n",
       " <selenium.webdriver.remote.webelement.WebElement (session=\"be4ad8589a79739e985b0d0894d82cd0\", element=\"760ae6a0-8947-4b32-8117-527d2c6c7e09\")>,\n",
       " <selenium.webdriver.remote.webelement.WebElement (session=\"be4ad8589a79739e985b0d0894d82cd0\", element=\"5ff7a3ee-85b8-4951-87b3-c309bd3244fc\")>,\n",
       " <selenium.webdriver.remote.webelement.WebElement (session=\"be4ad8589a79739e985b0d0894d82cd0\", element=\"29f24867-8db0-42b4-99b6-0e23a70e4ded\")>,\n",
       " <selenium.webdriver.remote.webelement.WebElement (session=\"be4ad8589a79739e985b0d0894d82cd0\", element=\"e6d6a425-a95d-4915-a2ba-45bfc58047ff\")>,\n",
       " <selenium.webdriver.remote.webelement.WebElement (session=\"be4ad8589a79739e985b0d0894d82cd0\", element=\"9bc79fac-16c0-432e-8133-962a07b855db\")>,\n",
       " <selenium.webdriver.remote.webelement.WebElement (session=\"be4ad8589a79739e985b0d0894d82cd0\", element=\"23d334d8-82ea-4c23-9051-e441e2997c59\")>,\n",
       " <selenium.webdriver.remote.webelement.WebElement (session=\"be4ad8589a79739e985b0d0894d82cd0\", element=\"c76207d3-fa10-4f4d-9ae8-f4158e9f72c4\")>,\n",
       " <selenium.webdriver.remote.webelement.WebElement (session=\"be4ad8589a79739e985b0d0894d82cd0\", element=\"a929ed73-5665-4f28-a5a4-e4ac321ffdc8\")>,\n",
       " <selenium.webdriver.remote.webelement.WebElement (session=\"be4ad8589a79739e985b0d0894d82cd0\", element=\"45027690-8b1b-4966-b29e-a0086335489a\")>,\n",
       " <selenium.webdriver.remote.webelement.WebElement (session=\"be4ad8589a79739e985b0d0894d82cd0\", element=\"e3180307-5322-40a2-b760-71d75f11c575\")>,\n",
       " <selenium.webdriver.remote.webelement.WebElement (session=\"be4ad8589a79739e985b0d0894d82cd0\", element=\"fd29ebf5-0128-4505-9253-38a23f04cd3b\")>,\n",
       " <selenium.webdriver.remote.webelement.WebElement (session=\"be4ad8589a79739e985b0d0894d82cd0\", element=\"37c72ca5-221a-4d3f-b67b-a85f680ea0b7\")>,\n",
       " <selenium.webdriver.remote.webelement.WebElement (session=\"be4ad8589a79739e985b0d0894d82cd0\", element=\"1c10897f-a322-4557-b7ee-137efe058c78\")>,\n",
       " <selenium.webdriver.remote.webelement.WebElement (session=\"be4ad8589a79739e985b0d0894d82cd0\", element=\"ad2cf47c-4ddf-489b-816d-93eae2347009\")>,\n",
       " <selenium.webdriver.remote.webelement.WebElement (session=\"be4ad8589a79739e985b0d0894d82cd0\", element=\"f68e5bb4-25ac-45f6-ae18-a22440e5d25f\")>,\n",
       " <selenium.webdriver.remote.webelement.WebElement (session=\"be4ad8589a79739e985b0d0894d82cd0\", element=\"ee6c0455-d4a9-44ae-8f4e-72228c3ace51\")>,\n",
       " <selenium.webdriver.remote.webelement.WebElement (session=\"be4ad8589a79739e985b0d0894d82cd0\", element=\"8b475875-4aea-4db6-b5c8-9f65096e186b\")>,\n",
       " <selenium.webdriver.remote.webelement.WebElement (session=\"be4ad8589a79739e985b0d0894d82cd0\", element=\"fc174ba9-ad2f-4d37-a0b9-0d0489f80e97\")>,\n",
       " <selenium.webdriver.remote.webelement.WebElement (session=\"be4ad8589a79739e985b0d0894d82cd0\", element=\"5e030c2d-0703-4a44-9276-22f42360d2d3\")>,\n",
       " <selenium.webdriver.remote.webelement.WebElement (session=\"be4ad8589a79739e985b0d0894d82cd0\", element=\"3dc98286-7099-442f-85be-ab585595872d\")>,\n",
       " <selenium.webdriver.remote.webelement.WebElement (session=\"be4ad8589a79739e985b0d0894d82cd0\", element=\"142f875a-54c0-4604-9efc-516b3fc9a55f\")>,\n",
       " <selenium.webdriver.remote.webelement.WebElement (session=\"be4ad8589a79739e985b0d0894d82cd0\", element=\"3b2ef840-af05-42d6-9dbb-1a139ec078cc\")>,\n",
       " <selenium.webdriver.remote.webelement.WebElement (session=\"be4ad8589a79739e985b0d0894d82cd0\", element=\"5d25094b-f3f0-4e4c-9846-2820a0d90c23\")>,\n",
       " <selenium.webdriver.remote.webelement.WebElement (session=\"be4ad8589a79739e985b0d0894d82cd0\", element=\"326e67c2-fb5c-4973-afa3-bdabd4443003\")>,\n",
       " <selenium.webdriver.remote.webelement.WebElement (session=\"be4ad8589a79739e985b0d0894d82cd0\", element=\"ec2a9404-f748-45e5-bfc9-417a0ad9234a\")>,\n",
       " <selenium.webdriver.remote.webelement.WebElement (session=\"be4ad8589a79739e985b0d0894d82cd0\", element=\"20b25c71-47a8-412f-abf8-7a9705268510\")>,\n",
       " <selenium.webdriver.remote.webelement.WebElement (session=\"be4ad8589a79739e985b0d0894d82cd0\", element=\"af8a6215-27fe-4af2-91ab-9cc46ed47e22\")>]"
      ]
     },
     "execution_count": 145,
     "metadata": {},
     "output_type": "execute_result"
    }
   ],
   "source": [
    "driver.find_elements_by_css_selector('.m-largeNoteWrapper__card')"
   ]
  },
  {
   "cell_type": "code",
   "execution_count": 150,
   "id": "195e0da2",
   "metadata": {},
   "outputs": [],
   "source": [
    "def scrape_contents(driver: Remote) -> List[dict]:\n",
    "    \"\"\"\n",
    "    \n",
    "    \"\"\"\n",
    "    print('scrape_contents')\n",
    "    details = []  # 取得したコンテンツを格納するリスト。\n",
    "\n",
    "    # コンテンツを表すdiv要素について反復する。\n",
    "    print(driver)\n",
    "    print(driver.find_elements_by_css_selector('.o-timeline__item'))\n",
    "    for div in driver.find_elements_by_css_selector('.m-largeNoteWrapper__card'):\n",
    "        print(div)\n",
    "        a = div.find_element_by_css_selector('a')\n",
    "        print('a',a)\n",
    "        url=a.get_attribute('href')\n",
    "        print(url)\n",
    "        \n",
    "        options_a = ChromeOptions()\n",
    "        options_a.headless = True\n",
    "        detail_driver = Chrome(options=options_a)\n",
    "        detail_driver.get(url)\n",
    "        paragraphs=detail_driver.find_elements_by_css_selector('p')\n",
    "        content=[]\n",
    "        for p in paragraphs:\n",
    "            content.append(p.text)\n",
    "        \n",
    "        '''\n",
    "        try:\n",
    "            description = div.find_element_by_css_selector('p').text\n",
    "        except NoSuchElementException:\n",
    "            description = ''  # 画像コンテンツなどp要素がない場合は空文字にする。\n",
    "        '''\n",
    "\n",
    "        # URL、タイトル、概要、スキの数を取得して、dictとしてリストに追加する。\n",
    "        details.append({\n",
    "            'contents': content,\n",
    "            'title': div.find_element_by_css_selector('h3').text,\n",
    "            #'description': description,\n",
    "            #'like': int(div.find_element_by_css_selector('.o-noteStatus__item--like .o-noteStatus__label').text),\n",
    "        })\n",
    "        print('details', details)\n",
    "        \n",
    "    return details"
   ]
  },
  {
   "cell_type": "code",
   "execution_count": 130,
   "id": "bc19ab8c",
   "metadata": {},
   "outputs": [],
   "source": [
    "def navigate(driver: Remote):\n",
    "    \"\"\"\n",
    "    目的のページに遷移する。\n",
    "    \"\"\"\n",
    "    logging.info('Navigating...')\n",
    "    driver.get('https://note.mu/')  # noteのトップページを開く。\n",
    "    assert 'note' in driver.title  # タイトルに'note'が含まれていることを確認する。\n"
   ]
  },
  {
   "cell_type": "code",
   "execution_count": 148,
   "id": "a14c1a60",
   "metadata": {},
   "outputs": [],
   "source": [
    "def main():\n",
    "    \"\"\"\n",
    "    メインの処理。\n",
    "    \"\"\"\n",
    "    options = ChromeOptions()\n",
    "    # ヘッドレスモードを有効にするには、次の行のコメントアウトを解除する。\n",
    "    options.headless = True\n",
    "    driver = Chrome(options=options)  # ChromeのWebDriverオブジェクトを作成する。\n",
    "    # Windows上の仮想マシンの場合は、前の行をコメントアウトして、次の行のコメントアウトを解除する。\n",
    "    # driver = Remote('http://10.0.2.2:4444', options=options)\n",
    "    \n",
    "    navigate(driver)  # noteのトップページに遷移する。\n",
    "    print('a')\n",
    "    #contents = scrape_contents(driver)  # コンテンツのリストを取得する。\n",
    "    #logging.info(f'Found {len(contents)} contents.')  # 取得したコンテンツの数を表示する。\n",
    "    contents=scrape_contents(driver)\n",
    "    print('b')\n",
    "    \n",
    "    '''\n",
    "    # コンテンツの情報を表示する。\n",
    "    for content in contents:\n",
    "        print(content['title'])\n",
    "    '''\n",
    "\n",
    "    driver.quit()  # ブラウザーを終了する。\n",
    "    return contents\n"
   ]
  },
  {
   "cell_type": "code",
   "execution_count": 151,
   "id": "93b70161",
   "metadata": {},
   "outputs": [
    {
     "name": "stdout",
     "output_type": "stream",
     "text": [
      "a\n",
      "<selenium.webdriver.chrome.webdriver.WebDriver (session=\"8125b9287b85072eceb7476ed1741422\")>\n",
      "scrape_contents\n",
      "<selenium.webdriver.chrome.webdriver.WebDriver (session=\"8125b9287b85072eceb7476ed1741422\")>\n",
      "[]\n",
      "b\n"
     ]
    },
    {
     "name": "stderr",
     "output_type": "stream",
     "text": [
      "/var/folders/_l/3r37kqhd699__pxb_zz12_940000gn/T/ipykernel_74907/2855510719.py:10: DeprecationWarning: find_elements_by_* commands are deprecated. Please use find_elements() instead\n",
      "  print(driver.find_elements_by_css_selector('.o-timeline__item'))\n",
      "/var/folders/_l/3r37kqhd699__pxb_zz12_940000gn/T/ipykernel_74907/2855510719.py:11: DeprecationWarning: find_elements_by_* commands are deprecated. Please use find_elements() instead\n",
      "  for div in driver.find_elements_by_css_selector('.m-largeNoteWrapper__card'):\n"
     ]
    },
    {
     "data": {
      "text/plain": [
       "[]"
      ]
     },
     "execution_count": 151,
     "metadata": {},
     "output_type": "execute_result"
    }
   ],
   "source": [
    "main()"
   ]
  },
  {
   "cell_type": "code",
   "execution_count": 152,
   "id": "2bb52b4c",
   "metadata": {},
   "outputs": [
    {
     "name": "stdout",
     "output_type": "stream",
     "text": [
      "[]\n",
      "[]\n"
     ]
    },
    {
     "name": "stderr",
     "output_type": "stream",
     "text": [
      "/var/folders/_l/3r37kqhd699__pxb_zz12_940000gn/T/ipykernel_74907/1972889104.py:5: DeprecationWarning: find_elements_by_* commands are deprecated. Please use find_elements() instead\n",
      "  print(driver.find_elements_by_css_selector('.m-largeNoteWrapper__card'))\n",
      "/var/folders/_l/3r37kqhd699__pxb_zz12_940000gn/T/ipykernel_74907/1972889104.py:6: DeprecationWarning: find_elements_by_* commands are deprecated. Please use find_elements() instead\n",
      "  divs=driver.find_elements_by_css_selector('.m-largeNoteWrapper__card')\n"
     ]
    }
   ],
   "source": [
    "options = ChromeOptions()\n",
    "options.headless = True\n",
    "driver = Chrome(options=options)\n",
    "driver.get('https://note.mu')\n"
   ]
  },
  {
   "cell_type": "code",
   "execution_count": 153,
   "id": "590b96f5",
   "metadata": {},
   "outputs": [
    {
     "name": "stdout",
     "output_type": "stream",
     "text": [
      "[<selenium.webdriver.remote.webelement.WebElement (session=\"c9d46d532bb3ca3e658e41c2eec99e6d\", element=\"9c4c5823-1035-4709-82f5-98caa2dfe3ae\")>, <selenium.webdriver.remote.webelement.WebElement (session=\"c9d46d532bb3ca3e658e41c2eec99e6d\", element=\"35682745-ece3-4003-bea4-16d87fc64061\")>, <selenium.webdriver.remote.webelement.WebElement (session=\"c9d46d532bb3ca3e658e41c2eec99e6d\", element=\"bbcd42eb-2062-4446-b050-12f1b87bb52a\")>, <selenium.webdriver.remote.webelement.WebElement (session=\"c9d46d532bb3ca3e658e41c2eec99e6d\", element=\"2b798cba-deb1-4cec-a596-e831f6a4a878\")>, <selenium.webdriver.remote.webelement.WebElement (session=\"c9d46d532bb3ca3e658e41c2eec99e6d\", element=\"acf35f55-2a3b-4baf-a65a-24237cc52b6a\")>, <selenium.webdriver.remote.webelement.WebElement (session=\"c9d46d532bb3ca3e658e41c2eec99e6d\", element=\"24f40f19-1192-4526-9b79-b200a2488526\")>, <selenium.webdriver.remote.webelement.WebElement (session=\"c9d46d532bb3ca3e658e41c2eec99e6d\", element=\"90d6af8f-7a73-444a-addf-a735e80606ba\")>, <selenium.webdriver.remote.webelement.WebElement (session=\"c9d46d532bb3ca3e658e41c2eec99e6d\", element=\"c0ff1a02-aff4-4285-8690-6800be02d031\")>, <selenium.webdriver.remote.webelement.WebElement (session=\"c9d46d532bb3ca3e658e41c2eec99e6d\", element=\"7351b2f3-b0e1-4680-a065-5b72dbbb647a\")>, <selenium.webdriver.remote.webelement.WebElement (session=\"c9d46d532bb3ca3e658e41c2eec99e6d\", element=\"cb2ce061-5d04-43d0-bd9a-0e748925a724\")>, <selenium.webdriver.remote.webelement.WebElement (session=\"c9d46d532bb3ca3e658e41c2eec99e6d\", element=\"d28c5a6e-d4d8-492f-96aa-133eae7f63e7\")>, <selenium.webdriver.remote.webelement.WebElement (session=\"c9d46d532bb3ca3e658e41c2eec99e6d\", element=\"efa82ed1-aa93-439f-81e3-084e5235aadc\")>, <selenium.webdriver.remote.webelement.WebElement (session=\"c9d46d532bb3ca3e658e41c2eec99e6d\", element=\"225cb7cf-70a1-4b4f-aea2-976f6690630b\")>, <selenium.webdriver.remote.webelement.WebElement (session=\"c9d46d532bb3ca3e658e41c2eec99e6d\", element=\"a6b37298-d239-43d7-bd8e-765834d28750\")>, <selenium.webdriver.remote.webelement.WebElement (session=\"c9d46d532bb3ca3e658e41c2eec99e6d\", element=\"9bc63da3-ea0f-4f9a-8610-0456acb46627\")>, <selenium.webdriver.remote.webelement.WebElement (session=\"c9d46d532bb3ca3e658e41c2eec99e6d\", element=\"6cc21d55-6c48-47d5-a3bc-652bc0547676\")>, <selenium.webdriver.remote.webelement.WebElement (session=\"c9d46d532bb3ca3e658e41c2eec99e6d\", element=\"6b53d44e-c565-4bbe-8407-1a16fa7d18a5\")>, <selenium.webdriver.remote.webelement.WebElement (session=\"c9d46d532bb3ca3e658e41c2eec99e6d\", element=\"097147dc-bd9f-4338-be72-51cf3b0faa87\")>, <selenium.webdriver.remote.webelement.WebElement (session=\"c9d46d532bb3ca3e658e41c2eec99e6d\", element=\"b46ba51d-6304-4ea0-98fe-6655766a1725\")>, <selenium.webdriver.remote.webelement.WebElement (session=\"c9d46d532bb3ca3e658e41c2eec99e6d\", element=\"a3b2ecb4-d2f3-4a16-8f4b-e7a435ed7a17\")>, <selenium.webdriver.remote.webelement.WebElement (session=\"c9d46d532bb3ca3e658e41c2eec99e6d\", element=\"d247c2cf-d71d-4233-823d-3f63b3778957\")>, <selenium.webdriver.remote.webelement.WebElement (session=\"c9d46d532bb3ca3e658e41c2eec99e6d\", element=\"04b8e134-07fa-4798-8163-3f997cb3a0c3\")>, <selenium.webdriver.remote.webelement.WebElement (session=\"c9d46d532bb3ca3e658e41c2eec99e6d\", element=\"98f4b7f7-2293-4908-ac86-b23fee9dc9c0\")>, <selenium.webdriver.remote.webelement.WebElement (session=\"c9d46d532bb3ca3e658e41c2eec99e6d\", element=\"7b90fbd5-a367-4536-8082-84e6fce1f612\")>, <selenium.webdriver.remote.webelement.WebElement (session=\"c9d46d532bb3ca3e658e41c2eec99e6d\", element=\"ffc4793d-ab88-4bc5-941b-89345dea4936\")>, <selenium.webdriver.remote.webelement.WebElement (session=\"c9d46d532bb3ca3e658e41c2eec99e6d\", element=\"a0810506-81dd-45ff-b8c8-08a41bc49891\")>, <selenium.webdriver.remote.webelement.WebElement (session=\"c9d46d532bb3ca3e658e41c2eec99e6d\", element=\"92712f77-5896-44f9-ba4d-3df0f26ecd75\")>, <selenium.webdriver.remote.webelement.WebElement (session=\"c9d46d532bb3ca3e658e41c2eec99e6d\", element=\"afd3e42d-757f-4b5d-9ed7-c2ea3e68bbb6\")>, <selenium.webdriver.remote.webelement.WebElement (session=\"c9d46d532bb3ca3e658e41c2eec99e6d\", element=\"e9666640-7559-494a-9b5b-910f3f3ac893\")>, <selenium.webdriver.remote.webelement.WebElement (session=\"c9d46d532bb3ca3e658e41c2eec99e6d\", element=\"17749233-85af-467e-aa5e-c381d3558f89\")>]\n",
      "[<selenium.webdriver.remote.webelement.WebElement (session=\"c9d46d532bb3ca3e658e41c2eec99e6d\", element=\"9c4c5823-1035-4709-82f5-98caa2dfe3ae\")>, <selenium.webdriver.remote.webelement.WebElement (session=\"c9d46d532bb3ca3e658e41c2eec99e6d\", element=\"35682745-ece3-4003-bea4-16d87fc64061\")>, <selenium.webdriver.remote.webelement.WebElement (session=\"c9d46d532bb3ca3e658e41c2eec99e6d\", element=\"bbcd42eb-2062-4446-b050-12f1b87bb52a\")>, <selenium.webdriver.remote.webelement.WebElement (session=\"c9d46d532bb3ca3e658e41c2eec99e6d\", element=\"2b798cba-deb1-4cec-a596-e831f6a4a878\")>, <selenium.webdriver.remote.webelement.WebElement (session=\"c9d46d532bb3ca3e658e41c2eec99e6d\", element=\"acf35f55-2a3b-4baf-a65a-24237cc52b6a\")>, <selenium.webdriver.remote.webelement.WebElement (session=\"c9d46d532bb3ca3e658e41c2eec99e6d\", element=\"24f40f19-1192-4526-9b79-b200a2488526\")>, <selenium.webdriver.remote.webelement.WebElement (session=\"c9d46d532bb3ca3e658e41c2eec99e6d\", element=\"90d6af8f-7a73-444a-addf-a735e80606ba\")>, <selenium.webdriver.remote.webelement.WebElement (session=\"c9d46d532bb3ca3e658e41c2eec99e6d\", element=\"c0ff1a02-aff4-4285-8690-6800be02d031\")>, <selenium.webdriver.remote.webelement.WebElement (session=\"c9d46d532bb3ca3e658e41c2eec99e6d\", element=\"7351b2f3-b0e1-4680-a065-5b72dbbb647a\")>, <selenium.webdriver.remote.webelement.WebElement (session=\"c9d46d532bb3ca3e658e41c2eec99e6d\", element=\"cb2ce061-5d04-43d0-bd9a-0e748925a724\")>, <selenium.webdriver.remote.webelement.WebElement (session=\"c9d46d532bb3ca3e658e41c2eec99e6d\", element=\"d28c5a6e-d4d8-492f-96aa-133eae7f63e7\")>, <selenium.webdriver.remote.webelement.WebElement (session=\"c9d46d532bb3ca3e658e41c2eec99e6d\", element=\"efa82ed1-aa93-439f-81e3-084e5235aadc\")>, <selenium.webdriver.remote.webelement.WebElement (session=\"c9d46d532bb3ca3e658e41c2eec99e6d\", element=\"225cb7cf-70a1-4b4f-aea2-976f6690630b\")>, <selenium.webdriver.remote.webelement.WebElement (session=\"c9d46d532bb3ca3e658e41c2eec99e6d\", element=\"a6b37298-d239-43d7-bd8e-765834d28750\")>, <selenium.webdriver.remote.webelement.WebElement (session=\"c9d46d532bb3ca3e658e41c2eec99e6d\", element=\"9bc63da3-ea0f-4f9a-8610-0456acb46627\")>, <selenium.webdriver.remote.webelement.WebElement (session=\"c9d46d532bb3ca3e658e41c2eec99e6d\", element=\"6cc21d55-6c48-47d5-a3bc-652bc0547676\")>, <selenium.webdriver.remote.webelement.WebElement (session=\"c9d46d532bb3ca3e658e41c2eec99e6d\", element=\"6b53d44e-c565-4bbe-8407-1a16fa7d18a5\")>, <selenium.webdriver.remote.webelement.WebElement (session=\"c9d46d532bb3ca3e658e41c2eec99e6d\", element=\"097147dc-bd9f-4338-be72-51cf3b0faa87\")>, <selenium.webdriver.remote.webelement.WebElement (session=\"c9d46d532bb3ca3e658e41c2eec99e6d\", element=\"b46ba51d-6304-4ea0-98fe-6655766a1725\")>, <selenium.webdriver.remote.webelement.WebElement (session=\"c9d46d532bb3ca3e658e41c2eec99e6d\", element=\"a3b2ecb4-d2f3-4a16-8f4b-e7a435ed7a17\")>, <selenium.webdriver.remote.webelement.WebElement (session=\"c9d46d532bb3ca3e658e41c2eec99e6d\", element=\"d247c2cf-d71d-4233-823d-3f63b3778957\")>, <selenium.webdriver.remote.webelement.WebElement (session=\"c9d46d532bb3ca3e658e41c2eec99e6d\", element=\"04b8e134-07fa-4798-8163-3f997cb3a0c3\")>, <selenium.webdriver.remote.webelement.WebElement (session=\"c9d46d532bb3ca3e658e41c2eec99e6d\", element=\"98f4b7f7-2293-4908-ac86-b23fee9dc9c0\")>, <selenium.webdriver.remote.webelement.WebElement (session=\"c9d46d532bb3ca3e658e41c2eec99e6d\", element=\"7b90fbd5-a367-4536-8082-84e6fce1f612\")>, <selenium.webdriver.remote.webelement.WebElement (session=\"c9d46d532bb3ca3e658e41c2eec99e6d\", element=\"ffc4793d-ab88-4bc5-941b-89345dea4936\")>, <selenium.webdriver.remote.webelement.WebElement (session=\"c9d46d532bb3ca3e658e41c2eec99e6d\", element=\"a0810506-81dd-45ff-b8c8-08a41bc49891\")>, <selenium.webdriver.remote.webelement.WebElement (session=\"c9d46d532bb3ca3e658e41c2eec99e6d\", element=\"92712f77-5896-44f9-ba4d-3df0f26ecd75\")>, <selenium.webdriver.remote.webelement.WebElement (session=\"c9d46d532bb3ca3e658e41c2eec99e6d\", element=\"afd3e42d-757f-4b5d-9ed7-c2ea3e68bbb6\")>, <selenium.webdriver.remote.webelement.WebElement (session=\"c9d46d532bb3ca3e658e41c2eec99e6d\", element=\"e9666640-7559-494a-9b5b-910f3f3ac893\")>, <selenium.webdriver.remote.webelement.WebElement (session=\"c9d46d532bb3ca3e658e41c2eec99e6d\", element=\"17749233-85af-467e-aa5e-c381d3558f89\")>]\n"
     ]
    },
    {
     "name": "stderr",
     "output_type": "stream",
     "text": [
      "/var/folders/_l/3r37kqhd699__pxb_zz12_940000gn/T/ipykernel_74907/170901274.py:1: DeprecationWarning: find_elements_by_* commands are deprecated. Please use find_elements() instead\n",
      "  print(driver.find_elements_by_css_selector('.m-largeNoteWrapper__card'))\n",
      "/var/folders/_l/3r37kqhd699__pxb_zz12_940000gn/T/ipykernel_74907/170901274.py:2: DeprecationWarning: find_elements_by_* commands are deprecated. Please use find_elements() instead\n",
      "  divs=driver.find_elements_by_css_selector('.m-largeNoteWrapper__card')\n"
     ]
    }
   ],
   "source": [
    "print(driver.find_elements_by_css_selector('.m-largeNoteWrapper__card'))\n",
    "divs=driver.find_elements_by_css_selector('.m-largeNoteWrapper__card')\n",
    "print(divs)"
   ]
  },
  {
   "cell_type": "code",
   "execution_count": 93,
   "id": "b30c0f79",
   "metadata": {},
   "outputs": [
    {
     "data": {
      "text/plain": [
       "[]"
      ]
     },
     "execution_count": 93,
     "metadata": {},
     "output_type": "execute_result"
    }
   ],
   "source": [
    "divs"
   ]
  },
  {
   "cell_type": "code",
   "execution_count": 154,
   "id": "418204fe",
   "metadata": {},
   "outputs": [],
   "source": [
    "options = ChromeOptions()\n",
    "options.headless = True\n",
    "driver = Chrome(options=options)\n",
    "driver.get('https://note.mu')"
   ]
  },
  {
   "cell_type": "code",
   "execution_count": 156,
   "id": "f2321102",
   "metadata": {},
   "outputs": [
    {
     "name": "stderr",
     "output_type": "stream",
     "text": [
      "/var/folders/_l/3r37kqhd699__pxb_zz12_940000gn/T/ipykernel_74907/4158101562.py:1: DeprecationWarning: find_elements_by_* commands are deprecated. Please use find_elements() instead\n",
      "  divs=driver.find_elements_by_css_selector('.m-largeNoteWrapper__card')\n",
      "/Users/uenoshouko/workspace/pj_ikechi/ikechi/lib/python3.9/site-packages/selenium/webdriver/remote/webelement.py:483: UserWarning: find_element_by_* commands are deprecated. Please use find_element() instead\n",
      "  warnings.warn(\"find_element_by_* commands are deprecated. Please use find_element() instead\")\n"
     ]
    },
    {
     "name": "stdout",
     "output_type": "stream",
     "text": [
      "[<selenium.webdriver.remote.webelement.WebElement (session=\"0f7edf8145c3a683b9a20f46c36560bc\", element=\"296b0ccc-ce7c-45df-a6a9-5113ed34a4b5\")>, <selenium.webdriver.remote.webelement.WebElement (session=\"0f7edf8145c3a683b9a20f46c36560bc\", element=\"82fa8b9a-7da3-4ebc-8d30-7e4a7d5cc0a0\")>, <selenium.webdriver.remote.webelement.WebElement (session=\"0f7edf8145c3a683b9a20f46c36560bc\", element=\"29c1a3c5-9ffb-4036-984f-a7ceb0b2c3a5\")>, <selenium.webdriver.remote.webelement.WebElement (session=\"0f7edf8145c3a683b9a20f46c36560bc\", element=\"1d01a84f-5c3b-4b5e-b908-525f508bd6b9\")>, <selenium.webdriver.remote.webelement.WebElement (session=\"0f7edf8145c3a683b9a20f46c36560bc\", element=\"5137d31e-2a19-4b8f-bd3f-69fe80fbd2ec\")>, <selenium.webdriver.remote.webelement.WebElement (session=\"0f7edf8145c3a683b9a20f46c36560bc\", element=\"4e401744-9ec9-417a-b221-1067d6292511\")>, <selenium.webdriver.remote.webelement.WebElement (session=\"0f7edf8145c3a683b9a20f46c36560bc\", element=\"2a35d702-47ff-42e0-9b69-019cd86abef6\")>, <selenium.webdriver.remote.webelement.WebElement (session=\"0f7edf8145c3a683b9a20f46c36560bc\", element=\"888f2268-015e-4aa1-b506-f3ba1f2a67c2\")>, <selenium.webdriver.remote.webelement.WebElement (session=\"0f7edf8145c3a683b9a20f46c36560bc\", element=\"55d3108d-1321-4ba8-b5a1-d9d7e6a47423\")>, <selenium.webdriver.remote.webelement.WebElement (session=\"0f7edf8145c3a683b9a20f46c36560bc\", element=\"6c411710-7a32-47af-bcd6-fde52cf0d049\")>, <selenium.webdriver.remote.webelement.WebElement (session=\"0f7edf8145c3a683b9a20f46c36560bc\", element=\"659303db-d41f-4f10-aa77-a8bfe83e654a\")>, <selenium.webdriver.remote.webelement.WebElement (session=\"0f7edf8145c3a683b9a20f46c36560bc\", element=\"5d9f20a6-2972-49c4-8724-4f435dfda093\")>, <selenium.webdriver.remote.webelement.WebElement (session=\"0f7edf8145c3a683b9a20f46c36560bc\", element=\"8ec0263d-1fe3-4565-b231-7f84f2de03c8\")>, <selenium.webdriver.remote.webelement.WebElement (session=\"0f7edf8145c3a683b9a20f46c36560bc\", element=\"66ddb08d-a27e-40b8-af01-d7a92556d730\")>, <selenium.webdriver.remote.webelement.WebElement (session=\"0f7edf8145c3a683b9a20f46c36560bc\", element=\"cb12782f-4b79-4600-b29d-a3b880f1010c\")>, <selenium.webdriver.remote.webelement.WebElement (session=\"0f7edf8145c3a683b9a20f46c36560bc\", element=\"580dc09e-9490-4bf9-b2b7-ba28fc487eb1\")>, <selenium.webdriver.remote.webelement.WebElement (session=\"0f7edf8145c3a683b9a20f46c36560bc\", element=\"aa283b0e-5fd4-47a2-bf96-abf81129a720\")>, <selenium.webdriver.remote.webelement.WebElement (session=\"0f7edf8145c3a683b9a20f46c36560bc\", element=\"f6030978-9846-49e2-a4d2-dee06a5ec317\")>, <selenium.webdriver.remote.webelement.WebElement (session=\"0f7edf8145c3a683b9a20f46c36560bc\", element=\"ccaf570f-8817-42ee-8e9a-1ba7da63eef1\")>, <selenium.webdriver.remote.webelement.WebElement (session=\"0f7edf8145c3a683b9a20f46c36560bc\", element=\"53c7f730-0385-40b3-9b3c-d4c894180385\")>, <selenium.webdriver.remote.webelement.WebElement (session=\"0f7edf8145c3a683b9a20f46c36560bc\", element=\"2b2b13a9-f3ea-4d67-bed7-4faad2350993\")>, <selenium.webdriver.remote.webelement.WebElement (session=\"0f7edf8145c3a683b9a20f46c36560bc\", element=\"2c925ea2-fa8b-4769-8982-7a2256fbbd26\")>, <selenium.webdriver.remote.webelement.WebElement (session=\"0f7edf8145c3a683b9a20f46c36560bc\", element=\"f2c28bcb-dc9c-48a1-8e8f-bdfbe34e0f0c\")>, <selenium.webdriver.remote.webelement.WebElement (session=\"0f7edf8145c3a683b9a20f46c36560bc\", element=\"2368d421-8434-44f9-b305-66784736c994\")>, <selenium.webdriver.remote.webelement.WebElement (session=\"0f7edf8145c3a683b9a20f46c36560bc\", element=\"fb2e0fc6-648c-425d-acaf-a0a94f039334\")>, <selenium.webdriver.remote.webelement.WebElement (session=\"0f7edf8145c3a683b9a20f46c36560bc\", element=\"226d9044-81a2-4174-a691-5094ad184d24\")>, <selenium.webdriver.remote.webelement.WebElement (session=\"0f7edf8145c3a683b9a20f46c36560bc\", element=\"c8a28feb-107a-4e57-b0a6-48a75b9e38cc\")>, <selenium.webdriver.remote.webelement.WebElement (session=\"0f7edf8145c3a683b9a20f46c36560bc\", element=\"03915a2a-dee8-4f81-b73d-343ad7f709d6\")>, <selenium.webdriver.remote.webelement.WebElement (session=\"0f7edf8145c3a683b9a20f46c36560bc\", element=\"523193a9-0ba7-40f5-b281-9e453a1e4af4\")>, <selenium.webdriver.remote.webelement.WebElement (session=\"0f7edf8145c3a683b9a20f46c36560bc\", element=\"c53f1b32-527b-4be3-83a2-787a5180807c\")>]\n"
     ]
    },
    {
     "name": "stderr",
     "output_type": "stream",
     "text": [
      "/var/folders/_l/3r37kqhd699__pxb_zz12_940000gn/T/ipykernel_74907/4158101562.py:22: DeprecationWarning: find_elements_by_* commands are deprecated. Please use find_elements() instead\n",
      "  div=detail_driver.find_elements_by_css_selector('p')\n",
      "/Users/uenoshouko/workspace/pj_ikechi/ikechi/lib/python3.9/site-packages/selenium/webdriver/remote/webelement.py:483: UserWarning: find_element_by_* commands are deprecated. Please use find_element() instead\n",
      "  warnings.warn(\"find_element_by_* commands are deprecated. Please use find_element() instead\")\n",
      "/var/folders/_l/3r37kqhd699__pxb_zz12_940000gn/T/ipykernel_74907/4158101562.py:22: DeprecationWarning: find_elements_by_* commands are deprecated. Please use find_elements() instead\n",
      "  div=detail_driver.find_elements_by_css_selector('p')\n",
      "/var/folders/_l/3r37kqhd699__pxb_zz12_940000gn/T/ipykernel_74907/4158101562.py:22: DeprecationWarning: find_elements_by_* commands are deprecated. Please use find_elements() instead\n",
      "  div=detail_driver.find_elements_by_css_selector('p')\n",
      "/Users/uenoshouko/workspace/pj_ikechi/ikechi/lib/python3.9/site-packages/selenium/webdriver/remote/webelement.py:483: UserWarning: find_element_by_* commands are deprecated. Please use find_element() instead\n",
      "  warnings.warn(\"find_element_by_* commands are deprecated. Please use find_element() instead\")\n",
      "/var/folders/_l/3r37kqhd699__pxb_zz12_940000gn/T/ipykernel_74907/4158101562.py:22: DeprecationWarning: find_elements_by_* commands are deprecated. Please use find_elements() instead\n",
      "  div=detail_driver.find_elements_by_css_selector('p')\n",
      "/var/folders/_l/3r37kqhd699__pxb_zz12_940000gn/T/ipykernel_74907/4158101562.py:22: DeprecationWarning: find_elements_by_* commands are deprecated. Please use find_elements() instead\n",
      "  div=detail_driver.find_elements_by_css_selector('p')\n",
      "/var/folders/_l/3r37kqhd699__pxb_zz12_940000gn/T/ipykernel_74907/4158101562.py:22: DeprecationWarning: find_elements_by_* commands are deprecated. Please use find_elements() instead\n",
      "  div=detail_driver.find_elements_by_css_selector('p')\n",
      "/Users/uenoshouko/workspace/pj_ikechi/ikechi/lib/python3.9/site-packages/selenium/webdriver/remote/webelement.py:483: UserWarning: find_element_by_* commands are deprecated. Please use find_element() instead\n",
      "  warnings.warn(\"find_element_by_* commands are deprecated. Please use find_element() instead\")\n",
      "/var/folders/_l/3r37kqhd699__pxb_zz12_940000gn/T/ipykernel_74907/4158101562.py:22: DeprecationWarning: find_elements_by_* commands are deprecated. Please use find_elements() instead\n",
      "  div=detail_driver.find_elements_by_css_selector('p')\n",
      "/var/folders/_l/3r37kqhd699__pxb_zz12_940000gn/T/ipykernel_74907/4158101562.py:22: DeprecationWarning: find_elements_by_* commands are deprecated. Please use find_elements() instead\n",
      "  div=detail_driver.find_elements_by_css_selector('p')\n",
      "/var/folders/_l/3r37kqhd699__pxb_zz12_940000gn/T/ipykernel_74907/4158101562.py:22: DeprecationWarning: find_elements_by_* commands are deprecated. Please use find_elements() instead\n",
      "  div=detail_driver.find_elements_by_css_selector('p')\n",
      "/var/folders/_l/3r37kqhd699__pxb_zz12_940000gn/T/ipykernel_74907/4158101562.py:22: DeprecationWarning: find_elements_by_* commands are deprecated. Please use find_elements() instead\n",
      "  div=detail_driver.find_elements_by_css_selector('p')\n",
      "/Users/uenoshouko/workspace/pj_ikechi/ikechi/lib/python3.9/site-packages/selenium/webdriver/remote/webelement.py:483: UserWarning: find_element_by_* commands are deprecated. Please use find_element() instead\n",
      "  warnings.warn(\"find_element_by_* commands are deprecated. Please use find_element() instead\")\n",
      "/var/folders/_l/3r37kqhd699__pxb_zz12_940000gn/T/ipykernel_74907/4158101562.py:22: DeprecationWarning: find_elements_by_* commands are deprecated. Please use find_elements() instead\n",
      "  div=detail_driver.find_elements_by_css_selector('p')\n",
      "/var/folders/_l/3r37kqhd699__pxb_zz12_940000gn/T/ipykernel_74907/4158101562.py:22: DeprecationWarning: find_elements_by_* commands are deprecated. Please use find_elements() instead\n",
      "  div=detail_driver.find_elements_by_css_selector('p')\n",
      "/var/folders/_l/3r37kqhd699__pxb_zz12_940000gn/T/ipykernel_74907/4158101562.py:22: DeprecationWarning: find_elements_by_* commands are deprecated. Please use find_elements() instead\n",
      "  div=detail_driver.find_elements_by_css_selector('p')\n",
      "/var/folders/_l/3r37kqhd699__pxb_zz12_940000gn/T/ipykernel_74907/4158101562.py:22: DeprecationWarning: find_elements_by_* commands are deprecated. Please use find_elements() instead\n",
      "  div=detail_driver.find_elements_by_css_selector('p')\n",
      "/var/folders/_l/3r37kqhd699__pxb_zz12_940000gn/T/ipykernel_74907/4158101562.py:22: DeprecationWarning: find_elements_by_* commands are deprecated. Please use find_elements() instead\n",
      "  div=detail_driver.find_elements_by_css_selector('p')\n",
      "/Users/uenoshouko/workspace/pj_ikechi/ikechi/lib/python3.9/site-packages/selenium/webdriver/remote/webelement.py:483: UserWarning: find_element_by_* commands are deprecated. Please use find_element() instead\n",
      "  warnings.warn(\"find_element_by_* commands are deprecated. Please use find_element() instead\")\n",
      "/var/folders/_l/3r37kqhd699__pxb_zz12_940000gn/T/ipykernel_74907/4158101562.py:22: DeprecationWarning: find_elements_by_* commands are deprecated. Please use find_elements() instead\n",
      "  div=detail_driver.find_elements_by_css_selector('p')\n",
      "/var/folders/_l/3r37kqhd699__pxb_zz12_940000gn/T/ipykernel_74907/4158101562.py:22: DeprecationWarning: find_elements_by_* commands are deprecated. Please use find_elements() instead\n",
      "  div=detail_driver.find_elements_by_css_selector('p')\n",
      "/var/folders/_l/3r37kqhd699__pxb_zz12_940000gn/T/ipykernel_74907/4158101562.py:22: DeprecationWarning: find_elements_by_* commands are deprecated. Please use find_elements() instead\n",
      "  div=detail_driver.find_elements_by_css_selector('p')\n",
      "/var/folders/_l/3r37kqhd699__pxb_zz12_940000gn/T/ipykernel_74907/4158101562.py:22: DeprecationWarning: find_elements_by_* commands are deprecated. Please use find_elements() instead\n",
      "  div=detail_driver.find_elements_by_css_selector('p')\n",
      "/var/folders/_l/3r37kqhd699__pxb_zz12_940000gn/T/ipykernel_74907/4158101562.py:22: DeprecationWarning: find_elements_by_* commands are deprecated. Please use find_elements() instead\n",
      "  div=detail_driver.find_elements_by_css_selector('p')\n",
      "/var/folders/_l/3r37kqhd699__pxb_zz12_940000gn/T/ipykernel_74907/4158101562.py:22: DeprecationWarning: find_elements_by_* commands are deprecated. Please use find_elements() instead\n",
      "  div=detail_driver.find_elements_by_css_selector('p')\n",
      "/Users/uenoshouko/workspace/pj_ikechi/ikechi/lib/python3.9/site-packages/selenium/webdriver/remote/webelement.py:483: UserWarning: find_element_by_* commands are deprecated. Please use find_element() instead\n",
      "  warnings.warn(\"find_element_by_* commands are deprecated. Please use find_element() instead\")\n",
      "/var/folders/_l/3r37kqhd699__pxb_zz12_940000gn/T/ipykernel_74907/4158101562.py:22: DeprecationWarning: find_elements_by_* commands are deprecated. Please use find_elements() instead\n",
      "  div=detail_driver.find_elements_by_css_selector('p')\n",
      "/var/folders/_l/3r37kqhd699__pxb_zz12_940000gn/T/ipykernel_74907/4158101562.py:22: DeprecationWarning: find_elements_by_* commands are deprecated. Please use find_elements() instead\n",
      "  div=detail_driver.find_elements_by_css_selector('p')\n",
      "/var/folders/_l/3r37kqhd699__pxb_zz12_940000gn/T/ipykernel_74907/4158101562.py:22: DeprecationWarning: find_elements_by_* commands are deprecated. Please use find_elements() instead\n",
      "  div=detail_driver.find_elements_by_css_selector('p')\n",
      "/var/folders/_l/3r37kqhd699__pxb_zz12_940000gn/T/ipykernel_74907/4158101562.py:22: DeprecationWarning: find_elements_by_* commands are deprecated. Please use find_elements() instead\n",
      "  div=detail_driver.find_elements_by_css_selector('p')\n",
      "/var/folders/_l/3r37kqhd699__pxb_zz12_940000gn/T/ipykernel_74907/4158101562.py:22: DeprecationWarning: find_elements_by_* commands are deprecated. Please use find_elements() instead\n",
      "  div=detail_driver.find_elements_by_css_selector('p')\n",
      "/var/folders/_l/3r37kqhd699__pxb_zz12_940000gn/T/ipykernel_74907/4158101562.py:22: DeprecationWarning: find_elements_by_* commands are deprecated. Please use find_elements() instead\n",
      "  div=detail_driver.find_elements_by_css_selector('p')\n"
     ]
    },
    {
     "name": "stderr",
     "output_type": "stream",
     "text": [
      "/var/folders/_l/3r37kqhd699__pxb_zz12_940000gn/T/ipykernel_74907/4158101562.py:22: DeprecationWarning: find_elements_by_* commands are deprecated. Please use find_elements() instead\n",
      "  div=detail_driver.find_elements_by_css_selector('p')\n",
      "/Users/uenoshouko/workspace/pj_ikechi/ikechi/lib/python3.9/site-packages/selenium/webdriver/remote/webelement.py:483: UserWarning: find_element_by_* commands are deprecated. Please use find_element() instead\n",
      "  warnings.warn(\"find_element_by_* commands are deprecated. Please use find_element() instead\")\n",
      "/var/folders/_l/3r37kqhd699__pxb_zz12_940000gn/T/ipykernel_74907/4158101562.py:22: DeprecationWarning: find_elements_by_* commands are deprecated. Please use find_elements() instead\n",
      "  div=detail_driver.find_elements_by_css_selector('p')\n",
      "/var/folders/_l/3r37kqhd699__pxb_zz12_940000gn/T/ipykernel_74907/4158101562.py:22: DeprecationWarning: find_elements_by_* commands are deprecated. Please use find_elements() instead\n",
      "  div=detail_driver.find_elements_by_css_selector('p')\n",
      "/var/folders/_l/3r37kqhd699__pxb_zz12_940000gn/T/ipykernel_74907/4158101562.py:22: DeprecationWarning: find_elements_by_* commands are deprecated. Please use find_elements() instead\n",
      "  div=detail_driver.find_elements_by_css_selector('p')\n",
      "/var/folders/_l/3r37kqhd699__pxb_zz12_940000gn/T/ipykernel_74907/4158101562.py:22: DeprecationWarning: find_elements_by_* commands are deprecated. Please use find_elements() instead\n",
      "  div=detail_driver.find_elements_by_css_selector('p')\n",
      "/var/folders/_l/3r37kqhd699__pxb_zz12_940000gn/T/ipykernel_74907/4158101562.py:22: DeprecationWarning: find_elements_by_* commands are deprecated. Please use find_elements() instead\n",
      "  div=detail_driver.find_elements_by_css_selector('p')\n",
      "/var/folders/_l/3r37kqhd699__pxb_zz12_940000gn/T/ipykernel_74907/4158101562.py:22: DeprecationWarning: find_elements_by_* commands are deprecated. Please use find_elements() instead\n",
      "  div=detail_driver.find_elements_by_css_selector('p')\n",
      "/var/folders/_l/3r37kqhd699__pxb_zz12_940000gn/T/ipykernel_74907/4158101562.py:22: DeprecationWarning: find_elements_by_* commands are deprecated. Please use find_elements() instead\n",
      "  div=detail_driver.find_elements_by_css_selector('p')\n",
      "/var/folders/_l/3r37kqhd699__pxb_zz12_940000gn/T/ipykernel_74907/4158101562.py:22: DeprecationWarning: find_elements_by_* commands are deprecated. Please use find_elements() instead\n",
      "  div=detail_driver.find_elements_by_css_selector('p')\n",
      "/Users/uenoshouko/workspace/pj_ikechi/ikechi/lib/python3.9/site-packages/selenium/webdriver/remote/webelement.py:483: UserWarning: find_element_by_* commands are deprecated. Please use find_element() instead\n",
      "  warnings.warn(\"find_element_by_* commands are deprecated. Please use find_element() instead\")\n",
      "/var/folders/_l/3r37kqhd699__pxb_zz12_940000gn/T/ipykernel_74907/4158101562.py:22: DeprecationWarning: find_elements_by_* commands are deprecated. Please use find_elements() instead\n",
      "  div=detail_driver.find_elements_by_css_selector('p')\n",
      "/var/folders/_l/3r37kqhd699__pxb_zz12_940000gn/T/ipykernel_74907/4158101562.py:22: DeprecationWarning: find_elements_by_* commands are deprecated. Please use find_elements() instead\n",
      "  div=detail_driver.find_elements_by_css_selector('p')\n",
      "/var/folders/_l/3r37kqhd699__pxb_zz12_940000gn/T/ipykernel_74907/4158101562.py:22: DeprecationWarning: find_elements_by_* commands are deprecated. Please use find_elements() instead\n",
      "  div=detail_driver.find_elements_by_css_selector('p')\n",
      "/var/folders/_l/3r37kqhd699__pxb_zz12_940000gn/T/ipykernel_74907/4158101562.py:22: DeprecationWarning: find_elements_by_* commands are deprecated. Please use find_elements() instead\n",
      "  div=detail_driver.find_elements_by_css_selector('p')\n",
      "/var/folders/_l/3r37kqhd699__pxb_zz12_940000gn/T/ipykernel_74907/4158101562.py:22: DeprecationWarning: find_elements_by_* commands are deprecated. Please use find_elements() instead\n",
      "  div=detail_driver.find_elements_by_css_selector('p')\n",
      "/var/folders/_l/3r37kqhd699__pxb_zz12_940000gn/T/ipykernel_74907/4158101562.py:22: DeprecationWarning: find_elements_by_* commands are deprecated. Please use find_elements() instead\n",
      "  div=detail_driver.find_elements_by_css_selector('p')\n",
      "/var/folders/_l/3r37kqhd699__pxb_zz12_940000gn/T/ipykernel_74907/4158101562.py:22: DeprecationWarning: find_elements_by_* commands are deprecated. Please use find_elements() instead\n",
      "  div=detail_driver.find_elements_by_css_selector('p')\n",
      "/var/folders/_l/3r37kqhd699__pxb_zz12_940000gn/T/ipykernel_74907/4158101562.py:22: DeprecationWarning: find_elements_by_* commands are deprecated. Please use find_elements() instead\n",
      "  div=detail_driver.find_elements_by_css_selector('p')\n",
      "/var/folders/_l/3r37kqhd699__pxb_zz12_940000gn/T/ipykernel_74907/4158101562.py:22: DeprecationWarning: find_elements_by_* commands are deprecated. Please use find_elements() instead\n",
      "  div=detail_driver.find_elements_by_css_selector('p')\n",
      "/Users/uenoshouko/workspace/pj_ikechi/ikechi/lib/python3.9/site-packages/selenium/webdriver/remote/webelement.py:483: UserWarning: find_element_by_* commands are deprecated. Please use find_element() instead\n",
      "  warnings.warn(\"find_element_by_* commands are deprecated. Please use find_element() instead\")\n",
      "/var/folders/_l/3r37kqhd699__pxb_zz12_940000gn/T/ipykernel_74907/4158101562.py:22: DeprecationWarning: find_elements_by_* commands are deprecated. Please use find_elements() instead\n",
      "  div=detail_driver.find_elements_by_css_selector('p')\n",
      "/var/folders/_l/3r37kqhd699__pxb_zz12_940000gn/T/ipykernel_74907/4158101562.py:22: DeprecationWarning: find_elements_by_* commands are deprecated. Please use find_elements() instead\n",
      "  div=detail_driver.find_elements_by_css_selector('p')\n",
      "/var/folders/_l/3r37kqhd699__pxb_zz12_940000gn/T/ipykernel_74907/4158101562.py:22: DeprecationWarning: find_elements_by_* commands are deprecated. Please use find_elements() instead\n",
      "  div=detail_driver.find_elements_by_css_selector('p')\n",
      "/var/folders/_l/3r37kqhd699__pxb_zz12_940000gn/T/ipykernel_74907/4158101562.py:22: DeprecationWarning: find_elements_by_* commands are deprecated. Please use find_elements() instead\n",
      "  div=detail_driver.find_elements_by_css_selector('p')\n",
      "/var/folders/_l/3r37kqhd699__pxb_zz12_940000gn/T/ipykernel_74907/4158101562.py:22: DeprecationWarning: find_elements_by_* commands are deprecated. Please use find_elements() instead\n",
      "  div=detail_driver.find_elements_by_css_selector('p')\n",
      "/var/folders/_l/3r37kqhd699__pxb_zz12_940000gn/T/ipykernel_74907/4158101562.py:22: DeprecationWarning: find_elements_by_* commands are deprecated. Please use find_elements() instead\n",
      "  div=detail_driver.find_elements_by_css_selector('p')\n",
      "/var/folders/_l/3r37kqhd699__pxb_zz12_940000gn/T/ipykernel_74907/4158101562.py:22: DeprecationWarning: find_elements_by_* commands are deprecated. Please use find_elements() instead\n",
      "  div=detail_driver.find_elements_by_css_selector('p')\n",
      "/var/folders/_l/3r37kqhd699__pxb_zz12_940000gn/T/ipykernel_74907/4158101562.py:22: DeprecationWarning: find_elements_by_* commands are deprecated. Please use find_elements() instead\n",
      "  div=detail_driver.find_elements_by_css_selector('p')\n",
      "/var/folders/_l/3r37kqhd699__pxb_zz12_940000gn/T/ipykernel_74907/4158101562.py:22: DeprecationWarning: find_elements_by_* commands are deprecated. Please use find_elements() instead\n",
      "  div=detail_driver.find_elements_by_css_selector('p')\n",
      "/var/folders/_l/3r37kqhd699__pxb_zz12_940000gn/T/ipykernel_74907/4158101562.py:22: DeprecationWarning: find_elements_by_* commands are deprecated. Please use find_elements() instead\n",
      "  div=detail_driver.find_elements_by_css_selector('p')\n",
      "/Users/uenoshouko/workspace/pj_ikechi/ikechi/lib/python3.9/site-packages/selenium/webdriver/remote/webelement.py:483: UserWarning: find_element_by_* commands are deprecated. Please use find_element() instead\n",
      "  warnings.warn(\"find_element_by_* commands are deprecated. Please use find_element() instead\")\n",
      "/var/folders/_l/3r37kqhd699__pxb_zz12_940000gn/T/ipykernel_74907/4158101562.py:22: DeprecationWarning: find_elements_by_* commands are deprecated. Please use find_elements() instead\n",
      "  div=detail_driver.find_elements_by_css_selector('p')\n",
      "/var/folders/_l/3r37kqhd699__pxb_zz12_940000gn/T/ipykernel_74907/4158101562.py:22: DeprecationWarning: find_elements_by_* commands are deprecated. Please use find_elements() instead\n",
      "  div=detail_driver.find_elements_by_css_selector('p')\n"
     ]
    },
    {
     "name": "stderr",
     "output_type": "stream",
     "text": [
      "/var/folders/_l/3r37kqhd699__pxb_zz12_940000gn/T/ipykernel_74907/4158101562.py:22: DeprecationWarning: find_elements_by_* commands are deprecated. Please use find_elements() instead\n",
      "  div=detail_driver.find_elements_by_css_selector('p')\n",
      "/var/folders/_l/3r37kqhd699__pxb_zz12_940000gn/T/ipykernel_74907/4158101562.py:22: DeprecationWarning: find_elements_by_* commands are deprecated. Please use find_elements() instead\n",
      "  div=detail_driver.find_elements_by_css_selector('p')\n",
      "/var/folders/_l/3r37kqhd699__pxb_zz12_940000gn/T/ipykernel_74907/4158101562.py:22: DeprecationWarning: find_elements_by_* commands are deprecated. Please use find_elements() instead\n",
      "  div=detail_driver.find_elements_by_css_selector('p')\n",
      "/var/folders/_l/3r37kqhd699__pxb_zz12_940000gn/T/ipykernel_74907/4158101562.py:22: DeprecationWarning: find_elements_by_* commands are deprecated. Please use find_elements() instead\n",
      "  div=detail_driver.find_elements_by_css_selector('p')\n",
      "/var/folders/_l/3r37kqhd699__pxb_zz12_940000gn/T/ipykernel_74907/4158101562.py:22: DeprecationWarning: find_elements_by_* commands are deprecated. Please use find_elements() instead\n",
      "  div=detail_driver.find_elements_by_css_selector('p')\n",
      "/var/folders/_l/3r37kqhd699__pxb_zz12_940000gn/T/ipykernel_74907/4158101562.py:22: DeprecationWarning: find_elements_by_* commands are deprecated. Please use find_elements() instead\n",
      "  div=detail_driver.find_elements_by_css_selector('p')\n",
      "/var/folders/_l/3r37kqhd699__pxb_zz12_940000gn/T/ipykernel_74907/4158101562.py:22: DeprecationWarning: find_elements_by_* commands are deprecated. Please use find_elements() instead\n",
      "  div=detail_driver.find_elements_by_css_selector('p')\n",
      "/var/folders/_l/3r37kqhd699__pxb_zz12_940000gn/T/ipykernel_74907/4158101562.py:22: DeprecationWarning: find_elements_by_* commands are deprecated. Please use find_elements() instead\n",
      "  div=detail_driver.find_elements_by_css_selector('p')\n",
      "/var/folders/_l/3r37kqhd699__pxb_zz12_940000gn/T/ipykernel_74907/4158101562.py:22: DeprecationWarning: find_elements_by_* commands are deprecated. Please use find_elements() instead\n",
      "  div=detail_driver.find_elements_by_css_selector('p')\n",
      "/Users/uenoshouko/workspace/pj_ikechi/ikechi/lib/python3.9/site-packages/selenium/webdriver/remote/webelement.py:483: UserWarning: find_element_by_* commands are deprecated. Please use find_element() instead\n",
      "  warnings.warn(\"find_element_by_* commands are deprecated. Please use find_element() instead\")\n",
      "/var/folders/_l/3r37kqhd699__pxb_zz12_940000gn/T/ipykernel_74907/4158101562.py:22: DeprecationWarning: find_elements_by_* commands are deprecated. Please use find_elements() instead\n",
      "  div=detail_driver.find_elements_by_css_selector('p')\n",
      "/var/folders/_l/3r37kqhd699__pxb_zz12_940000gn/T/ipykernel_74907/4158101562.py:22: DeprecationWarning: find_elements_by_* commands are deprecated. Please use find_elements() instead\n",
      "  div=detail_driver.find_elements_by_css_selector('p')\n",
      "/var/folders/_l/3r37kqhd699__pxb_zz12_940000gn/T/ipykernel_74907/4158101562.py:22: DeprecationWarning: find_elements_by_* commands are deprecated. Please use find_elements() instead\n",
      "  div=detail_driver.find_elements_by_css_selector('p')\n",
      "/var/folders/_l/3r37kqhd699__pxb_zz12_940000gn/T/ipykernel_74907/4158101562.py:22: DeprecationWarning: find_elements_by_* commands are deprecated. Please use find_elements() instead\n",
      "  div=detail_driver.find_elements_by_css_selector('p')\n",
      "/var/folders/_l/3r37kqhd699__pxb_zz12_940000gn/T/ipykernel_74907/4158101562.py:22: DeprecationWarning: find_elements_by_* commands are deprecated. Please use find_elements() instead\n",
      "  div=detail_driver.find_elements_by_css_selector('p')\n",
      "/var/folders/_l/3r37kqhd699__pxb_zz12_940000gn/T/ipykernel_74907/4158101562.py:22: DeprecationWarning: find_elements_by_* commands are deprecated. Please use find_elements() instead\n",
      "  div=detail_driver.find_elements_by_css_selector('p')\n",
      "/var/folders/_l/3r37kqhd699__pxb_zz12_940000gn/T/ipykernel_74907/4158101562.py:22: DeprecationWarning: find_elements_by_* commands are deprecated. Please use find_elements() instead\n",
      "  div=detail_driver.find_elements_by_css_selector('p')\n",
      "/var/folders/_l/3r37kqhd699__pxb_zz12_940000gn/T/ipykernel_74907/4158101562.py:22: DeprecationWarning: find_elements_by_* commands are deprecated. Please use find_elements() instead\n",
      "  div=detail_driver.find_elements_by_css_selector('p')\n",
      "/var/folders/_l/3r37kqhd699__pxb_zz12_940000gn/T/ipykernel_74907/4158101562.py:22: DeprecationWarning: find_elements_by_* commands are deprecated. Please use find_elements() instead\n",
      "  div=detail_driver.find_elements_by_css_selector('p')\n",
      "/var/folders/_l/3r37kqhd699__pxb_zz12_940000gn/T/ipykernel_74907/4158101562.py:22: DeprecationWarning: find_elements_by_* commands are deprecated. Please use find_elements() instead\n",
      "  div=detail_driver.find_elements_by_css_selector('p')\n",
      "/var/folders/_l/3r37kqhd699__pxb_zz12_940000gn/T/ipykernel_74907/4158101562.py:22: DeprecationWarning: find_elements_by_* commands are deprecated. Please use find_elements() instead\n",
      "  div=detail_driver.find_elements_by_css_selector('p')\n",
      "/var/folders/_l/3r37kqhd699__pxb_zz12_940000gn/T/ipykernel_74907/4158101562.py:22: DeprecationWarning: find_elements_by_* commands are deprecated. Please use find_elements() instead\n",
      "  div=detail_driver.find_elements_by_css_selector('p')\n",
      "/Users/uenoshouko/workspace/pj_ikechi/ikechi/lib/python3.9/site-packages/selenium/webdriver/remote/webelement.py:483: UserWarning: find_element_by_* commands are deprecated. Please use find_element() instead\n",
      "  warnings.warn(\"find_element_by_* commands are deprecated. Please use find_element() instead\")\n",
      "/var/folders/_l/3r37kqhd699__pxb_zz12_940000gn/T/ipykernel_74907/4158101562.py:22: DeprecationWarning: find_elements_by_* commands are deprecated. Please use find_elements() instead\n",
      "  div=detail_driver.find_elements_by_css_selector('p')\n",
      "/var/folders/_l/3r37kqhd699__pxb_zz12_940000gn/T/ipykernel_74907/4158101562.py:22: DeprecationWarning: find_elements_by_* commands are deprecated. Please use find_elements() instead\n",
      "  div=detail_driver.find_elements_by_css_selector('p')\n",
      "/var/folders/_l/3r37kqhd699__pxb_zz12_940000gn/T/ipykernel_74907/4158101562.py:22: DeprecationWarning: find_elements_by_* commands are deprecated. Please use find_elements() instead\n",
      "  div=detail_driver.find_elements_by_css_selector('p')\n",
      "/var/folders/_l/3r37kqhd699__pxb_zz12_940000gn/T/ipykernel_74907/4158101562.py:22: DeprecationWarning: find_elements_by_* commands are deprecated. Please use find_elements() instead\n",
      "  div=detail_driver.find_elements_by_css_selector('p')\n",
      "/var/folders/_l/3r37kqhd699__pxb_zz12_940000gn/T/ipykernel_74907/4158101562.py:22: DeprecationWarning: find_elements_by_* commands are deprecated. Please use find_elements() instead\n",
      "  div=detail_driver.find_elements_by_css_selector('p')\n",
      "/var/folders/_l/3r37kqhd699__pxb_zz12_940000gn/T/ipykernel_74907/4158101562.py:22: DeprecationWarning: find_elements_by_* commands are deprecated. Please use find_elements() instead\n",
      "  div=detail_driver.find_elements_by_css_selector('p')\n",
      "/var/folders/_l/3r37kqhd699__pxb_zz12_940000gn/T/ipykernel_74907/4158101562.py:22: DeprecationWarning: find_elements_by_* commands are deprecated. Please use find_elements() instead\n",
      "  div=detail_driver.find_elements_by_css_selector('p')\n",
      "/var/folders/_l/3r37kqhd699__pxb_zz12_940000gn/T/ipykernel_74907/4158101562.py:22: DeprecationWarning: find_elements_by_* commands are deprecated. Please use find_elements() instead\n",
      "  div=detail_driver.find_elements_by_css_selector('p')\n",
      "/var/folders/_l/3r37kqhd699__pxb_zz12_940000gn/T/ipykernel_74907/4158101562.py:22: DeprecationWarning: find_elements_by_* commands are deprecated. Please use find_elements() instead\n",
      "  div=detail_driver.find_elements_by_css_selector('p')\n",
      "/var/folders/_l/3r37kqhd699__pxb_zz12_940000gn/T/ipykernel_74907/4158101562.py:22: DeprecationWarning: find_elements_by_* commands are deprecated. Please use find_elements() instead\n",
      "  div=detail_driver.find_elements_by_css_selector('p')\n",
      "/var/folders/_l/3r37kqhd699__pxb_zz12_940000gn/T/ipykernel_74907/4158101562.py:22: DeprecationWarning: find_elements_by_* commands are deprecated. Please use find_elements() instead\n",
      "  div=detail_driver.find_elements_by_css_selector('p')\n",
      "/var/folders/_l/3r37kqhd699__pxb_zz12_940000gn/T/ipykernel_74907/4158101562.py:22: DeprecationWarning: find_elements_by_* commands are deprecated. Please use find_elements() instead\n",
      "  div=detail_driver.find_elements_by_css_selector('p')\n"
     ]
    },
    {
     "name": "stderr",
     "output_type": "stream",
     "text": [
      "/var/folders/_l/3r37kqhd699__pxb_zz12_940000gn/T/ipykernel_74907/4158101562.py:22: DeprecationWarning: find_elements_by_* commands are deprecated. Please use find_elements() instead\n",
      "  div=detail_driver.find_elements_by_css_selector('p')\n",
      "/Users/uenoshouko/workspace/pj_ikechi/ikechi/lib/python3.9/site-packages/selenium/webdriver/remote/webelement.py:483: UserWarning: find_element_by_* commands are deprecated. Please use find_element() instead\n",
      "  warnings.warn(\"find_element_by_* commands are deprecated. Please use find_element() instead\")\n",
      "/var/folders/_l/3r37kqhd699__pxb_zz12_940000gn/T/ipykernel_74907/4158101562.py:22: DeprecationWarning: find_elements_by_* commands are deprecated. Please use find_elements() instead\n",
      "  div=detail_driver.find_elements_by_css_selector('p')\n",
      "/var/folders/_l/3r37kqhd699__pxb_zz12_940000gn/T/ipykernel_74907/4158101562.py:22: DeprecationWarning: find_elements_by_* commands are deprecated. Please use find_elements() instead\n",
      "  div=detail_driver.find_elements_by_css_selector('p')\n",
      "/var/folders/_l/3r37kqhd699__pxb_zz12_940000gn/T/ipykernel_74907/4158101562.py:22: DeprecationWarning: find_elements_by_* commands are deprecated. Please use find_elements() instead\n",
      "  div=detail_driver.find_elements_by_css_selector('p')\n",
      "/var/folders/_l/3r37kqhd699__pxb_zz12_940000gn/T/ipykernel_74907/4158101562.py:22: DeprecationWarning: find_elements_by_* commands are deprecated. Please use find_elements() instead\n",
      "  div=detail_driver.find_elements_by_css_selector('p')\n",
      "/var/folders/_l/3r37kqhd699__pxb_zz12_940000gn/T/ipykernel_74907/4158101562.py:22: DeprecationWarning: find_elements_by_* commands are deprecated. Please use find_elements() instead\n",
      "  div=detail_driver.find_elements_by_css_selector('p')\n",
      "/var/folders/_l/3r37kqhd699__pxb_zz12_940000gn/T/ipykernel_74907/4158101562.py:22: DeprecationWarning: find_elements_by_* commands are deprecated. Please use find_elements() instead\n",
      "  div=detail_driver.find_elements_by_css_selector('p')\n",
      "/var/folders/_l/3r37kqhd699__pxb_zz12_940000gn/T/ipykernel_74907/4158101562.py:22: DeprecationWarning: find_elements_by_* commands are deprecated. Please use find_elements() instead\n",
      "  div=detail_driver.find_elements_by_css_selector('p')\n",
      "/var/folders/_l/3r37kqhd699__pxb_zz12_940000gn/T/ipykernel_74907/4158101562.py:22: DeprecationWarning: find_elements_by_* commands are deprecated. Please use find_elements() instead\n",
      "  div=detail_driver.find_elements_by_css_selector('p')\n",
      "/var/folders/_l/3r37kqhd699__pxb_zz12_940000gn/T/ipykernel_74907/4158101562.py:22: DeprecationWarning: find_elements_by_* commands are deprecated. Please use find_elements() instead\n",
      "  div=detail_driver.find_elements_by_css_selector('p')\n",
      "/var/folders/_l/3r37kqhd699__pxb_zz12_940000gn/T/ipykernel_74907/4158101562.py:22: DeprecationWarning: find_elements_by_* commands are deprecated. Please use find_elements() instead\n",
      "  div=detail_driver.find_elements_by_css_selector('p')\n",
      "/var/folders/_l/3r37kqhd699__pxb_zz12_940000gn/T/ipykernel_74907/4158101562.py:22: DeprecationWarning: find_elements_by_* commands are deprecated. Please use find_elements() instead\n",
      "  div=detail_driver.find_elements_by_css_selector('p')\n",
      "/var/folders/_l/3r37kqhd699__pxb_zz12_940000gn/T/ipykernel_74907/4158101562.py:22: DeprecationWarning: find_elements_by_* commands are deprecated. Please use find_elements() instead\n",
      "  div=detail_driver.find_elements_by_css_selector('p')\n",
      "/var/folders/_l/3r37kqhd699__pxb_zz12_940000gn/T/ipykernel_74907/4158101562.py:22: DeprecationWarning: find_elements_by_* commands are deprecated. Please use find_elements() instead\n",
      "  div=detail_driver.find_elements_by_css_selector('p')\n",
      "/var/folders/_l/3r37kqhd699__pxb_zz12_940000gn/T/ipykernel_74907/4158101562.py:22: DeprecationWarning: find_elements_by_* commands are deprecated. Please use find_elements() instead\n",
      "  div=detail_driver.find_elements_by_css_selector('p')\n",
      "/Users/uenoshouko/workspace/pj_ikechi/ikechi/lib/python3.9/site-packages/selenium/webdriver/remote/webelement.py:483: UserWarning: find_element_by_* commands are deprecated. Please use find_element() instead\n",
      "  warnings.warn(\"find_element_by_* commands are deprecated. Please use find_element() instead\")\n",
      "/var/folders/_l/3r37kqhd699__pxb_zz12_940000gn/T/ipykernel_74907/4158101562.py:22: DeprecationWarning: find_elements_by_* commands are deprecated. Please use find_elements() instead\n",
      "  div=detail_driver.find_elements_by_css_selector('p')\n",
      "/var/folders/_l/3r37kqhd699__pxb_zz12_940000gn/T/ipykernel_74907/4158101562.py:22: DeprecationWarning: find_elements_by_* commands are deprecated. Please use find_elements() instead\n",
      "  div=detail_driver.find_elements_by_css_selector('p')\n",
      "/var/folders/_l/3r37kqhd699__pxb_zz12_940000gn/T/ipykernel_74907/4158101562.py:22: DeprecationWarning: find_elements_by_* commands are deprecated. Please use find_elements() instead\n",
      "  div=detail_driver.find_elements_by_css_selector('p')\n",
      "/var/folders/_l/3r37kqhd699__pxb_zz12_940000gn/T/ipykernel_74907/4158101562.py:22: DeprecationWarning: find_elements_by_* commands are deprecated. Please use find_elements() instead\n",
      "  div=detail_driver.find_elements_by_css_selector('p')\n",
      "/var/folders/_l/3r37kqhd699__pxb_zz12_940000gn/T/ipykernel_74907/4158101562.py:22: DeprecationWarning: find_elements_by_* commands are deprecated. Please use find_elements() instead\n",
      "  div=detail_driver.find_elements_by_css_selector('p')\n",
      "/var/folders/_l/3r37kqhd699__pxb_zz12_940000gn/T/ipykernel_74907/4158101562.py:22: DeprecationWarning: find_elements_by_* commands are deprecated. Please use find_elements() instead\n",
      "  div=detail_driver.find_elements_by_css_selector('p')\n",
      "/var/folders/_l/3r37kqhd699__pxb_zz12_940000gn/T/ipykernel_74907/4158101562.py:22: DeprecationWarning: find_elements_by_* commands are deprecated. Please use find_elements() instead\n",
      "  div=detail_driver.find_elements_by_css_selector('p')\n",
      "/var/folders/_l/3r37kqhd699__pxb_zz12_940000gn/T/ipykernel_74907/4158101562.py:22: DeprecationWarning: find_elements_by_* commands are deprecated. Please use find_elements() instead\n",
      "  div=detail_driver.find_elements_by_css_selector('p')\n",
      "/var/folders/_l/3r37kqhd699__pxb_zz12_940000gn/T/ipykernel_74907/4158101562.py:22: DeprecationWarning: find_elements_by_* commands are deprecated. Please use find_elements() instead\n",
      "  div=detail_driver.find_elements_by_css_selector('p')\n",
      "/var/folders/_l/3r37kqhd699__pxb_zz12_940000gn/T/ipykernel_74907/4158101562.py:22: DeprecationWarning: find_elements_by_* commands are deprecated. Please use find_elements() instead\n",
      "  div=detail_driver.find_elements_by_css_selector('p')\n",
      "/var/folders/_l/3r37kqhd699__pxb_zz12_940000gn/T/ipykernel_74907/4158101562.py:22: DeprecationWarning: find_elements_by_* commands are deprecated. Please use find_elements() instead\n",
      "  div=detail_driver.find_elements_by_css_selector('p')\n",
      "/var/folders/_l/3r37kqhd699__pxb_zz12_940000gn/T/ipykernel_74907/4158101562.py:22: DeprecationWarning: find_elements_by_* commands are deprecated. Please use find_elements() instead\n",
      "  div=detail_driver.find_elements_by_css_selector('p')\n",
      "/var/folders/_l/3r37kqhd699__pxb_zz12_940000gn/T/ipykernel_74907/4158101562.py:22: DeprecationWarning: find_elements_by_* commands are deprecated. Please use find_elements() instead\n",
      "  div=detail_driver.find_elements_by_css_selector('p')\n",
      "/var/folders/_l/3r37kqhd699__pxb_zz12_940000gn/T/ipykernel_74907/4158101562.py:22: DeprecationWarning: find_elements_by_* commands are deprecated. Please use find_elements() instead\n",
      "  div=detail_driver.find_elements_by_css_selector('p')\n",
      "/var/folders/_l/3r37kqhd699__pxb_zz12_940000gn/T/ipykernel_74907/4158101562.py:22: DeprecationWarning: find_elements_by_* commands are deprecated. Please use find_elements() instead\n",
      "  div=detail_driver.find_elements_by_css_selector('p')\n",
      "/Users/uenoshouko/workspace/pj_ikechi/ikechi/lib/python3.9/site-packages/selenium/webdriver/remote/webelement.py:483: UserWarning: find_element_by_* commands are deprecated. Please use find_element() instead\n",
      "  warnings.warn(\"find_element_by_* commands are deprecated. Please use find_element() instead\")\n",
      "/var/folders/_l/3r37kqhd699__pxb_zz12_940000gn/T/ipykernel_74907/4158101562.py:22: DeprecationWarning: find_elements_by_* commands are deprecated. Please use find_elements() instead\n",
      "  div=detail_driver.find_elements_by_css_selector('p')\n"
     ]
    },
    {
     "name": "stderr",
     "output_type": "stream",
     "text": [
      "/var/folders/_l/3r37kqhd699__pxb_zz12_940000gn/T/ipykernel_74907/4158101562.py:22: DeprecationWarning: find_elements_by_* commands are deprecated. Please use find_elements() instead\n",
      "  div=detail_driver.find_elements_by_css_selector('p')\n",
      "/var/folders/_l/3r37kqhd699__pxb_zz12_940000gn/T/ipykernel_74907/4158101562.py:22: DeprecationWarning: find_elements_by_* commands are deprecated. Please use find_elements() instead\n",
      "  div=detail_driver.find_elements_by_css_selector('p')\n",
      "/var/folders/_l/3r37kqhd699__pxb_zz12_940000gn/T/ipykernel_74907/4158101562.py:22: DeprecationWarning: find_elements_by_* commands are deprecated. Please use find_elements() instead\n",
      "  div=detail_driver.find_elements_by_css_selector('p')\n",
      "/var/folders/_l/3r37kqhd699__pxb_zz12_940000gn/T/ipykernel_74907/4158101562.py:22: DeprecationWarning: find_elements_by_* commands are deprecated. Please use find_elements() instead\n",
      "  div=detail_driver.find_elements_by_css_selector('p')\n",
      "/var/folders/_l/3r37kqhd699__pxb_zz12_940000gn/T/ipykernel_74907/4158101562.py:22: DeprecationWarning: find_elements_by_* commands are deprecated. Please use find_elements() instead\n",
      "  div=detail_driver.find_elements_by_css_selector('p')\n",
      "/var/folders/_l/3r37kqhd699__pxb_zz12_940000gn/T/ipykernel_74907/4158101562.py:22: DeprecationWarning: find_elements_by_* commands are deprecated. Please use find_elements() instead\n",
      "  div=detail_driver.find_elements_by_css_selector('p')\n",
      "/var/folders/_l/3r37kqhd699__pxb_zz12_940000gn/T/ipykernel_74907/4158101562.py:22: DeprecationWarning: find_elements_by_* commands are deprecated. Please use find_elements() instead\n",
      "  div=detail_driver.find_elements_by_css_selector('p')\n",
      "/var/folders/_l/3r37kqhd699__pxb_zz12_940000gn/T/ipykernel_74907/4158101562.py:22: DeprecationWarning: find_elements_by_* commands are deprecated. Please use find_elements() instead\n",
      "  div=detail_driver.find_elements_by_css_selector('p')\n",
      "/var/folders/_l/3r37kqhd699__pxb_zz12_940000gn/T/ipykernel_74907/4158101562.py:22: DeprecationWarning: find_elements_by_* commands are deprecated. Please use find_elements() instead\n",
      "  div=detail_driver.find_elements_by_css_selector('p')\n",
      "/var/folders/_l/3r37kqhd699__pxb_zz12_940000gn/T/ipykernel_74907/4158101562.py:22: DeprecationWarning: find_elements_by_* commands are deprecated. Please use find_elements() instead\n",
      "  div=detail_driver.find_elements_by_css_selector('p')\n",
      "/var/folders/_l/3r37kqhd699__pxb_zz12_940000gn/T/ipykernel_74907/4158101562.py:22: DeprecationWarning: find_elements_by_* commands are deprecated. Please use find_elements() instead\n",
      "  div=detail_driver.find_elements_by_css_selector('p')\n",
      "/var/folders/_l/3r37kqhd699__pxb_zz12_940000gn/T/ipykernel_74907/4158101562.py:22: DeprecationWarning: find_elements_by_* commands are deprecated. Please use find_elements() instead\n",
      "  div=detail_driver.find_elements_by_css_selector('p')\n",
      "/var/folders/_l/3r37kqhd699__pxb_zz12_940000gn/T/ipykernel_74907/4158101562.py:22: DeprecationWarning: find_elements_by_* commands are deprecated. Please use find_elements() instead\n",
      "  div=detail_driver.find_elements_by_css_selector('p')\n",
      "/var/folders/_l/3r37kqhd699__pxb_zz12_940000gn/T/ipykernel_74907/4158101562.py:22: DeprecationWarning: find_elements_by_* commands are deprecated. Please use find_elements() instead\n",
      "  div=detail_driver.find_elements_by_css_selector('p')\n",
      "/var/folders/_l/3r37kqhd699__pxb_zz12_940000gn/T/ipykernel_74907/4158101562.py:22: DeprecationWarning: find_elements_by_* commands are deprecated. Please use find_elements() instead\n",
      "  div=detail_driver.find_elements_by_css_selector('p')\n",
      "/Users/uenoshouko/workspace/pj_ikechi/ikechi/lib/python3.9/site-packages/selenium/webdriver/remote/webelement.py:483: UserWarning: find_element_by_* commands are deprecated. Please use find_element() instead\n",
      "  warnings.warn(\"find_element_by_* commands are deprecated. Please use find_element() instead\")\n",
      "/var/folders/_l/3r37kqhd699__pxb_zz12_940000gn/T/ipykernel_74907/4158101562.py:22: DeprecationWarning: find_elements_by_* commands are deprecated. Please use find_elements() instead\n",
      "  div=detail_driver.find_elements_by_css_selector('p')\n",
      "/var/folders/_l/3r37kqhd699__pxb_zz12_940000gn/T/ipykernel_74907/4158101562.py:22: DeprecationWarning: find_elements_by_* commands are deprecated. Please use find_elements() instead\n",
      "  div=detail_driver.find_elements_by_css_selector('p')\n",
      "/var/folders/_l/3r37kqhd699__pxb_zz12_940000gn/T/ipykernel_74907/4158101562.py:22: DeprecationWarning: find_elements_by_* commands are deprecated. Please use find_elements() instead\n",
      "  div=detail_driver.find_elements_by_css_selector('p')\n",
      "/var/folders/_l/3r37kqhd699__pxb_zz12_940000gn/T/ipykernel_74907/4158101562.py:22: DeprecationWarning: find_elements_by_* commands are deprecated. Please use find_elements() instead\n",
      "  div=detail_driver.find_elements_by_css_selector('p')\n",
      "/var/folders/_l/3r37kqhd699__pxb_zz12_940000gn/T/ipykernel_74907/4158101562.py:22: DeprecationWarning: find_elements_by_* commands are deprecated. Please use find_elements() instead\n",
      "  div=detail_driver.find_elements_by_css_selector('p')\n",
      "/var/folders/_l/3r37kqhd699__pxb_zz12_940000gn/T/ipykernel_74907/4158101562.py:22: DeprecationWarning: find_elements_by_* commands are deprecated. Please use find_elements() instead\n",
      "  div=detail_driver.find_elements_by_css_selector('p')\n",
      "/var/folders/_l/3r37kqhd699__pxb_zz12_940000gn/T/ipykernel_74907/4158101562.py:22: DeprecationWarning: find_elements_by_* commands are deprecated. Please use find_elements() instead\n",
      "  div=detail_driver.find_elements_by_css_selector('p')\n",
      "/var/folders/_l/3r37kqhd699__pxb_zz12_940000gn/T/ipykernel_74907/4158101562.py:22: DeprecationWarning: find_elements_by_* commands are deprecated. Please use find_elements() instead\n",
      "  div=detail_driver.find_elements_by_css_selector('p')\n",
      "/var/folders/_l/3r37kqhd699__pxb_zz12_940000gn/T/ipykernel_74907/4158101562.py:22: DeprecationWarning: find_elements_by_* commands are deprecated. Please use find_elements() instead\n",
      "  div=detail_driver.find_elements_by_css_selector('p')\n",
      "/var/folders/_l/3r37kqhd699__pxb_zz12_940000gn/T/ipykernel_74907/4158101562.py:22: DeprecationWarning: find_elements_by_* commands are deprecated. Please use find_elements() instead\n",
      "  div=detail_driver.find_elements_by_css_selector('p')\n",
      "/var/folders/_l/3r37kqhd699__pxb_zz12_940000gn/T/ipykernel_74907/4158101562.py:22: DeprecationWarning: find_elements_by_* commands are deprecated. Please use find_elements() instead\n",
      "  div=detail_driver.find_elements_by_css_selector('p')\n",
      "/var/folders/_l/3r37kqhd699__pxb_zz12_940000gn/T/ipykernel_74907/4158101562.py:22: DeprecationWarning: find_elements_by_* commands are deprecated. Please use find_elements() instead\n",
      "  div=detail_driver.find_elements_by_css_selector('p')\n",
      "/var/folders/_l/3r37kqhd699__pxb_zz12_940000gn/T/ipykernel_74907/4158101562.py:22: DeprecationWarning: find_elements_by_* commands are deprecated. Please use find_elements() instead\n",
      "  div=detail_driver.find_elements_by_css_selector('p')\n",
      "/var/folders/_l/3r37kqhd699__pxb_zz12_940000gn/T/ipykernel_74907/4158101562.py:22: DeprecationWarning: find_elements_by_* commands are deprecated. Please use find_elements() instead\n",
      "  div=detail_driver.find_elements_by_css_selector('p')\n",
      "/var/folders/_l/3r37kqhd699__pxb_zz12_940000gn/T/ipykernel_74907/4158101562.py:22: DeprecationWarning: find_elements_by_* commands are deprecated. Please use find_elements() instead\n",
      "  div=detail_driver.find_elements_by_css_selector('p')\n",
      "/var/folders/_l/3r37kqhd699__pxb_zz12_940000gn/T/ipykernel_74907/4158101562.py:22: DeprecationWarning: find_elements_by_* commands are deprecated. Please use find_elements() instead\n",
      "  div=detail_driver.find_elements_by_css_selector('p')\n",
      "/var/folders/_l/3r37kqhd699__pxb_zz12_940000gn/T/ipykernel_74907/4158101562.py:22: DeprecationWarning: find_elements_by_* commands are deprecated. Please use find_elements() instead\n",
      "  div=detail_driver.find_elements_by_css_selector('p')\n",
      "/Users/uenoshouko/workspace/pj_ikechi/ikechi/lib/python3.9/site-packages/selenium/webdriver/remote/webelement.py:483: UserWarning: find_element_by_* commands are deprecated. Please use find_element() instead\n",
      "  warnings.warn(\"find_element_by_* commands are deprecated. Please use find_element() instead\")\n",
      "/var/folders/_l/3r37kqhd699__pxb_zz12_940000gn/T/ipykernel_74907/4158101562.py:22: DeprecationWarning: find_elements_by_* commands are deprecated. Please use find_elements() instead\n",
      "  div=detail_driver.find_elements_by_css_selector('p')\n"
     ]
    },
    {
     "name": "stderr",
     "output_type": "stream",
     "text": [
      "/var/folders/_l/3r37kqhd699__pxb_zz12_940000gn/T/ipykernel_74907/4158101562.py:22: DeprecationWarning: find_elements_by_* commands are deprecated. Please use find_elements() instead\n",
      "  div=detail_driver.find_elements_by_css_selector('p')\n",
      "/var/folders/_l/3r37kqhd699__pxb_zz12_940000gn/T/ipykernel_74907/4158101562.py:22: DeprecationWarning: find_elements_by_* commands are deprecated. Please use find_elements() instead\n",
      "  div=detail_driver.find_elements_by_css_selector('p')\n",
      "/var/folders/_l/3r37kqhd699__pxb_zz12_940000gn/T/ipykernel_74907/4158101562.py:22: DeprecationWarning: find_elements_by_* commands are deprecated. Please use find_elements() instead\n",
      "  div=detail_driver.find_elements_by_css_selector('p')\n",
      "/var/folders/_l/3r37kqhd699__pxb_zz12_940000gn/T/ipykernel_74907/4158101562.py:22: DeprecationWarning: find_elements_by_* commands are deprecated. Please use find_elements() instead\n",
      "  div=detail_driver.find_elements_by_css_selector('p')\n",
      "/var/folders/_l/3r37kqhd699__pxb_zz12_940000gn/T/ipykernel_74907/4158101562.py:22: DeprecationWarning: find_elements_by_* commands are deprecated. Please use find_elements() instead\n",
      "  div=detail_driver.find_elements_by_css_selector('p')\n",
      "/var/folders/_l/3r37kqhd699__pxb_zz12_940000gn/T/ipykernel_74907/4158101562.py:22: DeprecationWarning: find_elements_by_* commands are deprecated. Please use find_elements() instead\n",
      "  div=detail_driver.find_elements_by_css_selector('p')\n",
      "/var/folders/_l/3r37kqhd699__pxb_zz12_940000gn/T/ipykernel_74907/4158101562.py:22: DeprecationWarning: find_elements_by_* commands are deprecated. Please use find_elements() instead\n",
      "  div=detail_driver.find_elements_by_css_selector('p')\n",
      "/var/folders/_l/3r37kqhd699__pxb_zz12_940000gn/T/ipykernel_74907/4158101562.py:22: DeprecationWarning: find_elements_by_* commands are deprecated. Please use find_elements() instead\n",
      "  div=detail_driver.find_elements_by_css_selector('p')\n",
      "/var/folders/_l/3r37kqhd699__pxb_zz12_940000gn/T/ipykernel_74907/4158101562.py:22: DeprecationWarning: find_elements_by_* commands are deprecated. Please use find_elements() instead\n",
      "  div=detail_driver.find_elements_by_css_selector('p')\n",
      "/var/folders/_l/3r37kqhd699__pxb_zz12_940000gn/T/ipykernel_74907/4158101562.py:22: DeprecationWarning: find_elements_by_* commands are deprecated. Please use find_elements() instead\n",
      "  div=detail_driver.find_elements_by_css_selector('p')\n",
      "/var/folders/_l/3r37kqhd699__pxb_zz12_940000gn/T/ipykernel_74907/4158101562.py:22: DeprecationWarning: find_elements_by_* commands are deprecated. Please use find_elements() instead\n",
      "  div=detail_driver.find_elements_by_css_selector('p')\n",
      "/var/folders/_l/3r37kqhd699__pxb_zz12_940000gn/T/ipykernel_74907/4158101562.py:22: DeprecationWarning: find_elements_by_* commands are deprecated. Please use find_elements() instead\n",
      "  div=detail_driver.find_elements_by_css_selector('p')\n",
      "/var/folders/_l/3r37kqhd699__pxb_zz12_940000gn/T/ipykernel_74907/4158101562.py:22: DeprecationWarning: find_elements_by_* commands are deprecated. Please use find_elements() instead\n",
      "  div=detail_driver.find_elements_by_css_selector('p')\n",
      "/var/folders/_l/3r37kqhd699__pxb_zz12_940000gn/T/ipykernel_74907/4158101562.py:22: DeprecationWarning: find_elements_by_* commands are deprecated. Please use find_elements() instead\n",
      "  div=detail_driver.find_elements_by_css_selector('p')\n",
      "/var/folders/_l/3r37kqhd699__pxb_zz12_940000gn/T/ipykernel_74907/4158101562.py:22: DeprecationWarning: find_elements_by_* commands are deprecated. Please use find_elements() instead\n",
      "  div=detail_driver.find_elements_by_css_selector('p')\n",
      "/var/folders/_l/3r37kqhd699__pxb_zz12_940000gn/T/ipykernel_74907/4158101562.py:22: DeprecationWarning: find_elements_by_* commands are deprecated. Please use find_elements() instead\n",
      "  div=detail_driver.find_elements_by_css_selector('p')\n",
      "/var/folders/_l/3r37kqhd699__pxb_zz12_940000gn/T/ipykernel_74907/4158101562.py:22: DeprecationWarning: find_elements_by_* commands are deprecated. Please use find_elements() instead\n",
      "  div=detail_driver.find_elements_by_css_selector('p')\n",
      "/Users/uenoshouko/workspace/pj_ikechi/ikechi/lib/python3.9/site-packages/selenium/webdriver/remote/webelement.py:483: UserWarning: find_element_by_* commands are deprecated. Please use find_element() instead\n",
      "  warnings.warn(\"find_element_by_* commands are deprecated. Please use find_element() instead\")\n",
      "/var/folders/_l/3r37kqhd699__pxb_zz12_940000gn/T/ipykernel_74907/4158101562.py:22: DeprecationWarning: find_elements_by_* commands are deprecated. Please use find_elements() instead\n",
      "  div=detail_driver.find_elements_by_css_selector('p')\n",
      "/var/folders/_l/3r37kqhd699__pxb_zz12_940000gn/T/ipykernel_74907/4158101562.py:22: DeprecationWarning: find_elements_by_* commands are deprecated. Please use find_elements() instead\n",
      "  div=detail_driver.find_elements_by_css_selector('p')\n",
      "/var/folders/_l/3r37kqhd699__pxb_zz12_940000gn/T/ipykernel_74907/4158101562.py:22: DeprecationWarning: find_elements_by_* commands are deprecated. Please use find_elements() instead\n",
      "  div=detail_driver.find_elements_by_css_selector('p')\n",
      "/var/folders/_l/3r37kqhd699__pxb_zz12_940000gn/T/ipykernel_74907/4158101562.py:22: DeprecationWarning: find_elements_by_* commands are deprecated. Please use find_elements() instead\n",
      "  div=detail_driver.find_elements_by_css_selector('p')\n",
      "/var/folders/_l/3r37kqhd699__pxb_zz12_940000gn/T/ipykernel_74907/4158101562.py:22: DeprecationWarning: find_elements_by_* commands are deprecated. Please use find_elements() instead\n",
      "  div=detail_driver.find_elements_by_css_selector('p')\n",
      "/var/folders/_l/3r37kqhd699__pxb_zz12_940000gn/T/ipykernel_74907/4158101562.py:22: DeprecationWarning: find_elements_by_* commands are deprecated. Please use find_elements() instead\n",
      "  div=detail_driver.find_elements_by_css_selector('p')\n",
      "/var/folders/_l/3r37kqhd699__pxb_zz12_940000gn/T/ipykernel_74907/4158101562.py:22: DeprecationWarning: find_elements_by_* commands are deprecated. Please use find_elements() instead\n",
      "  div=detail_driver.find_elements_by_css_selector('p')\n",
      "/var/folders/_l/3r37kqhd699__pxb_zz12_940000gn/T/ipykernel_74907/4158101562.py:22: DeprecationWarning: find_elements_by_* commands are deprecated. Please use find_elements() instead\n",
      "  div=detail_driver.find_elements_by_css_selector('p')\n",
      "/var/folders/_l/3r37kqhd699__pxb_zz12_940000gn/T/ipykernel_74907/4158101562.py:22: DeprecationWarning: find_elements_by_* commands are deprecated. Please use find_elements() instead\n",
      "  div=detail_driver.find_elements_by_css_selector('p')\n",
      "/var/folders/_l/3r37kqhd699__pxb_zz12_940000gn/T/ipykernel_74907/4158101562.py:22: DeprecationWarning: find_elements_by_* commands are deprecated. Please use find_elements() instead\n",
      "  div=detail_driver.find_elements_by_css_selector('p')\n",
      "/var/folders/_l/3r37kqhd699__pxb_zz12_940000gn/T/ipykernel_74907/4158101562.py:22: DeprecationWarning: find_elements_by_* commands are deprecated. Please use find_elements() instead\n",
      "  div=detail_driver.find_elements_by_css_selector('p')\n",
      "/var/folders/_l/3r37kqhd699__pxb_zz12_940000gn/T/ipykernel_74907/4158101562.py:22: DeprecationWarning: find_elements_by_* commands are deprecated. Please use find_elements() instead\n",
      "  div=detail_driver.find_elements_by_css_selector('p')\n",
      "/var/folders/_l/3r37kqhd699__pxb_zz12_940000gn/T/ipykernel_74907/4158101562.py:22: DeprecationWarning: find_elements_by_* commands are deprecated. Please use find_elements() instead\n",
      "  div=detail_driver.find_elements_by_css_selector('p')\n",
      "/var/folders/_l/3r37kqhd699__pxb_zz12_940000gn/T/ipykernel_74907/4158101562.py:22: DeprecationWarning: find_elements_by_* commands are deprecated. Please use find_elements() instead\n",
      "  div=detail_driver.find_elements_by_css_selector('p')\n",
      "/var/folders/_l/3r37kqhd699__pxb_zz12_940000gn/T/ipykernel_74907/4158101562.py:22: DeprecationWarning: find_elements_by_* commands are deprecated. Please use find_elements() instead\n",
      "  div=detail_driver.find_elements_by_css_selector('p')\n",
      "/var/folders/_l/3r37kqhd699__pxb_zz12_940000gn/T/ipykernel_74907/4158101562.py:22: DeprecationWarning: find_elements_by_* commands are deprecated. Please use find_elements() instead\n",
      "  div=detail_driver.find_elements_by_css_selector('p')\n",
      "/var/folders/_l/3r37kqhd699__pxb_zz12_940000gn/T/ipykernel_74907/4158101562.py:22: DeprecationWarning: find_elements_by_* commands are deprecated. Please use find_elements() instead\n",
      "  div=detail_driver.find_elements_by_css_selector('p')\n"
     ]
    },
    {
     "name": "stderr",
     "output_type": "stream",
     "text": [
      "/var/folders/_l/3r37kqhd699__pxb_zz12_940000gn/T/ipykernel_74907/4158101562.py:22: DeprecationWarning: find_elements_by_* commands are deprecated. Please use find_elements() instead\n",
      "  div=detail_driver.find_elements_by_css_selector('p')\n",
      "/var/folders/_l/3r37kqhd699__pxb_zz12_940000gn/T/ipykernel_74907/4158101562.py:22: DeprecationWarning: find_elements_by_* commands are deprecated. Please use find_elements() instead\n",
      "  div=detail_driver.find_elements_by_css_selector('p')\n",
      "/Users/uenoshouko/workspace/pj_ikechi/ikechi/lib/python3.9/site-packages/selenium/webdriver/remote/webelement.py:483: UserWarning: find_element_by_* commands are deprecated. Please use find_element() instead\n",
      "  warnings.warn(\"find_element_by_* commands are deprecated. Please use find_element() instead\")\n",
      "/var/folders/_l/3r37kqhd699__pxb_zz12_940000gn/T/ipykernel_74907/4158101562.py:22: DeprecationWarning: find_elements_by_* commands are deprecated. Please use find_elements() instead\n",
      "  div=detail_driver.find_elements_by_css_selector('p')\n",
      "/var/folders/_l/3r37kqhd699__pxb_zz12_940000gn/T/ipykernel_74907/4158101562.py:22: DeprecationWarning: find_elements_by_* commands are deprecated. Please use find_elements() instead\n",
      "  div=detail_driver.find_elements_by_css_selector('p')\n",
      "/var/folders/_l/3r37kqhd699__pxb_zz12_940000gn/T/ipykernel_74907/4158101562.py:22: DeprecationWarning: find_elements_by_* commands are deprecated. Please use find_elements() instead\n",
      "  div=detail_driver.find_elements_by_css_selector('p')\n",
      "/var/folders/_l/3r37kqhd699__pxb_zz12_940000gn/T/ipykernel_74907/4158101562.py:22: DeprecationWarning: find_elements_by_* commands are deprecated. Please use find_elements() instead\n",
      "  div=detail_driver.find_elements_by_css_selector('p')\n",
      "/var/folders/_l/3r37kqhd699__pxb_zz12_940000gn/T/ipykernel_74907/4158101562.py:22: DeprecationWarning: find_elements_by_* commands are deprecated. Please use find_elements() instead\n",
      "  div=detail_driver.find_elements_by_css_selector('p')\n",
      "/var/folders/_l/3r37kqhd699__pxb_zz12_940000gn/T/ipykernel_74907/4158101562.py:22: DeprecationWarning: find_elements_by_* commands are deprecated. Please use find_elements() instead\n",
      "  div=detail_driver.find_elements_by_css_selector('p')\n",
      "/var/folders/_l/3r37kqhd699__pxb_zz12_940000gn/T/ipykernel_74907/4158101562.py:22: DeprecationWarning: find_elements_by_* commands are deprecated. Please use find_elements() instead\n",
      "  div=detail_driver.find_elements_by_css_selector('p')\n",
      "/var/folders/_l/3r37kqhd699__pxb_zz12_940000gn/T/ipykernel_74907/4158101562.py:22: DeprecationWarning: find_elements_by_* commands are deprecated. Please use find_elements() instead\n",
      "  div=detail_driver.find_elements_by_css_selector('p')\n",
      "/var/folders/_l/3r37kqhd699__pxb_zz12_940000gn/T/ipykernel_74907/4158101562.py:22: DeprecationWarning: find_elements_by_* commands are deprecated. Please use find_elements() instead\n",
      "  div=detail_driver.find_elements_by_css_selector('p')\n",
      "/var/folders/_l/3r37kqhd699__pxb_zz12_940000gn/T/ipykernel_74907/4158101562.py:22: DeprecationWarning: find_elements_by_* commands are deprecated. Please use find_elements() instead\n",
      "  div=detail_driver.find_elements_by_css_selector('p')\n",
      "/var/folders/_l/3r37kqhd699__pxb_zz12_940000gn/T/ipykernel_74907/4158101562.py:22: DeprecationWarning: find_elements_by_* commands are deprecated. Please use find_elements() instead\n",
      "  div=detail_driver.find_elements_by_css_selector('p')\n",
      "/var/folders/_l/3r37kqhd699__pxb_zz12_940000gn/T/ipykernel_74907/4158101562.py:22: DeprecationWarning: find_elements_by_* commands are deprecated. Please use find_elements() instead\n",
      "  div=detail_driver.find_elements_by_css_selector('p')\n",
      "/var/folders/_l/3r37kqhd699__pxb_zz12_940000gn/T/ipykernel_74907/4158101562.py:22: DeprecationWarning: find_elements_by_* commands are deprecated. Please use find_elements() instead\n",
      "  div=detail_driver.find_elements_by_css_selector('p')\n",
      "/var/folders/_l/3r37kqhd699__pxb_zz12_940000gn/T/ipykernel_74907/4158101562.py:22: DeprecationWarning: find_elements_by_* commands are deprecated. Please use find_elements() instead\n",
      "  div=detail_driver.find_elements_by_css_selector('p')\n",
      "/var/folders/_l/3r37kqhd699__pxb_zz12_940000gn/T/ipykernel_74907/4158101562.py:22: DeprecationWarning: find_elements_by_* commands are deprecated. Please use find_elements() instead\n",
      "  div=detail_driver.find_elements_by_css_selector('p')\n",
      "/var/folders/_l/3r37kqhd699__pxb_zz12_940000gn/T/ipykernel_74907/4158101562.py:22: DeprecationWarning: find_elements_by_* commands are deprecated. Please use find_elements() instead\n",
      "  div=detail_driver.find_elements_by_css_selector('p')\n",
      "/var/folders/_l/3r37kqhd699__pxb_zz12_940000gn/T/ipykernel_74907/4158101562.py:22: DeprecationWarning: find_elements_by_* commands are deprecated. Please use find_elements() instead\n",
      "  div=detail_driver.find_elements_by_css_selector('p')\n",
      "/var/folders/_l/3r37kqhd699__pxb_zz12_940000gn/T/ipykernel_74907/4158101562.py:22: DeprecationWarning: find_elements_by_* commands are deprecated. Please use find_elements() instead\n",
      "  div=detail_driver.find_elements_by_css_selector('p')\n",
      "/var/folders/_l/3r37kqhd699__pxb_zz12_940000gn/T/ipykernel_74907/4158101562.py:22: DeprecationWarning: find_elements_by_* commands are deprecated. Please use find_elements() instead\n",
      "  div=detail_driver.find_elements_by_css_selector('p')\n",
      "/var/folders/_l/3r37kqhd699__pxb_zz12_940000gn/T/ipykernel_74907/4158101562.py:22: DeprecationWarning: find_elements_by_* commands are deprecated. Please use find_elements() instead\n",
      "  div=detail_driver.find_elements_by_css_selector('p')\n",
      "/Users/uenoshouko/workspace/pj_ikechi/ikechi/lib/python3.9/site-packages/selenium/webdriver/remote/webelement.py:483: UserWarning: find_element_by_* commands are deprecated. Please use find_element() instead\n",
      "  warnings.warn(\"find_element_by_* commands are deprecated. Please use find_element() instead\")\n",
      "/var/folders/_l/3r37kqhd699__pxb_zz12_940000gn/T/ipykernel_74907/4158101562.py:22: DeprecationWarning: find_elements_by_* commands are deprecated. Please use find_elements() instead\n",
      "  div=detail_driver.find_elements_by_css_selector('p')\n",
      "/var/folders/_l/3r37kqhd699__pxb_zz12_940000gn/T/ipykernel_74907/4158101562.py:22: DeprecationWarning: find_elements_by_* commands are deprecated. Please use find_elements() instead\n",
      "  div=detail_driver.find_elements_by_css_selector('p')\n",
      "/var/folders/_l/3r37kqhd699__pxb_zz12_940000gn/T/ipykernel_74907/4158101562.py:22: DeprecationWarning: find_elements_by_* commands are deprecated. Please use find_elements() instead\n",
      "  div=detail_driver.find_elements_by_css_selector('p')\n",
      "/var/folders/_l/3r37kqhd699__pxb_zz12_940000gn/T/ipykernel_74907/4158101562.py:22: DeprecationWarning: find_elements_by_* commands are deprecated. Please use find_elements() instead\n",
      "  div=detail_driver.find_elements_by_css_selector('p')\n",
      "/var/folders/_l/3r37kqhd699__pxb_zz12_940000gn/T/ipykernel_74907/4158101562.py:22: DeprecationWarning: find_elements_by_* commands are deprecated. Please use find_elements() instead\n",
      "  div=detail_driver.find_elements_by_css_selector('p')\n",
      "/var/folders/_l/3r37kqhd699__pxb_zz12_940000gn/T/ipykernel_74907/4158101562.py:22: DeprecationWarning: find_elements_by_* commands are deprecated. Please use find_elements() instead\n",
      "  div=detail_driver.find_elements_by_css_selector('p')\n",
      "/var/folders/_l/3r37kqhd699__pxb_zz12_940000gn/T/ipykernel_74907/4158101562.py:22: DeprecationWarning: find_elements_by_* commands are deprecated. Please use find_elements() instead\n",
      "  div=detail_driver.find_elements_by_css_selector('p')\n",
      "/var/folders/_l/3r37kqhd699__pxb_zz12_940000gn/T/ipykernel_74907/4158101562.py:22: DeprecationWarning: find_elements_by_* commands are deprecated. Please use find_elements() instead\n",
      "  div=detail_driver.find_elements_by_css_selector('p')\n",
      "/var/folders/_l/3r37kqhd699__pxb_zz12_940000gn/T/ipykernel_74907/4158101562.py:22: DeprecationWarning: find_elements_by_* commands are deprecated. Please use find_elements() instead\n",
      "  div=detail_driver.find_elements_by_css_selector('p')\n",
      "/var/folders/_l/3r37kqhd699__pxb_zz12_940000gn/T/ipykernel_74907/4158101562.py:22: DeprecationWarning: find_elements_by_* commands are deprecated. Please use find_elements() instead\n",
      "  div=detail_driver.find_elements_by_css_selector('p')\n",
      "/var/folders/_l/3r37kqhd699__pxb_zz12_940000gn/T/ipykernel_74907/4158101562.py:22: DeprecationWarning: find_elements_by_* commands are deprecated. Please use find_elements() instead\n",
      "  div=detail_driver.find_elements_by_css_selector('p')\n"
     ]
    },
    {
     "name": "stderr",
     "output_type": "stream",
     "text": [
      "/var/folders/_l/3r37kqhd699__pxb_zz12_940000gn/T/ipykernel_74907/4158101562.py:22: DeprecationWarning: find_elements_by_* commands are deprecated. Please use find_elements() instead\n",
      "  div=detail_driver.find_elements_by_css_selector('p')\n",
      "/var/folders/_l/3r37kqhd699__pxb_zz12_940000gn/T/ipykernel_74907/4158101562.py:22: DeprecationWarning: find_elements_by_* commands are deprecated. Please use find_elements() instead\n",
      "  div=detail_driver.find_elements_by_css_selector('p')\n",
      "/var/folders/_l/3r37kqhd699__pxb_zz12_940000gn/T/ipykernel_74907/4158101562.py:22: DeprecationWarning: find_elements_by_* commands are deprecated. Please use find_elements() instead\n",
      "  div=detail_driver.find_elements_by_css_selector('p')\n",
      "/var/folders/_l/3r37kqhd699__pxb_zz12_940000gn/T/ipykernel_74907/4158101562.py:22: DeprecationWarning: find_elements_by_* commands are deprecated. Please use find_elements() instead\n",
      "  div=detail_driver.find_elements_by_css_selector('p')\n",
      "/var/folders/_l/3r37kqhd699__pxb_zz12_940000gn/T/ipykernel_74907/4158101562.py:22: DeprecationWarning: find_elements_by_* commands are deprecated. Please use find_elements() instead\n",
      "  div=detail_driver.find_elements_by_css_selector('p')\n",
      "/var/folders/_l/3r37kqhd699__pxb_zz12_940000gn/T/ipykernel_74907/4158101562.py:22: DeprecationWarning: find_elements_by_* commands are deprecated. Please use find_elements() instead\n",
      "  div=detail_driver.find_elements_by_css_selector('p')\n",
      "/var/folders/_l/3r37kqhd699__pxb_zz12_940000gn/T/ipykernel_74907/4158101562.py:22: DeprecationWarning: find_elements_by_* commands are deprecated. Please use find_elements() instead\n",
      "  div=detail_driver.find_elements_by_css_selector('p')\n",
      "/var/folders/_l/3r37kqhd699__pxb_zz12_940000gn/T/ipykernel_74907/4158101562.py:22: DeprecationWarning: find_elements_by_* commands are deprecated. Please use find_elements() instead\n",
      "  div=detail_driver.find_elements_by_css_selector('p')\n",
      "/var/folders/_l/3r37kqhd699__pxb_zz12_940000gn/T/ipykernel_74907/4158101562.py:22: DeprecationWarning: find_elements_by_* commands are deprecated. Please use find_elements() instead\n",
      "  div=detail_driver.find_elements_by_css_selector('p')\n",
      "/var/folders/_l/3r37kqhd699__pxb_zz12_940000gn/T/ipykernel_74907/4158101562.py:22: DeprecationWarning: find_elements_by_* commands are deprecated. Please use find_elements() instead\n",
      "  div=detail_driver.find_elements_by_css_selector('p')\n",
      "/Users/uenoshouko/workspace/pj_ikechi/ikechi/lib/python3.9/site-packages/selenium/webdriver/remote/webelement.py:483: UserWarning: find_element_by_* commands are deprecated. Please use find_element() instead\n",
      "  warnings.warn(\"find_element_by_* commands are deprecated. Please use find_element() instead\")\n",
      "/var/folders/_l/3r37kqhd699__pxb_zz12_940000gn/T/ipykernel_74907/4158101562.py:22: DeprecationWarning: find_elements_by_* commands are deprecated. Please use find_elements() instead\n",
      "  div=detail_driver.find_elements_by_css_selector('p')\n",
      "/var/folders/_l/3r37kqhd699__pxb_zz12_940000gn/T/ipykernel_74907/4158101562.py:22: DeprecationWarning: find_elements_by_* commands are deprecated. Please use find_elements() instead\n",
      "  div=detail_driver.find_elements_by_css_selector('p')\n",
      "/var/folders/_l/3r37kqhd699__pxb_zz12_940000gn/T/ipykernel_74907/4158101562.py:22: DeprecationWarning: find_elements_by_* commands are deprecated. Please use find_elements() instead\n",
      "  div=detail_driver.find_elements_by_css_selector('p')\n",
      "/var/folders/_l/3r37kqhd699__pxb_zz12_940000gn/T/ipykernel_74907/4158101562.py:22: DeprecationWarning: find_elements_by_* commands are deprecated. Please use find_elements() instead\n",
      "  div=detail_driver.find_elements_by_css_selector('p')\n",
      "/var/folders/_l/3r37kqhd699__pxb_zz12_940000gn/T/ipykernel_74907/4158101562.py:22: DeprecationWarning: find_elements_by_* commands are deprecated. Please use find_elements() instead\n",
      "  div=detail_driver.find_elements_by_css_selector('p')\n",
      "/var/folders/_l/3r37kqhd699__pxb_zz12_940000gn/T/ipykernel_74907/4158101562.py:22: DeprecationWarning: find_elements_by_* commands are deprecated. Please use find_elements() instead\n",
      "  div=detail_driver.find_elements_by_css_selector('p')\n",
      "/var/folders/_l/3r37kqhd699__pxb_zz12_940000gn/T/ipykernel_74907/4158101562.py:22: DeprecationWarning: find_elements_by_* commands are deprecated. Please use find_elements() instead\n",
      "  div=detail_driver.find_elements_by_css_selector('p')\n",
      "/var/folders/_l/3r37kqhd699__pxb_zz12_940000gn/T/ipykernel_74907/4158101562.py:22: DeprecationWarning: find_elements_by_* commands are deprecated. Please use find_elements() instead\n",
      "  div=detail_driver.find_elements_by_css_selector('p')\n",
      "/var/folders/_l/3r37kqhd699__pxb_zz12_940000gn/T/ipykernel_74907/4158101562.py:22: DeprecationWarning: find_elements_by_* commands are deprecated. Please use find_elements() instead\n",
      "  div=detail_driver.find_elements_by_css_selector('p')\n",
      "/var/folders/_l/3r37kqhd699__pxb_zz12_940000gn/T/ipykernel_74907/4158101562.py:22: DeprecationWarning: find_elements_by_* commands are deprecated. Please use find_elements() instead\n",
      "  div=detail_driver.find_elements_by_css_selector('p')\n",
      "/var/folders/_l/3r37kqhd699__pxb_zz12_940000gn/T/ipykernel_74907/4158101562.py:22: DeprecationWarning: find_elements_by_* commands are deprecated. Please use find_elements() instead\n",
      "  div=detail_driver.find_elements_by_css_selector('p')\n",
      "/var/folders/_l/3r37kqhd699__pxb_zz12_940000gn/T/ipykernel_74907/4158101562.py:22: DeprecationWarning: find_elements_by_* commands are deprecated. Please use find_elements() instead\n",
      "  div=detail_driver.find_elements_by_css_selector('p')\n",
      "/var/folders/_l/3r37kqhd699__pxb_zz12_940000gn/T/ipykernel_74907/4158101562.py:22: DeprecationWarning: find_elements_by_* commands are deprecated. Please use find_elements() instead\n",
      "  div=detail_driver.find_elements_by_css_selector('p')\n",
      "/var/folders/_l/3r37kqhd699__pxb_zz12_940000gn/T/ipykernel_74907/4158101562.py:22: DeprecationWarning: find_elements_by_* commands are deprecated. Please use find_elements() instead\n",
      "  div=detail_driver.find_elements_by_css_selector('p')\n",
      "/var/folders/_l/3r37kqhd699__pxb_zz12_940000gn/T/ipykernel_74907/4158101562.py:22: DeprecationWarning: find_elements_by_* commands are deprecated. Please use find_elements() instead\n",
      "  div=detail_driver.find_elements_by_css_selector('p')\n",
      "/var/folders/_l/3r37kqhd699__pxb_zz12_940000gn/T/ipykernel_74907/4158101562.py:22: DeprecationWarning: find_elements_by_* commands are deprecated. Please use find_elements() instead\n",
      "  div=detail_driver.find_elements_by_css_selector('p')\n",
      "/var/folders/_l/3r37kqhd699__pxb_zz12_940000gn/T/ipykernel_74907/4158101562.py:22: DeprecationWarning: find_elements_by_* commands are deprecated. Please use find_elements() instead\n",
      "  div=detail_driver.find_elements_by_css_selector('p')\n",
      "/var/folders/_l/3r37kqhd699__pxb_zz12_940000gn/T/ipykernel_74907/4158101562.py:22: DeprecationWarning: find_elements_by_* commands are deprecated. Please use find_elements() instead\n",
      "  div=detail_driver.find_elements_by_css_selector('p')\n",
      "/var/folders/_l/3r37kqhd699__pxb_zz12_940000gn/T/ipykernel_74907/4158101562.py:22: DeprecationWarning: find_elements_by_* commands are deprecated. Please use find_elements() instead\n",
      "  div=detail_driver.find_elements_by_css_selector('p')\n",
      "/var/folders/_l/3r37kqhd699__pxb_zz12_940000gn/T/ipykernel_74907/4158101562.py:22: DeprecationWarning: find_elements_by_* commands are deprecated. Please use find_elements() instead\n",
      "  div=detail_driver.find_elements_by_css_selector('p')\n",
      "/var/folders/_l/3r37kqhd699__pxb_zz12_940000gn/T/ipykernel_74907/4158101562.py:22: DeprecationWarning: find_elements_by_* commands are deprecated. Please use find_elements() instead\n",
      "  div=detail_driver.find_elements_by_css_selector('p')\n",
      "/var/folders/_l/3r37kqhd699__pxb_zz12_940000gn/T/ipykernel_74907/4158101562.py:22: DeprecationWarning: find_elements_by_* commands are deprecated. Please use find_elements() instead\n",
      "  div=detail_driver.find_elements_by_css_selector('p')\n",
      "/Users/uenoshouko/workspace/pj_ikechi/ikechi/lib/python3.9/site-packages/selenium/webdriver/remote/webelement.py:483: UserWarning: find_element_by_* commands are deprecated. Please use find_element() instead\n",
      "  warnings.warn(\"find_element_by_* commands are deprecated. Please use find_element() instead\")\n",
      "/var/folders/_l/3r37kqhd699__pxb_zz12_940000gn/T/ipykernel_74907/4158101562.py:22: DeprecationWarning: find_elements_by_* commands are deprecated. Please use find_elements() instead\n",
      "  div=detail_driver.find_elements_by_css_selector('p')\n"
     ]
    },
    {
     "name": "stderr",
     "output_type": "stream",
     "text": [
      "/var/folders/_l/3r37kqhd699__pxb_zz12_940000gn/T/ipykernel_74907/4158101562.py:22: DeprecationWarning: find_elements_by_* commands are deprecated. Please use find_elements() instead\n",
      "  div=detail_driver.find_elements_by_css_selector('p')\n",
      "/var/folders/_l/3r37kqhd699__pxb_zz12_940000gn/T/ipykernel_74907/4158101562.py:22: DeprecationWarning: find_elements_by_* commands are deprecated. Please use find_elements() instead\n",
      "  div=detail_driver.find_elements_by_css_selector('p')\n",
      "/var/folders/_l/3r37kqhd699__pxb_zz12_940000gn/T/ipykernel_74907/4158101562.py:22: DeprecationWarning: find_elements_by_* commands are deprecated. Please use find_elements() instead\n",
      "  div=detail_driver.find_elements_by_css_selector('p')\n",
      "/var/folders/_l/3r37kqhd699__pxb_zz12_940000gn/T/ipykernel_74907/4158101562.py:22: DeprecationWarning: find_elements_by_* commands are deprecated. Please use find_elements() instead\n",
      "  div=detail_driver.find_elements_by_css_selector('p')\n",
      "/var/folders/_l/3r37kqhd699__pxb_zz12_940000gn/T/ipykernel_74907/4158101562.py:22: DeprecationWarning: find_elements_by_* commands are deprecated. Please use find_elements() instead\n",
      "  div=detail_driver.find_elements_by_css_selector('p')\n",
      "/var/folders/_l/3r37kqhd699__pxb_zz12_940000gn/T/ipykernel_74907/4158101562.py:22: DeprecationWarning: find_elements_by_* commands are deprecated. Please use find_elements() instead\n",
      "  div=detail_driver.find_elements_by_css_selector('p')\n",
      "/var/folders/_l/3r37kqhd699__pxb_zz12_940000gn/T/ipykernel_74907/4158101562.py:22: DeprecationWarning: find_elements_by_* commands are deprecated. Please use find_elements() instead\n",
      "  div=detail_driver.find_elements_by_css_selector('p')\n",
      "/var/folders/_l/3r37kqhd699__pxb_zz12_940000gn/T/ipykernel_74907/4158101562.py:22: DeprecationWarning: find_elements_by_* commands are deprecated. Please use find_elements() instead\n",
      "  div=detail_driver.find_elements_by_css_selector('p')\n",
      "/var/folders/_l/3r37kqhd699__pxb_zz12_940000gn/T/ipykernel_74907/4158101562.py:22: DeprecationWarning: find_elements_by_* commands are deprecated. Please use find_elements() instead\n",
      "  div=detail_driver.find_elements_by_css_selector('p')\n",
      "/var/folders/_l/3r37kqhd699__pxb_zz12_940000gn/T/ipykernel_74907/4158101562.py:22: DeprecationWarning: find_elements_by_* commands are deprecated. Please use find_elements() instead\n",
      "  div=detail_driver.find_elements_by_css_selector('p')\n",
      "/var/folders/_l/3r37kqhd699__pxb_zz12_940000gn/T/ipykernel_74907/4158101562.py:22: DeprecationWarning: find_elements_by_* commands are deprecated. Please use find_elements() instead\n",
      "  div=detail_driver.find_elements_by_css_selector('p')\n",
      "/var/folders/_l/3r37kqhd699__pxb_zz12_940000gn/T/ipykernel_74907/4158101562.py:22: DeprecationWarning: find_elements_by_* commands are deprecated. Please use find_elements() instead\n",
      "  div=detail_driver.find_elements_by_css_selector('p')\n",
      "/var/folders/_l/3r37kqhd699__pxb_zz12_940000gn/T/ipykernel_74907/4158101562.py:22: DeprecationWarning: find_elements_by_* commands are deprecated. Please use find_elements() instead\n",
      "  div=detail_driver.find_elements_by_css_selector('p')\n",
      "/var/folders/_l/3r37kqhd699__pxb_zz12_940000gn/T/ipykernel_74907/4158101562.py:22: DeprecationWarning: find_elements_by_* commands are deprecated. Please use find_elements() instead\n",
      "  div=detail_driver.find_elements_by_css_selector('p')\n",
      "/var/folders/_l/3r37kqhd699__pxb_zz12_940000gn/T/ipykernel_74907/4158101562.py:22: DeprecationWarning: find_elements_by_* commands are deprecated. Please use find_elements() instead\n",
      "  div=detail_driver.find_elements_by_css_selector('p')\n",
      "/var/folders/_l/3r37kqhd699__pxb_zz12_940000gn/T/ipykernel_74907/4158101562.py:22: DeprecationWarning: find_elements_by_* commands are deprecated. Please use find_elements() instead\n",
      "  div=detail_driver.find_elements_by_css_selector('p')\n",
      "/var/folders/_l/3r37kqhd699__pxb_zz12_940000gn/T/ipykernel_74907/4158101562.py:22: DeprecationWarning: find_elements_by_* commands are deprecated. Please use find_elements() instead\n",
      "  div=detail_driver.find_elements_by_css_selector('p')\n",
      "/var/folders/_l/3r37kqhd699__pxb_zz12_940000gn/T/ipykernel_74907/4158101562.py:22: DeprecationWarning: find_elements_by_* commands are deprecated. Please use find_elements() instead\n",
      "  div=detail_driver.find_elements_by_css_selector('p')\n",
      "/var/folders/_l/3r37kqhd699__pxb_zz12_940000gn/T/ipykernel_74907/4158101562.py:22: DeprecationWarning: find_elements_by_* commands are deprecated. Please use find_elements() instead\n",
      "  div=detail_driver.find_elements_by_css_selector('p')\n",
      "/var/folders/_l/3r37kqhd699__pxb_zz12_940000gn/T/ipykernel_74907/4158101562.py:22: DeprecationWarning: find_elements_by_* commands are deprecated. Please use find_elements() instead\n",
      "  div=detail_driver.find_elements_by_css_selector('p')\n",
      "/var/folders/_l/3r37kqhd699__pxb_zz12_940000gn/T/ipykernel_74907/4158101562.py:22: DeprecationWarning: find_elements_by_* commands are deprecated. Please use find_elements() instead\n",
      "  div=detail_driver.find_elements_by_css_selector('p')\n",
      "/var/folders/_l/3r37kqhd699__pxb_zz12_940000gn/T/ipykernel_74907/4158101562.py:22: DeprecationWarning: find_elements_by_* commands are deprecated. Please use find_elements() instead\n",
      "  div=detail_driver.find_elements_by_css_selector('p')\n",
      "/Users/uenoshouko/workspace/pj_ikechi/ikechi/lib/python3.9/site-packages/selenium/webdriver/remote/webelement.py:483: UserWarning: find_element_by_* commands are deprecated. Please use find_element() instead\n",
      "  warnings.warn(\"find_element_by_* commands are deprecated. Please use find_element() instead\")\n",
      "/var/folders/_l/3r37kqhd699__pxb_zz12_940000gn/T/ipykernel_74907/4158101562.py:22: DeprecationWarning: find_elements_by_* commands are deprecated. Please use find_elements() instead\n",
      "  div=detail_driver.find_elements_by_css_selector('p')\n",
      "/var/folders/_l/3r37kqhd699__pxb_zz12_940000gn/T/ipykernel_74907/4158101562.py:22: DeprecationWarning: find_elements_by_* commands are deprecated. Please use find_elements() instead\n",
      "  div=detail_driver.find_elements_by_css_selector('p')\n",
      "/var/folders/_l/3r37kqhd699__pxb_zz12_940000gn/T/ipykernel_74907/4158101562.py:22: DeprecationWarning: find_elements_by_* commands are deprecated. Please use find_elements() instead\n",
      "  div=detail_driver.find_elements_by_css_selector('p')\n",
      "/var/folders/_l/3r37kqhd699__pxb_zz12_940000gn/T/ipykernel_74907/4158101562.py:22: DeprecationWarning: find_elements_by_* commands are deprecated. Please use find_elements() instead\n",
      "  div=detail_driver.find_elements_by_css_selector('p')\n",
      "/var/folders/_l/3r37kqhd699__pxb_zz12_940000gn/T/ipykernel_74907/4158101562.py:22: DeprecationWarning: find_elements_by_* commands are deprecated. Please use find_elements() instead\n",
      "  div=detail_driver.find_elements_by_css_selector('p')\n",
      "/var/folders/_l/3r37kqhd699__pxb_zz12_940000gn/T/ipykernel_74907/4158101562.py:22: DeprecationWarning: find_elements_by_* commands are deprecated. Please use find_elements() instead\n",
      "  div=detail_driver.find_elements_by_css_selector('p')\n",
      "/var/folders/_l/3r37kqhd699__pxb_zz12_940000gn/T/ipykernel_74907/4158101562.py:22: DeprecationWarning: find_elements_by_* commands are deprecated. Please use find_elements() instead\n",
      "  div=detail_driver.find_elements_by_css_selector('p')\n",
      "/var/folders/_l/3r37kqhd699__pxb_zz12_940000gn/T/ipykernel_74907/4158101562.py:22: DeprecationWarning: find_elements_by_* commands are deprecated. Please use find_elements() instead\n",
      "  div=detail_driver.find_elements_by_css_selector('p')\n",
      "/var/folders/_l/3r37kqhd699__pxb_zz12_940000gn/T/ipykernel_74907/4158101562.py:22: DeprecationWarning: find_elements_by_* commands are deprecated. Please use find_elements() instead\n",
      "  div=detail_driver.find_elements_by_css_selector('p')\n",
      "/var/folders/_l/3r37kqhd699__pxb_zz12_940000gn/T/ipykernel_74907/4158101562.py:22: DeprecationWarning: find_elements_by_* commands are deprecated. Please use find_elements() instead\n",
      "  div=detail_driver.find_elements_by_css_selector('p')\n",
      "/var/folders/_l/3r37kqhd699__pxb_zz12_940000gn/T/ipykernel_74907/4158101562.py:22: DeprecationWarning: find_elements_by_* commands are deprecated. Please use find_elements() instead\n",
      "  div=detail_driver.find_elements_by_css_selector('p')\n",
      "/var/folders/_l/3r37kqhd699__pxb_zz12_940000gn/T/ipykernel_74907/4158101562.py:22: DeprecationWarning: find_elements_by_* commands are deprecated. Please use find_elements() instead\n",
      "  div=detail_driver.find_elements_by_css_selector('p')\n"
     ]
    },
    {
     "name": "stderr",
     "output_type": "stream",
     "text": [
      "/var/folders/_l/3r37kqhd699__pxb_zz12_940000gn/T/ipykernel_74907/4158101562.py:22: DeprecationWarning: find_elements_by_* commands are deprecated. Please use find_elements() instead\n",
      "  div=detail_driver.find_elements_by_css_selector('p')\n",
      "/var/folders/_l/3r37kqhd699__pxb_zz12_940000gn/T/ipykernel_74907/4158101562.py:22: DeprecationWarning: find_elements_by_* commands are deprecated. Please use find_elements() instead\n",
      "  div=detail_driver.find_elements_by_css_selector('p')\n",
      "/var/folders/_l/3r37kqhd699__pxb_zz12_940000gn/T/ipykernel_74907/4158101562.py:22: DeprecationWarning: find_elements_by_* commands are deprecated. Please use find_elements() instead\n",
      "  div=detail_driver.find_elements_by_css_selector('p')\n",
      "/var/folders/_l/3r37kqhd699__pxb_zz12_940000gn/T/ipykernel_74907/4158101562.py:22: DeprecationWarning: find_elements_by_* commands are deprecated. Please use find_elements() instead\n",
      "  div=detail_driver.find_elements_by_css_selector('p')\n",
      "/var/folders/_l/3r37kqhd699__pxb_zz12_940000gn/T/ipykernel_74907/4158101562.py:22: DeprecationWarning: find_elements_by_* commands are deprecated. Please use find_elements() instead\n",
      "  div=detail_driver.find_elements_by_css_selector('p')\n",
      "/var/folders/_l/3r37kqhd699__pxb_zz12_940000gn/T/ipykernel_74907/4158101562.py:22: DeprecationWarning: find_elements_by_* commands are deprecated. Please use find_elements() instead\n",
      "  div=detail_driver.find_elements_by_css_selector('p')\n",
      "/var/folders/_l/3r37kqhd699__pxb_zz12_940000gn/T/ipykernel_74907/4158101562.py:22: DeprecationWarning: find_elements_by_* commands are deprecated. Please use find_elements() instead\n",
      "  div=detail_driver.find_elements_by_css_selector('p')\n",
      "/var/folders/_l/3r37kqhd699__pxb_zz12_940000gn/T/ipykernel_74907/4158101562.py:22: DeprecationWarning: find_elements_by_* commands are deprecated. Please use find_elements() instead\n",
      "  div=detail_driver.find_elements_by_css_selector('p')\n",
      "/var/folders/_l/3r37kqhd699__pxb_zz12_940000gn/T/ipykernel_74907/4158101562.py:22: DeprecationWarning: find_elements_by_* commands are deprecated. Please use find_elements() instead\n",
      "  div=detail_driver.find_elements_by_css_selector('p')\n",
      "/var/folders/_l/3r37kqhd699__pxb_zz12_940000gn/T/ipykernel_74907/4158101562.py:22: DeprecationWarning: find_elements_by_* commands are deprecated. Please use find_elements() instead\n",
      "  div=detail_driver.find_elements_by_css_selector('p')\n",
      "/var/folders/_l/3r37kqhd699__pxb_zz12_940000gn/T/ipykernel_74907/4158101562.py:22: DeprecationWarning: find_elements_by_* commands are deprecated. Please use find_elements() instead\n",
      "  div=detail_driver.find_elements_by_css_selector('p')\n"
     ]
    },
    {
     "ename": "StaleElementReferenceException",
     "evalue": "Message: stale element reference: element is not attached to the page document\n  (Session info: headless chrome=96.0.4664.110)\nStacktrace:\n0   chromedriver                        0x0000000104799269 __gxx_personality_v0 + 582729\n1   chromedriver                        0x0000000104724c33 __gxx_personality_v0 + 106003\n2   chromedriver                        0x00000001042e1e28 chromedriver + 171560\n3   chromedriver                        0x00000001042e4ca1 chromedriver + 183457\n4   chromedriver                        0x00000001042e4ac1 chromedriver + 182977\n5   chromedriver                        0x00000001042e4d5c chromedriver + 183644\n6   chromedriver                        0x0000000104311e29 chromedriver + 368169\n7   chromedriver                        0x0000000104334962 chromedriver + 510306\n8   chromedriver                        0x000000010430bf45 chromedriver + 343877\n9   chromedriver                        0x0000000104334c7e chromedriver + 511102\n10  chromedriver                        0x0000000104347462 chromedriver + 586850\n11  chromedriver                        0x0000000104334c23 chromedriver + 511011\n12  chromedriver                        0x000000010430a75e chromedriver + 337758\n13  chromedriver                        0x000000010430ba95 chromedriver + 342677\n14  chromedriver                        0x00000001047558ab __gxx_personality_v0 + 305803\n15  chromedriver                        0x000000010476c863 __gxx_personality_v0 + 399939\n16  chromedriver                        0x0000000104771c7f __gxx_personality_v0 + 421471\n17  chromedriver                        0x000000010476dbba __gxx_personality_v0 + 404890\n18  chromedriver                        0x0000000104749e51 __gxx_personality_v0 + 258097\n19  chromedriver                        0x0000000104789158 __gxx_personality_v0 + 516920\n20  chromedriver                        0x00000001047892e1 __gxx_personality_v0 + 517313\n21  chromedriver                        0x00000001047a06f8 __gxx_personality_v0 + 612568\n22  libsystem_pthread.dylib             0x00007fff616052eb _pthread_body + 126\n23  libsystem_pthread.dylib             0x00007fff61608249 _pthread_start + 66\n24  libsystem_pthread.dylib             0x00007fff6160440d thread_start + 13\n",
     "output_type": "error",
     "traceback": [
      "\u001b[0;31m---------------------------------------------------------------------------\u001b[0m",
      "\u001b[0;31mStaleElementReferenceException\u001b[0m            Traceback (most recent call last)",
      "\u001b[0;32m/var/folders/_l/3r37kqhd699__pxb_zz12_940000gn/T/ipykernel_74907/4158101562.py\u001b[0m in \u001b[0;36m<module>\u001b[0;34m\u001b[0m\n\u001b[1;32m     23\u001b[0m         \u001b[0mcontent\u001b[0m\u001b[0;34m=\u001b[0m\u001b[0;34m[\u001b[0m\u001b[0;34m]\u001b[0m\u001b[0;34m\u001b[0m\u001b[0;34m\u001b[0m\u001b[0m\n\u001b[1;32m     24\u001b[0m         \u001b[0;32mfor\u001b[0m \u001b[0mp\u001b[0m \u001b[0;32min\u001b[0m \u001b[0mdiv\u001b[0m\u001b[0;34m:\u001b[0m\u001b[0;34m\u001b[0m\u001b[0;34m\u001b[0m\u001b[0m\n\u001b[0;32m---> 25\u001b[0;31m             \u001b[0mcontent\u001b[0m\u001b[0;34m.\u001b[0m\u001b[0mappend\u001b[0m\u001b[0;34m(\u001b[0m\u001b[0mp\u001b[0m\u001b[0;34m.\u001b[0m\u001b[0mtext\u001b[0m\u001b[0;34m)\u001b[0m\u001b[0;34m\u001b[0m\u001b[0;34m\u001b[0m\u001b[0m\n\u001b[0m\u001b[1;32m     26\u001b[0m         \u001b[0mcontents\u001b[0m\u001b[0;34m.\u001b[0m\u001b[0mappend\u001b[0m\u001b[0;34m(\u001b[0m\u001b[0mcontent\u001b[0m\u001b[0;34m)\u001b[0m\u001b[0;34m\u001b[0m\u001b[0;34m\u001b[0m\u001b[0m\n\u001b[1;32m     27\u001b[0m \u001b[0mresult\u001b[0m\u001b[0;34m[\u001b[0m\u001b[0;34m'titles'\u001b[0m\u001b[0;34m]\u001b[0m\u001b[0;34m=\u001b[0m\u001b[0mtitles\u001b[0m\u001b[0;34m\u001b[0m\u001b[0;34m\u001b[0m\u001b[0m\n",
      "\u001b[0;32m~/workspace/pj_ikechi/ikechi/lib/python3.9/site-packages/selenium/webdriver/remote/webelement.py\u001b[0m in \u001b[0;36mtext\u001b[0;34m(self)\u001b[0m\n\u001b[1;32m     74\u001b[0m     \u001b[0;32mdef\u001b[0m \u001b[0mtext\u001b[0m\u001b[0;34m(\u001b[0m\u001b[0mself\u001b[0m\u001b[0;34m)\u001b[0m \u001b[0;34m->\u001b[0m \u001b[0mstr\u001b[0m\u001b[0;34m:\u001b[0m\u001b[0;34m\u001b[0m\u001b[0;34m\u001b[0m\u001b[0m\n\u001b[1;32m     75\u001b[0m         \u001b[0;34m\"\"\"The text of the element.\"\"\"\u001b[0m\u001b[0;34m\u001b[0m\u001b[0;34m\u001b[0m\u001b[0m\n\u001b[0;32m---> 76\u001b[0;31m         \u001b[0;32mreturn\u001b[0m \u001b[0mself\u001b[0m\u001b[0;34m.\u001b[0m\u001b[0m_execute\u001b[0m\u001b[0;34m(\u001b[0m\u001b[0mCommand\u001b[0m\u001b[0;34m.\u001b[0m\u001b[0mGET_ELEMENT_TEXT\u001b[0m\u001b[0;34m)\u001b[0m\u001b[0;34m[\u001b[0m\u001b[0;34m'value'\u001b[0m\u001b[0;34m]\u001b[0m\u001b[0;34m\u001b[0m\u001b[0;34m\u001b[0m\u001b[0m\n\u001b[0m\u001b[1;32m     77\u001b[0m \u001b[0;34m\u001b[0m\u001b[0m\n\u001b[1;32m     78\u001b[0m     \u001b[0;32mdef\u001b[0m \u001b[0mclick\u001b[0m\u001b[0;34m(\u001b[0m\u001b[0mself\u001b[0m\u001b[0;34m)\u001b[0m \u001b[0;34m->\u001b[0m \u001b[0;32mNone\u001b[0m\u001b[0;34m:\u001b[0m\u001b[0;34m\u001b[0m\u001b[0;34m\u001b[0m\u001b[0m\n",
      "\u001b[0;32m~/workspace/pj_ikechi/ikechi/lib/python3.9/site-packages/selenium/webdriver/remote/webelement.py\u001b[0m in \u001b[0;36m_execute\u001b[0;34m(self, command, params)\u001b[0m\n\u001b[1;32m    691\u001b[0m             \u001b[0mparams\u001b[0m \u001b[0;34m=\u001b[0m \u001b[0;34m{\u001b[0m\u001b[0;34m}\u001b[0m\u001b[0;34m\u001b[0m\u001b[0;34m\u001b[0m\u001b[0m\n\u001b[1;32m    692\u001b[0m         \u001b[0mparams\u001b[0m\u001b[0;34m[\u001b[0m\u001b[0;34m'id'\u001b[0m\u001b[0;34m]\u001b[0m \u001b[0;34m=\u001b[0m \u001b[0mself\u001b[0m\u001b[0;34m.\u001b[0m\u001b[0m_id\u001b[0m\u001b[0;34m\u001b[0m\u001b[0;34m\u001b[0m\u001b[0m\n\u001b[0;32m--> 693\u001b[0;31m         \u001b[0;32mreturn\u001b[0m \u001b[0mself\u001b[0m\u001b[0;34m.\u001b[0m\u001b[0m_parent\u001b[0m\u001b[0;34m.\u001b[0m\u001b[0mexecute\u001b[0m\u001b[0;34m(\u001b[0m\u001b[0mcommand\u001b[0m\u001b[0;34m,\u001b[0m \u001b[0mparams\u001b[0m\u001b[0;34m)\u001b[0m\u001b[0;34m\u001b[0m\u001b[0;34m\u001b[0m\u001b[0m\n\u001b[0m\u001b[1;32m    694\u001b[0m \u001b[0;34m\u001b[0m\u001b[0m\n\u001b[1;32m    695\u001b[0m     \u001b[0;32mdef\u001b[0m \u001b[0mfind_element\u001b[0m\u001b[0;34m(\u001b[0m\u001b[0mself\u001b[0m\u001b[0;34m,\u001b[0m \u001b[0mby\u001b[0m\u001b[0;34m=\u001b[0m\u001b[0mBy\u001b[0m\u001b[0;34m.\u001b[0m\u001b[0mID\u001b[0m\u001b[0;34m,\u001b[0m \u001b[0mvalue\u001b[0m\u001b[0;34m=\u001b[0m\u001b[0;32mNone\u001b[0m\u001b[0;34m)\u001b[0m\u001b[0;34m:\u001b[0m\u001b[0;34m\u001b[0m\u001b[0;34m\u001b[0m\u001b[0m\n",
      "\u001b[0;32m~/workspace/pj_ikechi/ikechi/lib/python3.9/site-packages/selenium/webdriver/remote/webdriver.py\u001b[0m in \u001b[0;36mexecute\u001b[0;34m(self, driver_command, params)\u001b[0m\n\u001b[1;32m    416\u001b[0m         \u001b[0mresponse\u001b[0m \u001b[0;34m=\u001b[0m \u001b[0mself\u001b[0m\u001b[0;34m.\u001b[0m\u001b[0mcommand_executor\u001b[0m\u001b[0;34m.\u001b[0m\u001b[0mexecute\u001b[0m\u001b[0;34m(\u001b[0m\u001b[0mdriver_command\u001b[0m\u001b[0;34m,\u001b[0m \u001b[0mparams\u001b[0m\u001b[0;34m)\u001b[0m\u001b[0;34m\u001b[0m\u001b[0;34m\u001b[0m\u001b[0m\n\u001b[1;32m    417\u001b[0m         \u001b[0;32mif\u001b[0m \u001b[0mresponse\u001b[0m\u001b[0;34m:\u001b[0m\u001b[0;34m\u001b[0m\u001b[0;34m\u001b[0m\u001b[0m\n\u001b[0;32m--> 418\u001b[0;31m             \u001b[0mself\u001b[0m\u001b[0;34m.\u001b[0m\u001b[0merror_handler\u001b[0m\u001b[0;34m.\u001b[0m\u001b[0mcheck_response\u001b[0m\u001b[0;34m(\u001b[0m\u001b[0mresponse\u001b[0m\u001b[0;34m)\u001b[0m\u001b[0;34m\u001b[0m\u001b[0;34m\u001b[0m\u001b[0m\n\u001b[0m\u001b[1;32m    419\u001b[0m             response['value'] = self._unwrap_value(\n\u001b[1;32m    420\u001b[0m                 response.get('value', None))\n",
      "\u001b[0;32m~/workspace/pj_ikechi/ikechi/lib/python3.9/site-packages/selenium/webdriver/remote/errorhandler.py\u001b[0m in \u001b[0;36mcheck_response\u001b[0;34m(self, response)\u001b[0m\n\u001b[1;32m    241\u001b[0m                 \u001b[0malert_text\u001b[0m \u001b[0;34m=\u001b[0m \u001b[0mvalue\u001b[0m\u001b[0;34m[\u001b[0m\u001b[0;34m'alert'\u001b[0m\u001b[0;34m]\u001b[0m\u001b[0;34m.\u001b[0m\u001b[0mget\u001b[0m\u001b[0;34m(\u001b[0m\u001b[0;34m'text'\u001b[0m\u001b[0;34m)\u001b[0m\u001b[0;34m\u001b[0m\u001b[0;34m\u001b[0m\u001b[0m\n\u001b[1;32m    242\u001b[0m             \u001b[0;32mraise\u001b[0m \u001b[0mexception_class\u001b[0m\u001b[0;34m(\u001b[0m\u001b[0mmessage\u001b[0m\u001b[0;34m,\u001b[0m \u001b[0mscreen\u001b[0m\u001b[0;34m,\u001b[0m \u001b[0mstacktrace\u001b[0m\u001b[0;34m,\u001b[0m \u001b[0malert_text\u001b[0m\u001b[0;34m)\u001b[0m  \u001b[0;31m# type: ignore[call-arg]  # mypy is not smart enough here\u001b[0m\u001b[0;34m\u001b[0m\u001b[0;34m\u001b[0m\u001b[0m\n\u001b[0;32m--> 243\u001b[0;31m         \u001b[0;32mraise\u001b[0m \u001b[0mexception_class\u001b[0m\u001b[0;34m(\u001b[0m\u001b[0mmessage\u001b[0m\u001b[0;34m,\u001b[0m \u001b[0mscreen\u001b[0m\u001b[0;34m,\u001b[0m \u001b[0mstacktrace\u001b[0m\u001b[0;34m)\u001b[0m\u001b[0;34m\u001b[0m\u001b[0;34m\u001b[0m\u001b[0m\n\u001b[0m\u001b[1;32m    244\u001b[0m \u001b[0;34m\u001b[0m\u001b[0m\n\u001b[1;32m    245\u001b[0m     \u001b[0;32mdef\u001b[0m \u001b[0m_value_or_default\u001b[0m\u001b[0;34m(\u001b[0m\u001b[0mself\u001b[0m\u001b[0;34m,\u001b[0m \u001b[0mobj\u001b[0m\u001b[0;34m:\u001b[0m \u001b[0mMapping\u001b[0m\u001b[0;34m[\u001b[0m\u001b[0m_KT\u001b[0m\u001b[0;34m,\u001b[0m \u001b[0m_VT\u001b[0m\u001b[0;34m]\u001b[0m\u001b[0;34m,\u001b[0m \u001b[0mkey\u001b[0m\u001b[0;34m:\u001b[0m \u001b[0m_KT\u001b[0m\u001b[0;34m,\u001b[0m \u001b[0mdefault\u001b[0m\u001b[0;34m:\u001b[0m \u001b[0m_VT\u001b[0m\u001b[0;34m)\u001b[0m \u001b[0;34m->\u001b[0m \u001b[0m_VT\u001b[0m\u001b[0;34m:\u001b[0m\u001b[0;34m\u001b[0m\u001b[0;34m\u001b[0m\u001b[0m\n",
      "\u001b[0;31mStaleElementReferenceException\u001b[0m: Message: stale element reference: element is not attached to the page document\n  (Session info: headless chrome=96.0.4664.110)\nStacktrace:\n0   chromedriver                        0x0000000104799269 __gxx_personality_v0 + 582729\n1   chromedriver                        0x0000000104724c33 __gxx_personality_v0 + 106003\n2   chromedriver                        0x00000001042e1e28 chromedriver + 171560\n3   chromedriver                        0x00000001042e4ca1 chromedriver + 183457\n4   chromedriver                        0x00000001042e4ac1 chromedriver + 182977\n5   chromedriver                        0x00000001042e4d5c chromedriver + 183644\n6   chromedriver                        0x0000000104311e29 chromedriver + 368169\n7   chromedriver                        0x0000000104334962 chromedriver + 510306\n8   chromedriver                        0x000000010430bf45 chromedriver + 343877\n9   chromedriver                        0x0000000104334c7e chromedriver + 511102\n10  chromedriver                        0x0000000104347462 chromedriver + 586850\n11  chromedriver                        0x0000000104334c23 chromedriver + 511011\n12  chromedriver                        0x000000010430a75e chromedriver + 337758\n13  chromedriver                        0x000000010430ba95 chromedriver + 342677\n14  chromedriver                        0x00000001047558ab __gxx_personality_v0 + 305803\n15  chromedriver                        0x000000010476c863 __gxx_personality_v0 + 399939\n16  chromedriver                        0x0000000104771c7f __gxx_personality_v0 + 421471\n17  chromedriver                        0x000000010476dbba __gxx_personality_v0 + 404890\n18  chromedriver                        0x0000000104749e51 __gxx_personality_v0 + 258097\n19  chromedriver                        0x0000000104789158 __gxx_personality_v0 + 516920\n20  chromedriver                        0x00000001047892e1 __gxx_personality_v0 + 517313\n21  chromedriver                        0x00000001047a06f8 __gxx_personality_v0 + 612568\n22  libsystem_pthread.dylib             0x00007fff616052eb _pthread_body + 126\n23  libsystem_pthread.dylib             0x00007fff61608249 _pthread_start + 66\n24  libsystem_pthread.dylib             0x00007fff6160440d thread_start + 13\n"
     ]
    }
   ],
   "source": [
    "\n",
    "divs=driver.find_elements_by_css_selector('.m-largeNoteWrapper__card')\n",
    "print(divs)\n",
    "\n",
    "result={'titles':[],'contents':[]}\n",
    "urls=[]\n",
    "titles=[]\n",
    "contents=[]\n",
    "\n",
    "\n",
    "for div in divs:\n",
    "    a = div.find_element_by_css_selector('a')\n",
    "    url=a.get_attribute('href')\n",
    "    title=div.find_element_by_css_selector('h3').text\n",
    "    urls.append(url)\n",
    "    titles.append(title)\n",
    "    \n",
    "    for url in urls:\n",
    "        options_a = ChromeOptions()\n",
    "        options_a.headless = True\n",
    "        detail_driver = Chrome(options=options_a)\n",
    "        detail_driver.get(url)\n",
    "        div=detail_driver.find_elements_by_css_selector('p')\n",
    "        content=[]\n",
    "        for p in div:\n",
    "            content.append(p.text)\n",
    "        contents.append(content)\n",
    "result['titles']=titles\n",
    "result['contents']=contents\n"
   ]
  },
  {
   "cell_type": "code",
   "execution_count": 11,
   "id": "f8192a8b",
   "metadata": {},
   "outputs": [
    {
     "ename": "NameError",
     "evalue": "name 'result' is not defined",
     "output_type": "error",
     "traceback": [
      "\u001b[0;31m---------------------------------------------------------------------------\u001b[0m",
      "\u001b[0;31mNameError\u001b[0m                                 Traceback (most recent call last)",
      "\u001b[0;32m/var/folders/_l/3r37kqhd699__pxb_zz12_940000gn/T/ipykernel_32935/1017627383.py\u001b[0m in \u001b[0;36m<module>\u001b[0;34m\u001b[0m\n\u001b[0;32m----> 1\u001b[0;31m \u001b[0mresult\u001b[0m\u001b[0;34m[\u001b[0m\u001b[0;34m'contents'\u001b[0m\u001b[0;34m]\u001b[0m\u001b[0;34m\u001b[0m\u001b[0;34m\u001b[0m\u001b[0m\n\u001b[0m",
      "\u001b[0;31mNameError\u001b[0m: name 'result' is not defined"
     ]
    }
   ],
   "source": [
    "result['contents']"
   ]
  },
  {
   "cell_type": "code",
   "execution_count": null,
   "id": "8487ee81",
   "metadata": {},
   "outputs": [],
   "source": []
  }
 ],
 "metadata": {
  "kernelspec": {
   "display_name": "Python 3 (ipykernel)",
   "language": "python",
   "name": "python3"
  },
  "language_info": {
   "codemirror_mode": {
    "name": "ipython",
    "version": 3
   },
   "file_extension": ".py",
   "mimetype": "text/x-python",
   "name": "python",
   "nbconvert_exporter": "python",
   "pygments_lexer": "ipython3",
   "version": "3.9.5"
  }
 },
 "nbformat": 4,
 "nbformat_minor": 5
}
